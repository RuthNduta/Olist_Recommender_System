{
 "cells": [
  {
   "cell_type": "markdown",
   "metadata": {},
   "source": [
    "## Capstone 2 Proposal: Customer Satisfaction in OList\n",
    "\n",
    "One of the prominent e-commerce sites for sellers in Brazil is OList, a company that connects merchants and their products to the main marketplaces in the country. In order to maintain a balance in the relationship with merchants and customers they must monitor and maintain a number of different areas of their business such as customer satisfaction, product quality, and delivery performance. Being that OList is a relatively new privately owned company that is up and coming in Brazil, one of the most important factors in maintaining their brand reputation and integrity is customer satisfaction. Since OList connects merchants with customers it is important to identify which products in what areas are contributing to high satisfaction. Similarly, they need to monitor areas of low satisfaction and make decisions on how to manage them.\n",
    "\n",
    "The purpose of my work will be to analyze customer satisfaction and identify what factors contribute to high and low ratings. What are the highest indicators of whether a product will be successful? What areas of the supply chain correlate most to customer satisfaction? How do successful merchants relate to one another, and similarly with unsuccessful ones? What types of products are most prone to polarizing ratings? When are customers more likely to be satisfied with their purchase? My goal is to use exploratory analysis as a starting point to investigate the overall problem of improving customer satisfaction, and by clearly identifying what areas are most important in determining the outcome of a product's success. \n",
    "\n",
    "I eventually want to predict customer satisfaction based on clustering techniques that may identify where more complex commonalities may occur. This can be done with scikit- learn's clustering library for grouping through unsupervised means. My approach will be informed by learnings from the exploratory and statistical analysis phases primarily and will use data from customer reviews and ratings along with merchant-ids and detailed product information. \n",
    "\n",
    "The data used is provided by [kaggle](https://www.kaggle.com/olistbr/brazilian-ecommerce/data?select=product_category_name_translation.csv) and details all aspects of customer and merchant transactions throughout their database. The data will be loaded from the website onto a local jupyter notebook where I will produce my final product. I plan to provide OList with recommendations of where to focus efforts in order to improve customer satisfaction in specific product areas. This will come in the form of a slide deck and code for reproducibility. \n"
   ]
  },
  {
   "cell_type": "markdown",
   "metadata": {},
   "source": [
    "### Load Data"
   ]
  },
  {
   "cell_type": "code",
   "execution_count": 1,
   "metadata": {},
   "outputs": [
    {
     "data": {
      "text/html": [
       "        <script type=\"text/javascript\">\n",
       "        window.PlotlyConfig = {MathJaxConfig: 'local'};\n",
       "        if (window.MathJax) {MathJax.Hub.Config({SVG: {font: \"STIX-Web\"}});}\n",
       "        if (typeof require !== 'undefined') {\n",
       "        require.undef(\"plotly\");\n",
       "        requirejs.config({\n",
       "            paths: {\n",
       "                'plotly': ['https://cdn.plot.ly/plotly-latest.min']\n",
       "            }\n",
       "        });\n",
       "        require(['plotly'], function(Plotly) {\n",
       "            window._Plotly = Plotly;\n",
       "        });\n",
       "        }\n",
       "        </script>\n",
       "        "
      ]
     },
     "metadata": {},
     "output_type": "display_data"
    }
   ],
   "source": [
    "import os\n",
    "import glob\n",
    "import pandas as pd\n",
    "import numpy as np\n",
    "import matplotlib.pyplot as plt\n",
    "import seaborn as sns\n",
    "import matplotlib.dates as mdates\n",
    "import datetime\n",
    "import plotly.offline\n",
    "import cufflinks as cf\n",
    "cf.go_offline()\n",
    "cf.set_config_file(offline=False, world_readable=True)\n",
    "sns.set()"
   ]
  },
  {
   "cell_type": "code",
   "execution_count": 2,
   "metadata": {},
   "outputs": [],
   "source": [
    "def read_in_data(df_names, directory = './'):\n",
    "    '''Read in data into seperate dataframes'''\n",
    "    \n",
    "    # change directory to data storage location\n",
    "    os.chdir(directory)\n",
    "    \n",
    "    # list of filenames\n",
    "    extension = 'csv'\n",
    "    filenames = [i for i in glob.glob('*.{}'.format(extension))]\n",
    "    \n",
    "    # create global dfs within function\n",
    "    for name, file in zip(df_names, filenames):\n",
    "        globals()[name] = pd.read_csv(file)"
   ]
  },
  {
   "cell_type": "code",
   "execution_count": 3,
   "metadata": {
    "scrolled": true
   },
   "outputs": [],
   "source": [
    "# list of prefered dataframe names\n",
    "df_names = ['sellers', 'translation', 'orders', 'order_items', 'customers', \\\n",
    "                'location', 'payments', 'reviews', 'products']\n",
    "directory = 'olist_data'\n",
    "read_in_data(df_names, directory)"
   ]
  },
  {
   "cell_type": "markdown",
   "metadata": {},
   "source": [
    "#### Order Reviews Dataset\n",
    "This dataset includes data about the reviews made by the customers.\n",
    "\n",
    "After a customer purchases the product from Olist Store a seller gets notified to fulfill that order. Once the customer receives the product, or the estimated delivery date is due, the customer gets a satisfaction survey by email where he can give a note for the purchase experience and write down some comments."
   ]
  },
  {
   "cell_type": "code",
   "execution_count": 4,
   "metadata": {},
   "outputs": [],
   "source": [
    "def replace_na_with_text(df, column, new_text):\n",
    "    '''replace missing text with preferred description'''\n",
    "    \n",
    "    # change missing data to appropriate label\n",
    "    df[column] = df[column].replace(np.nan, new_text)"
   ]
  },
  {
   "cell_type": "code",
   "execution_count": 5,
   "metadata": {},
   "outputs": [],
   "source": [
    "replace_na_with_text(df=reviews, column='review_comment_title', new_text='no title')\n",
    "replace_na_with_text(df=reviews, column='review_comment_message', new_text='no comment given')"
   ]
  },
  {
   "cell_type": "code",
   "execution_count": 6,
   "metadata": {},
   "outputs": [],
   "source": [
    "def timestamp_to_datetime(df, columns):\n",
    "    \n",
    "    for col in columns:\n",
    "        df[col] = pd.to_datetime(df[col])"
   ]
  },
  {
   "cell_type": "code",
   "execution_count": 7,
   "metadata": {},
   "outputs": [],
   "source": [
    "columns = ['review_creation_date', 'review_answer_timestamp']\n",
    "timestamp_to_datetime(reviews, columns)"
   ]
  },
  {
   "cell_type": "code",
   "execution_count": 8,
   "metadata": {},
   "outputs": [],
   "source": [
    "def lowercase(df, columns):\n",
    "    '''change all text to lowercase'''\n",
    "    for col in columns:\n",
    "        df[col] = df[col].str.lower()"
   ]
  },
  {
   "cell_type": "code",
   "execution_count": 9,
   "metadata": {},
   "outputs": [],
   "source": [
    "columns = ['review_comment_title', 'review_comment_title']\n",
    "lowercase(reviews, columns)"
   ]
  },
  {
   "cell_type": "code",
   "execution_count": 10,
   "metadata": {},
   "outputs": [
    {
     "data": {
      "text/html": [
       "<div>\n",
       "<style scoped>\n",
       "    .dataframe tbody tr th:only-of-type {\n",
       "        vertical-align: middle;\n",
       "    }\n",
       "\n",
       "    .dataframe tbody tr th {\n",
       "        vertical-align: top;\n",
       "    }\n",
       "\n",
       "    .dataframe thead th {\n",
       "        text-align: right;\n",
       "    }\n",
       "</style>\n",
       "<table border=\"1\" class=\"dataframe\">\n",
       "  <thead>\n",
       "    <tr style=\"text-align: right;\">\n",
       "      <th></th>\n",
       "      <th>review_id</th>\n",
       "      <th>order_id</th>\n",
       "      <th>review_score</th>\n",
       "      <th>review_comment_title</th>\n",
       "      <th>review_comment_message</th>\n",
       "      <th>review_creation_date</th>\n",
       "      <th>review_answer_timestamp</th>\n",
       "    </tr>\n",
       "  </thead>\n",
       "  <tbody>\n",
       "    <tr>\n",
       "      <td>0</td>\n",
       "      <td>7bc2406110b926393aa56f80a40eba40</td>\n",
       "      <td>73fc7af87114b39712e6da79b0a377eb</td>\n",
       "      <td>4</td>\n",
       "      <td>no title</td>\n",
       "      <td>no comment given</td>\n",
       "      <td>2018-01-18</td>\n",
       "      <td>2018-01-18 21:46:59</td>\n",
       "    </tr>\n",
       "    <tr>\n",
       "      <td>1</td>\n",
       "      <td>80e641a11e56f04c1ad469d5645fdfde</td>\n",
       "      <td>a548910a1c6147796b98fdf73dbeba33</td>\n",
       "      <td>5</td>\n",
       "      <td>no title</td>\n",
       "      <td>no comment given</td>\n",
       "      <td>2018-03-10</td>\n",
       "      <td>2018-03-11 03:05:13</td>\n",
       "    </tr>\n",
       "    <tr>\n",
       "      <td>2</td>\n",
       "      <td>228ce5500dc1d8e020d8d1322874b6f0</td>\n",
       "      <td>f9e4b658b201a9f2ecdecbb34bed034b</td>\n",
       "      <td>5</td>\n",
       "      <td>no title</td>\n",
       "      <td>no comment given</td>\n",
       "      <td>2018-02-17</td>\n",
       "      <td>2018-02-18 14:36:24</td>\n",
       "    </tr>\n",
       "    <tr>\n",
       "      <td>3</td>\n",
       "      <td>e64fb393e7b32834bb789ff8bb30750e</td>\n",
       "      <td>658677c97b385a9be170737859d3511b</td>\n",
       "      <td>5</td>\n",
       "      <td>no title</td>\n",
       "      <td>Recebi bem antes do prazo estipulado.</td>\n",
       "      <td>2017-04-21</td>\n",
       "      <td>2017-04-21 22:02:06</td>\n",
       "    </tr>\n",
       "    <tr>\n",
       "      <td>4</td>\n",
       "      <td>f7c4243c7fe1938f181bec41a392bdeb</td>\n",
       "      <td>8e6bfb81e283fa7e4f11123a3fb894f1</td>\n",
       "      <td>5</td>\n",
       "      <td>no title</td>\n",
       "      <td>Parabéns lojas lannister adorei comprar pela I...</td>\n",
       "      <td>2018-03-01</td>\n",
       "      <td>2018-03-02 10:26:53</td>\n",
       "    </tr>\n",
       "  </tbody>\n",
       "</table>\n",
       "</div>"
      ],
      "text/plain": [
       "                          review_id                          order_id  \\\n",
       "0  7bc2406110b926393aa56f80a40eba40  73fc7af87114b39712e6da79b0a377eb   \n",
       "1  80e641a11e56f04c1ad469d5645fdfde  a548910a1c6147796b98fdf73dbeba33   \n",
       "2  228ce5500dc1d8e020d8d1322874b6f0  f9e4b658b201a9f2ecdecbb34bed034b   \n",
       "3  e64fb393e7b32834bb789ff8bb30750e  658677c97b385a9be170737859d3511b   \n",
       "4  f7c4243c7fe1938f181bec41a392bdeb  8e6bfb81e283fa7e4f11123a3fb894f1   \n",
       "\n",
       "   review_score review_comment_title  \\\n",
       "0             4             no title   \n",
       "1             5             no title   \n",
       "2             5             no title   \n",
       "3             5             no title   \n",
       "4             5             no title   \n",
       "\n",
       "                              review_comment_message review_creation_date  \\\n",
       "0                                   no comment given           2018-01-18   \n",
       "1                                   no comment given           2018-03-10   \n",
       "2                                   no comment given           2018-02-17   \n",
       "3              Recebi bem antes do prazo estipulado.           2017-04-21   \n",
       "4  Parabéns lojas lannister adorei comprar pela I...           2018-03-01   \n",
       "\n",
       "  review_answer_timestamp  \n",
       "0     2018-01-18 21:46:59  \n",
       "1     2018-03-11 03:05:13  \n",
       "2     2018-02-18 14:36:24  \n",
       "3     2017-04-21 22:02:06  \n",
       "4     2018-03-02 10:26:53  "
      ]
     },
     "execution_count": 10,
     "metadata": {},
     "output_type": "execute_result"
    }
   ],
   "source": [
    "reviews.head()"
   ]
  },
  {
   "cell_type": "markdown",
   "metadata": {},
   "source": [
    "#### Order Dataset\n",
    "This is the core dataset. From each order you might find all other information."
   ]
  },
  {
   "cell_type": "code",
   "execution_count": 11,
   "metadata": {},
   "outputs": [],
   "source": [
    "# drop rows containing NaN values, this corresponds to no delivery\n",
    "orders.dropna(inplace = True)\n",
    "    \n",
    "# drop canceled orders (3 remaining) and reset index\n",
    "index_to_drop = orders[orders.order_status == 'canceled'].index\n",
    "orders.drop(index_to_drop, inplace=True)\n",
    "orders.reset_index(drop=True, inplace=True)"
   ]
  },
  {
   "cell_type": "code",
   "execution_count": 12,
   "metadata": {},
   "outputs": [],
   "source": [
    "columns_to_datetime = ['order_purchase_timestamp', 'order_approved_at', 'order_delivered_carrier_date', \\\n",
    "                          'order_delivered_customer_date', 'order_estimated_delivery_date']\n",
    "timestamp_to_datetime(orders, columns_to_datetime)"
   ]
  },
  {
   "cell_type": "code",
   "execution_count": 13,
   "metadata": {},
   "outputs": [
    {
     "name": "stdout",
     "output_type": "stream",
     "text": [
      "<class 'pandas.core.frame.DataFrame'>\n",
      "RangeIndex: 96455 entries, 0 to 96454\n",
      "Data columns (total 8 columns):\n",
      "order_id                         96455 non-null object\n",
      "customer_id                      96455 non-null object\n",
      "order_status                     96455 non-null object\n",
      "order_purchase_timestamp         96455 non-null datetime64[ns]\n",
      "order_approved_at                96455 non-null datetime64[ns]\n",
      "order_delivered_carrier_date     96455 non-null datetime64[ns]\n",
      "order_delivered_customer_date    96455 non-null datetime64[ns]\n",
      "order_estimated_delivery_date    96455 non-null datetime64[ns]\n",
      "dtypes: datetime64[ns](5), object(3)\n",
      "memory usage: 5.9+ MB\n"
     ]
    }
   ],
   "source": [
    "orders.info()"
   ]
  },
  {
   "cell_type": "code",
   "execution_count": 14,
   "metadata": {},
   "outputs": [
    {
     "data": {
      "text/html": [
       "<div>\n",
       "<style scoped>\n",
       "    .dataframe tbody tr th:only-of-type {\n",
       "        vertical-align: middle;\n",
       "    }\n",
       "\n",
       "    .dataframe tbody tr th {\n",
       "        vertical-align: top;\n",
       "    }\n",
       "\n",
       "    .dataframe thead th {\n",
       "        text-align: right;\n",
       "    }\n",
       "</style>\n",
       "<table border=\"1\" class=\"dataframe\">\n",
       "  <thead>\n",
       "    <tr style=\"text-align: right;\">\n",
       "      <th></th>\n",
       "      <th>count</th>\n",
       "      <th>unique</th>\n",
       "      <th>top</th>\n",
       "      <th>freq</th>\n",
       "      <th>first</th>\n",
       "      <th>last</th>\n",
       "    </tr>\n",
       "  </thead>\n",
       "  <tbody>\n",
       "    <tr>\n",
       "      <td>order_purchase_timestamp</td>\n",
       "      <td>96455</td>\n",
       "      <td>95933</td>\n",
       "      <td>2018-08-02 12:05:26</td>\n",
       "      <td>3</td>\n",
       "      <td>2016-09-15 12:16:38</td>\n",
       "      <td>2018-08-29 15:00:37</td>\n",
       "    </tr>\n",
       "    <tr>\n",
       "      <td>order_approved_at</td>\n",
       "      <td>96455</td>\n",
       "      <td>88266</td>\n",
       "      <td>2018-02-27 04:31:10</td>\n",
       "      <td>9</td>\n",
       "      <td>2016-09-15 12:16:38</td>\n",
       "      <td>2018-08-29 15:10:26</td>\n",
       "    </tr>\n",
       "    <tr>\n",
       "      <td>order_delivered_carrier_date</td>\n",
       "      <td>96455</td>\n",
       "      <td>80094</td>\n",
       "      <td>2018-05-09 15:48:00</td>\n",
       "      <td>47</td>\n",
       "      <td>2016-10-08 10:34:01</td>\n",
       "      <td>2018-09-11 19:48:28</td>\n",
       "    </tr>\n",
       "    <tr>\n",
       "      <td>order_delivered_customer_date</td>\n",
       "      <td>96455</td>\n",
       "      <td>95643</td>\n",
       "      <td>2018-05-14 20:02:44</td>\n",
       "      <td>3</td>\n",
       "      <td>2016-10-11 13:46:32</td>\n",
       "      <td>2018-10-17 13:22:46</td>\n",
       "    </tr>\n",
       "    <tr>\n",
       "      <td>order_estimated_delivery_date</td>\n",
       "      <td>96455</td>\n",
       "      <td>445</td>\n",
       "      <td>2017-12-20 00:00:00</td>\n",
       "      <td>507</td>\n",
       "      <td>2016-10-04 00:00:00</td>\n",
       "      <td>2018-10-25 00:00:00</td>\n",
       "    </tr>\n",
       "  </tbody>\n",
       "</table>\n",
       "</div>"
      ],
      "text/plain": [
       "                               count unique                 top freq  \\\n",
       "order_purchase_timestamp       96455  95933 2018-08-02 12:05:26    3   \n",
       "order_approved_at              96455  88266 2018-02-27 04:31:10    9   \n",
       "order_delivered_carrier_date   96455  80094 2018-05-09 15:48:00   47   \n",
       "order_delivered_customer_date  96455  95643 2018-05-14 20:02:44    3   \n",
       "order_estimated_delivery_date  96455    445 2017-12-20 00:00:00  507   \n",
       "\n",
       "                                            first                last  \n",
       "order_purchase_timestamp      2016-09-15 12:16:38 2018-08-29 15:00:37  \n",
       "order_approved_at             2016-09-15 12:16:38 2018-08-29 15:10:26  \n",
       "order_delivered_carrier_date  2016-10-08 10:34:01 2018-09-11 19:48:28  \n",
       "order_delivered_customer_date 2016-10-11 13:46:32 2018-10-17 13:22:46  \n",
       "order_estimated_delivery_date 2016-10-04 00:00:00 2018-10-25 00:00:00  "
      ]
     },
     "execution_count": 14,
     "metadata": {},
     "output_type": "execute_result"
    }
   ],
   "source": [
    "orders.describe(exclude=object).T"
   ]
  },
  {
   "cell_type": "code",
   "execution_count": 15,
   "metadata": {},
   "outputs": [
    {
     "data": {
      "text/html": [
       "<div>\n",
       "<style scoped>\n",
       "    .dataframe tbody tr th:only-of-type {\n",
       "        vertical-align: middle;\n",
       "    }\n",
       "\n",
       "    .dataframe tbody tr th {\n",
       "        vertical-align: top;\n",
       "    }\n",
       "\n",
       "    .dataframe thead th {\n",
       "        text-align: right;\n",
       "    }\n",
       "</style>\n",
       "<table border=\"1\" class=\"dataframe\">\n",
       "  <thead>\n",
       "    <tr style=\"text-align: right;\">\n",
       "      <th></th>\n",
       "      <th>count</th>\n",
       "      <th>unique</th>\n",
       "      <th>top</th>\n",
       "      <th>freq</th>\n",
       "    </tr>\n",
       "  </thead>\n",
       "  <tbody>\n",
       "    <tr>\n",
       "      <td>order_id</td>\n",
       "      <td>96455</td>\n",
       "      <td>96455</td>\n",
       "      <td>4ede14dc839603196ec790137877bf71</td>\n",
       "      <td>1</td>\n",
       "    </tr>\n",
       "    <tr>\n",
       "      <td>customer_id</td>\n",
       "      <td>96455</td>\n",
       "      <td>96455</td>\n",
       "      <td>842ef6046022a1d598171ceba0f88b84</td>\n",
       "      <td>1</td>\n",
       "    </tr>\n",
       "    <tr>\n",
       "      <td>order_status</td>\n",
       "      <td>96455</td>\n",
       "      <td>1</td>\n",
       "      <td>delivered</td>\n",
       "      <td>96455</td>\n",
       "    </tr>\n",
       "  </tbody>\n",
       "</table>\n",
       "</div>"
      ],
      "text/plain": [
       "              count unique                               top   freq\n",
       "order_id      96455  96455  4ede14dc839603196ec790137877bf71      1\n",
       "customer_id   96455  96455  842ef6046022a1d598171ceba0f88b84      1\n",
       "order_status  96455      1                         delivered  96455"
      ]
     },
     "execution_count": 15,
     "metadata": {},
     "output_type": "execute_result"
    }
   ],
   "source": [
    "orders.describe(exclude='datetime').T"
   ]
  },
  {
   "cell_type": "markdown",
   "metadata": {},
   "source": [
    "#### Products Dataset\n",
    "This dataset includes data about the products sold by Olist.\n"
   ]
  },
  {
   "cell_type": "code",
   "execution_count": 16,
   "metadata": {},
   "outputs": [
    {
     "name": "stdout",
     "output_type": "stream",
     "text": [
      "<class 'pandas.core.frame.DataFrame'>\n",
      "RangeIndex: 32951 entries, 0 to 32950\n",
      "Data columns (total 9 columns):\n",
      "product_id                    32951 non-null object\n",
      "product_category_name         32341 non-null object\n",
      "product_name_lenght           32341 non-null float64\n",
      "product_description_lenght    32341 non-null float64\n",
      "product_photos_qty            32341 non-null float64\n",
      "product_weight_g              32949 non-null float64\n",
      "product_length_cm             32949 non-null float64\n",
      "product_height_cm             32949 non-null float64\n",
      "product_width_cm              32949 non-null float64\n",
      "dtypes: float64(7), object(2)\n",
      "memory usage: 2.3+ MB\n"
     ]
    }
   ],
   "source": [
    "products.info()"
   ]
  },
  {
   "cell_type": "code",
   "execution_count": 17,
   "metadata": {},
   "outputs": [],
   "source": [
    "# drop products with no description\n",
    "products.dropna(inplace = True)\n",
    "products.reset_index(drop = True, inplace = True)"
   ]
  },
  {
   "cell_type": "code",
   "execution_count": 18,
   "metadata": {},
   "outputs": [],
   "source": [
    "def translate_column_with_df(df_original, df_translation, column_original, column_translation): \n",
    "    '''Translate column, given df with translation'''\n",
    "    \n",
    "    # convert translation to dictionary to extract key, value pairs\n",
    "    df_translation = df_translation.set_index(column_original)\n",
    "    df_translation = df_translation.to_dict('dict')\n",
    "    \n",
    "    # map translations\n",
    "    df_original[column_original] = df_original[column_original]\\\n",
    "                                               .map(df_translation[column_translation])"
   ]
  },
  {
   "cell_type": "code",
   "execution_count": 19,
   "metadata": {},
   "outputs": [],
   "source": [
    "translate_column_with_df(products, translation, 'product_category_name', 'product_category_name_english')"
   ]
  },
  {
   "cell_type": "code",
   "execution_count": 20,
   "metadata": {},
   "outputs": [
    {
     "data": {
      "text/html": [
       "<div>\n",
       "<style scoped>\n",
       "    .dataframe tbody tr th:only-of-type {\n",
       "        vertical-align: middle;\n",
       "    }\n",
       "\n",
       "    .dataframe tbody tr th {\n",
       "        vertical-align: top;\n",
       "    }\n",
       "\n",
       "    .dataframe thead th {\n",
       "        text-align: right;\n",
       "    }\n",
       "</style>\n",
       "<table border=\"1\" class=\"dataframe\">\n",
       "  <thead>\n",
       "    <tr style=\"text-align: right;\">\n",
       "      <th></th>\n",
       "      <th>count</th>\n",
       "      <th>unique</th>\n",
       "      <th>top</th>\n",
       "      <th>freq</th>\n",
       "    </tr>\n",
       "  </thead>\n",
       "  <tbody>\n",
       "    <tr>\n",
       "      <td>product_id</td>\n",
       "      <td>32340</td>\n",
       "      <td>32340</td>\n",
       "      <td>63c0e572201a0411c48dd051f0b316ad</td>\n",
       "      <td>1</td>\n",
       "    </tr>\n",
       "    <tr>\n",
       "      <td>product_category_name</td>\n",
       "      <td>32327</td>\n",
       "      <td>71</td>\n",
       "      <td>bed_bath_table</td>\n",
       "      <td>3029</td>\n",
       "    </tr>\n",
       "  </tbody>\n",
       "</table>\n",
       "</div>"
      ],
      "text/plain": [
       "                       count unique                               top  freq\n",
       "product_id             32340  32340  63c0e572201a0411c48dd051f0b316ad     1\n",
       "product_category_name  32327     71                    bed_bath_table  3029"
      ]
     },
     "execution_count": 20,
     "metadata": {},
     "output_type": "execute_result"
    }
   ],
   "source": [
    "products.describe(exclude=float).T"
   ]
  },
  {
   "cell_type": "markdown",
   "metadata": {},
   "source": [
    "> Over 32,000 products within 71 categories"
   ]
  },
  {
   "cell_type": "code",
   "execution_count": 21,
   "metadata": {
    "scrolled": true
   },
   "outputs": [
    {
     "data": {
      "text/html": [
       "<div>\n",
       "<style scoped>\n",
       "    .dataframe tbody tr th:only-of-type {\n",
       "        vertical-align: middle;\n",
       "    }\n",
       "\n",
       "    .dataframe tbody tr th {\n",
       "        vertical-align: top;\n",
       "    }\n",
       "\n",
       "    .dataframe thead th {\n",
       "        text-align: right;\n",
       "    }\n",
       "</style>\n",
       "<table border=\"1\" class=\"dataframe\">\n",
       "  <thead>\n",
       "    <tr style=\"text-align: right;\">\n",
       "      <th></th>\n",
       "      <th>count</th>\n",
       "      <th>mean</th>\n",
       "      <th>std</th>\n",
       "      <th>min</th>\n",
       "      <th>25%</th>\n",
       "      <th>50%</th>\n",
       "      <th>75%</th>\n",
       "      <th>max</th>\n",
       "    </tr>\n",
       "  </thead>\n",
       "  <tbody>\n",
       "    <tr>\n",
       "      <td>product_name_lenght</td>\n",
       "      <td>32340.0</td>\n",
       "      <td>48.476592</td>\n",
       "      <td>10.245699</td>\n",
       "      <td>5.0</td>\n",
       "      <td>42.0</td>\n",
       "      <td>51.0</td>\n",
       "      <td>57.0</td>\n",
       "      <td>76.0</td>\n",
       "    </tr>\n",
       "    <tr>\n",
       "      <td>product_description_lenght</td>\n",
       "      <td>32340.0</td>\n",
       "      <td>771.492393</td>\n",
       "      <td>635.124831</td>\n",
       "      <td>4.0</td>\n",
       "      <td>339.0</td>\n",
       "      <td>595.0</td>\n",
       "      <td>972.0</td>\n",
       "      <td>3992.0</td>\n",
       "    </tr>\n",
       "    <tr>\n",
       "      <td>product_photos_qty</td>\n",
       "      <td>32340.0</td>\n",
       "      <td>2.188961</td>\n",
       "      <td>1.736787</td>\n",
       "      <td>1.0</td>\n",
       "      <td>1.0</td>\n",
       "      <td>1.0</td>\n",
       "      <td>3.0</td>\n",
       "      <td>20.0</td>\n",
       "    </tr>\n",
       "    <tr>\n",
       "      <td>product_weight_g</td>\n",
       "      <td>32340.0</td>\n",
       "      <td>2276.956586</td>\n",
       "      <td>4279.291845</td>\n",
       "      <td>0.0</td>\n",
       "      <td>300.0</td>\n",
       "      <td>700.0</td>\n",
       "      <td>1900.0</td>\n",
       "      <td>40425.0</td>\n",
       "    </tr>\n",
       "    <tr>\n",
       "      <td>product_length_cm</td>\n",
       "      <td>32340.0</td>\n",
       "      <td>30.854545</td>\n",
       "      <td>16.955965</td>\n",
       "      <td>7.0</td>\n",
       "      <td>18.0</td>\n",
       "      <td>25.0</td>\n",
       "      <td>38.0</td>\n",
       "      <td>105.0</td>\n",
       "    </tr>\n",
       "    <tr>\n",
       "      <td>product_height_cm</td>\n",
       "      <td>32340.0</td>\n",
       "      <td>16.958813</td>\n",
       "      <td>13.636115</td>\n",
       "      <td>2.0</td>\n",
       "      <td>8.0</td>\n",
       "      <td>13.0</td>\n",
       "      <td>21.0</td>\n",
       "      <td>105.0</td>\n",
       "    </tr>\n",
       "    <tr>\n",
       "      <td>product_width_cm</td>\n",
       "      <td>32340.0</td>\n",
       "      <td>23.208596</td>\n",
       "      <td>12.078762</td>\n",
       "      <td>6.0</td>\n",
       "      <td>15.0</td>\n",
       "      <td>20.0</td>\n",
       "      <td>30.0</td>\n",
       "      <td>118.0</td>\n",
       "    </tr>\n",
       "  </tbody>\n",
       "</table>\n",
       "</div>"
      ],
      "text/plain": [
       "                              count         mean          std  min    25%  \\\n",
       "product_name_lenght         32340.0    48.476592    10.245699  5.0   42.0   \n",
       "product_description_lenght  32340.0   771.492393   635.124831  4.0  339.0   \n",
       "product_photos_qty          32340.0     2.188961     1.736787  1.0    1.0   \n",
       "product_weight_g            32340.0  2276.956586  4279.291845  0.0  300.0   \n",
       "product_length_cm           32340.0    30.854545    16.955965  7.0   18.0   \n",
       "product_height_cm           32340.0    16.958813    13.636115  2.0    8.0   \n",
       "product_width_cm            32340.0    23.208596    12.078762  6.0   15.0   \n",
       "\n",
       "                              50%     75%      max  \n",
       "product_name_lenght          51.0    57.0     76.0  \n",
       "product_description_lenght  595.0   972.0   3992.0  \n",
       "product_photos_qty            1.0     3.0     20.0  \n",
       "product_weight_g            700.0  1900.0  40425.0  \n",
       "product_length_cm            25.0    38.0    105.0  \n",
       "product_height_cm            13.0    21.0    105.0  \n",
       "product_width_cm             20.0    30.0    118.0  "
      ]
     },
     "execution_count": 21,
     "metadata": {},
     "output_type": "execute_result"
    }
   ],
   "source": [
    "products.describe(exclude=object).T"
   ]
  },
  {
   "cell_type": "markdown",
   "metadata": {},
   "source": [
    "#### Sellers Dataset\n",
    "This dataset includes data about the sellers that fulfilled orders made at Olist. Use it to find the seller location and to identify which seller fulfilled each product."
   ]
  },
  {
   "cell_type": "code",
   "execution_count": 22,
   "metadata": {
    "scrolled": true
   },
   "outputs": [
    {
     "data": {
      "text/html": [
       "<div>\n",
       "<style scoped>\n",
       "    .dataframe tbody tr th:only-of-type {\n",
       "        vertical-align: middle;\n",
       "    }\n",
       "\n",
       "    .dataframe tbody tr th {\n",
       "        vertical-align: top;\n",
       "    }\n",
       "\n",
       "    .dataframe thead th {\n",
       "        text-align: right;\n",
       "    }\n",
       "</style>\n",
       "<table border=\"1\" class=\"dataframe\">\n",
       "  <thead>\n",
       "    <tr style=\"text-align: right;\">\n",
       "      <th></th>\n",
       "      <th>seller_id</th>\n",
       "      <th>seller_zip_code_prefix</th>\n",
       "      <th>seller_city</th>\n",
       "      <th>seller_state</th>\n",
       "    </tr>\n",
       "  </thead>\n",
       "  <tbody>\n",
       "    <tr>\n",
       "      <td>0</td>\n",
       "      <td>3442f8959a84dea7ee197c632cb2df15</td>\n",
       "      <td>13023</td>\n",
       "      <td>campinas</td>\n",
       "      <td>SP</td>\n",
       "    </tr>\n",
       "    <tr>\n",
       "      <td>1</td>\n",
       "      <td>d1b65fc7debc3361ea86b5f14c68d2e2</td>\n",
       "      <td>13844</td>\n",
       "      <td>mogi guacu</td>\n",
       "      <td>SP</td>\n",
       "    </tr>\n",
       "    <tr>\n",
       "      <td>2</td>\n",
       "      <td>ce3ad9de960102d0677a81f5d0bb7b2d</td>\n",
       "      <td>20031</td>\n",
       "      <td>rio de janeiro</td>\n",
       "      <td>RJ</td>\n",
       "    </tr>\n",
       "    <tr>\n",
       "      <td>3</td>\n",
       "      <td>c0f3eea2e14555b6faeea3dd58c1b1c3</td>\n",
       "      <td>4195</td>\n",
       "      <td>sao paulo</td>\n",
       "      <td>SP</td>\n",
       "    </tr>\n",
       "    <tr>\n",
       "      <td>4</td>\n",
       "      <td>51a04a8a6bdcb23deccc82b0b80742cf</td>\n",
       "      <td>12914</td>\n",
       "      <td>braganca paulista</td>\n",
       "      <td>SP</td>\n",
       "    </tr>\n",
       "  </tbody>\n",
       "</table>\n",
       "</div>"
      ],
      "text/plain": [
       "                          seller_id  seller_zip_code_prefix  \\\n",
       "0  3442f8959a84dea7ee197c632cb2df15                   13023   \n",
       "1  d1b65fc7debc3361ea86b5f14c68d2e2                   13844   \n",
       "2  ce3ad9de960102d0677a81f5d0bb7b2d                   20031   \n",
       "3  c0f3eea2e14555b6faeea3dd58c1b1c3                    4195   \n",
       "4  51a04a8a6bdcb23deccc82b0b80742cf                   12914   \n",
       "\n",
       "         seller_city seller_state  \n",
       "0           campinas           SP  \n",
       "1         mogi guacu           SP  \n",
       "2     rio de janeiro           RJ  \n",
       "3          sao paulo           SP  \n",
       "4  braganca paulista           SP  "
      ]
     },
     "execution_count": 22,
     "metadata": {},
     "output_type": "execute_result"
    }
   ],
   "source": [
    "sellers.head()"
   ]
  },
  {
   "cell_type": "code",
   "execution_count": 23,
   "metadata": {},
   "outputs": [
    {
     "name": "stdout",
     "output_type": "stream",
     "text": [
      "<class 'pandas.core.frame.DataFrame'>\n",
      "RangeIndex: 3095 entries, 0 to 3094\n",
      "Data columns (total 4 columns):\n",
      "seller_id                 3095 non-null object\n",
      "seller_zip_code_prefix    3095 non-null int64\n",
      "seller_city               3095 non-null object\n",
      "seller_state              3095 non-null object\n",
      "dtypes: int64(1), object(3)\n",
      "memory usage: 96.8+ KB\n"
     ]
    }
   ],
   "source": [
    "sellers.info()"
   ]
  },
  {
   "cell_type": "markdown",
   "metadata": {},
   "source": [
    "#### Customers Dataset\n",
    "This dataset has information about the customer and its location. Use it to identify unique customers in the orders dataset and to find the orders delivery location.\n",
    "\n",
    "At our system each order is assigned to a unique customerid. This means that the same customer will get different ids for different orders. The purpose of having a customerunique_id on the dataset is to allow you to identify customers that made repurchases at the store. Otherwise you would find that each order had a different customer associated with."
   ]
  },
  {
   "cell_type": "code",
   "execution_count": 24,
   "metadata": {
    "scrolled": false
   },
   "outputs": [
    {
     "data": {
      "text/html": [
       "<div>\n",
       "<style scoped>\n",
       "    .dataframe tbody tr th:only-of-type {\n",
       "        vertical-align: middle;\n",
       "    }\n",
       "\n",
       "    .dataframe tbody tr th {\n",
       "        vertical-align: top;\n",
       "    }\n",
       "\n",
       "    .dataframe thead th {\n",
       "        text-align: right;\n",
       "    }\n",
       "</style>\n",
       "<table border=\"1\" class=\"dataframe\">\n",
       "  <thead>\n",
       "    <tr style=\"text-align: right;\">\n",
       "      <th></th>\n",
       "      <th>customer_id</th>\n",
       "      <th>customer_unique_id</th>\n",
       "      <th>customer_zip_code_prefix</th>\n",
       "      <th>customer_city</th>\n",
       "      <th>customer_state</th>\n",
       "    </tr>\n",
       "  </thead>\n",
       "  <tbody>\n",
       "    <tr>\n",
       "      <td>0</td>\n",
       "      <td>06b8999e2fba1a1fbc88172c00ba8bc7</td>\n",
       "      <td>861eff4711a542e4b93843c6dd7febb0</td>\n",
       "      <td>14409</td>\n",
       "      <td>franca</td>\n",
       "      <td>SP</td>\n",
       "    </tr>\n",
       "    <tr>\n",
       "      <td>1</td>\n",
       "      <td>18955e83d337fd6b2def6b18a428ac77</td>\n",
       "      <td>290c77bc529b7ac935b93aa66c333dc3</td>\n",
       "      <td>9790</td>\n",
       "      <td>sao bernardo do campo</td>\n",
       "      <td>SP</td>\n",
       "    </tr>\n",
       "    <tr>\n",
       "      <td>2</td>\n",
       "      <td>4e7b3e00288586ebd08712fdd0374a03</td>\n",
       "      <td>060e732b5b29e8181a18229c7b0b2b5e</td>\n",
       "      <td>1151</td>\n",
       "      <td>sao paulo</td>\n",
       "      <td>SP</td>\n",
       "    </tr>\n",
       "    <tr>\n",
       "      <td>3</td>\n",
       "      <td>b2b6027bc5c5109e529d4dc6358b12c3</td>\n",
       "      <td>259dac757896d24d7702b9acbbff3f3c</td>\n",
       "      <td>8775</td>\n",
       "      <td>mogi das cruzes</td>\n",
       "      <td>SP</td>\n",
       "    </tr>\n",
       "    <tr>\n",
       "      <td>4</td>\n",
       "      <td>4f2d8ab171c80ec8364f7c12e35b23ad</td>\n",
       "      <td>345ecd01c38d18a9036ed96c73b8d066</td>\n",
       "      <td>13056</td>\n",
       "      <td>campinas</td>\n",
       "      <td>SP</td>\n",
       "    </tr>\n",
       "  </tbody>\n",
       "</table>\n",
       "</div>"
      ],
      "text/plain": [
       "                        customer_id                customer_unique_id  \\\n",
       "0  06b8999e2fba1a1fbc88172c00ba8bc7  861eff4711a542e4b93843c6dd7febb0   \n",
       "1  18955e83d337fd6b2def6b18a428ac77  290c77bc529b7ac935b93aa66c333dc3   \n",
       "2  4e7b3e00288586ebd08712fdd0374a03  060e732b5b29e8181a18229c7b0b2b5e   \n",
       "3  b2b6027bc5c5109e529d4dc6358b12c3  259dac757896d24d7702b9acbbff3f3c   \n",
       "4  4f2d8ab171c80ec8364f7c12e35b23ad  345ecd01c38d18a9036ed96c73b8d066   \n",
       "\n",
       "   customer_zip_code_prefix          customer_city customer_state  \n",
       "0                     14409                 franca             SP  \n",
       "1                      9790  sao bernardo do campo             SP  \n",
       "2                      1151              sao paulo             SP  \n",
       "3                      8775        mogi das cruzes             SP  \n",
       "4                     13056               campinas             SP  "
      ]
     },
     "execution_count": 24,
     "metadata": {},
     "output_type": "execute_result"
    }
   ],
   "source": [
    "customers.head()"
   ]
  },
  {
   "cell_type": "code",
   "execution_count": 25,
   "metadata": {},
   "outputs": [
    {
     "name": "stdout",
     "output_type": "stream",
     "text": [
      "<class 'pandas.core.frame.DataFrame'>\n",
      "RangeIndex: 99441 entries, 0 to 99440\n",
      "Data columns (total 5 columns):\n",
      "customer_id                 99441 non-null object\n",
      "customer_unique_id          99441 non-null object\n",
      "customer_zip_code_prefix    99441 non-null int64\n",
      "customer_city               99441 non-null object\n",
      "customer_state              99441 non-null object\n",
      "dtypes: int64(1), object(4)\n",
      "memory usage: 3.8+ MB\n"
     ]
    }
   ],
   "source": [
    "customers.info()"
   ]
  },
  {
   "cell_type": "markdown",
   "metadata": {},
   "source": [
    "#### Order Items Dataset\n",
    "This dataset includes data about the items purchased within each order."
   ]
  },
  {
   "cell_type": "code",
   "execution_count": 26,
   "metadata": {
    "scrolled": false
   },
   "outputs": [],
   "source": [
    "timestamp_to_datetime(order_items, ['shipping_limit_date'])"
   ]
  },
  {
   "cell_type": "code",
   "execution_count": 27,
   "metadata": {},
   "outputs": [
    {
     "data": {
      "text/html": [
       "<div>\n",
       "<style scoped>\n",
       "    .dataframe tbody tr th:only-of-type {\n",
       "        vertical-align: middle;\n",
       "    }\n",
       "\n",
       "    .dataframe tbody tr th {\n",
       "        vertical-align: top;\n",
       "    }\n",
       "\n",
       "    .dataframe thead th {\n",
       "        text-align: right;\n",
       "    }\n",
       "</style>\n",
       "<table border=\"1\" class=\"dataframe\">\n",
       "  <thead>\n",
       "    <tr style=\"text-align: right;\">\n",
       "      <th></th>\n",
       "      <th>order_id</th>\n",
       "      <th>order_item_id</th>\n",
       "      <th>product_id</th>\n",
       "      <th>seller_id</th>\n",
       "      <th>shipping_limit_date</th>\n",
       "      <th>price</th>\n",
       "      <th>freight_value</th>\n",
       "    </tr>\n",
       "  </thead>\n",
       "  <tbody>\n",
       "    <tr>\n",
       "      <td>0</td>\n",
       "      <td>00010242fe8c5a6d1ba2dd792cb16214</td>\n",
       "      <td>1</td>\n",
       "      <td>4244733e06e7ecb4970a6e2683c13e61</td>\n",
       "      <td>48436dade18ac8b2bce089ec2a041202</td>\n",
       "      <td>2017-09-19 09:45:35</td>\n",
       "      <td>58.90</td>\n",
       "      <td>13.29</td>\n",
       "    </tr>\n",
       "    <tr>\n",
       "      <td>1</td>\n",
       "      <td>00018f77f2f0320c557190d7a144bdd3</td>\n",
       "      <td>1</td>\n",
       "      <td>e5f2d52b802189ee658865ca93d83a8f</td>\n",
       "      <td>dd7ddc04e1b6c2c614352b383efe2d36</td>\n",
       "      <td>2017-05-03 11:05:13</td>\n",
       "      <td>239.90</td>\n",
       "      <td>19.93</td>\n",
       "    </tr>\n",
       "    <tr>\n",
       "      <td>2</td>\n",
       "      <td>000229ec398224ef6ca0657da4fc703e</td>\n",
       "      <td>1</td>\n",
       "      <td>c777355d18b72b67abbeef9df44fd0fd</td>\n",
       "      <td>5b51032eddd242adc84c38acab88f23d</td>\n",
       "      <td>2018-01-18 14:48:30</td>\n",
       "      <td>199.00</td>\n",
       "      <td>17.87</td>\n",
       "    </tr>\n",
       "    <tr>\n",
       "      <td>3</td>\n",
       "      <td>00024acbcdf0a6daa1e931b038114c75</td>\n",
       "      <td>1</td>\n",
       "      <td>7634da152a4610f1595efa32f14722fc</td>\n",
       "      <td>9d7a1d34a5052409006425275ba1c2b4</td>\n",
       "      <td>2018-08-15 10:10:18</td>\n",
       "      <td>12.99</td>\n",
       "      <td>12.79</td>\n",
       "    </tr>\n",
       "    <tr>\n",
       "      <td>4</td>\n",
       "      <td>00042b26cf59d7ce69dfabb4e55b4fd9</td>\n",
       "      <td>1</td>\n",
       "      <td>ac6c3623068f30de03045865e4e10089</td>\n",
       "      <td>df560393f3a51e74553ab94004ba5c87</td>\n",
       "      <td>2017-02-13 13:57:51</td>\n",
       "      <td>199.90</td>\n",
       "      <td>18.14</td>\n",
       "    </tr>\n",
       "  </tbody>\n",
       "</table>\n",
       "</div>"
      ],
      "text/plain": [
       "                           order_id  order_item_id  \\\n",
       "0  00010242fe8c5a6d1ba2dd792cb16214              1   \n",
       "1  00018f77f2f0320c557190d7a144bdd3              1   \n",
       "2  000229ec398224ef6ca0657da4fc703e              1   \n",
       "3  00024acbcdf0a6daa1e931b038114c75              1   \n",
       "4  00042b26cf59d7ce69dfabb4e55b4fd9              1   \n",
       "\n",
       "                         product_id                         seller_id  \\\n",
       "0  4244733e06e7ecb4970a6e2683c13e61  48436dade18ac8b2bce089ec2a041202   \n",
       "1  e5f2d52b802189ee658865ca93d83a8f  dd7ddc04e1b6c2c614352b383efe2d36   \n",
       "2  c777355d18b72b67abbeef9df44fd0fd  5b51032eddd242adc84c38acab88f23d   \n",
       "3  7634da152a4610f1595efa32f14722fc  9d7a1d34a5052409006425275ba1c2b4   \n",
       "4  ac6c3623068f30de03045865e4e10089  df560393f3a51e74553ab94004ba5c87   \n",
       "\n",
       "  shipping_limit_date   price  freight_value  \n",
       "0 2017-09-19 09:45:35   58.90          13.29  \n",
       "1 2017-05-03 11:05:13  239.90          19.93  \n",
       "2 2018-01-18 14:48:30  199.00          17.87  \n",
       "3 2018-08-15 10:10:18   12.99          12.79  \n",
       "4 2017-02-13 13:57:51  199.90          18.14  "
      ]
     },
     "execution_count": 27,
     "metadata": {},
     "output_type": "execute_result"
    }
   ],
   "source": [
    "order_items.head()"
   ]
  },
  {
   "cell_type": "code",
   "execution_count": 28,
   "metadata": {},
   "outputs": [
    {
     "name": "stdout",
     "output_type": "stream",
     "text": [
      "<class 'pandas.core.frame.DataFrame'>\n",
      "RangeIndex: 112650 entries, 0 to 112649\n",
      "Data columns (total 7 columns):\n",
      "order_id               112650 non-null object\n",
      "order_item_id          112650 non-null int64\n",
      "product_id             112650 non-null object\n",
      "seller_id              112650 non-null object\n",
      "shipping_limit_date    112650 non-null datetime64[ns]\n",
      "price                  112650 non-null float64\n",
      "freight_value          112650 non-null float64\n",
      "dtypes: datetime64[ns](1), float64(2), int64(1), object(3)\n",
      "memory usage: 6.0+ MB\n"
     ]
    }
   ],
   "source": [
    "order_items.info()"
   ]
  },
  {
   "cell_type": "markdown",
   "metadata": {},
   "source": [
    "#### Geolocation Dataset\n",
    "This dataset has information Brazilian zip codes and its lat/lng coordinates. Use it to plot maps and find distances between sellers and customers."
   ]
  },
  {
   "cell_type": "code",
   "execution_count": 29,
   "metadata": {
    "scrolled": true
   },
   "outputs": [
    {
     "name": "stdout",
     "output_type": "stream",
     "text": [
      "<class 'pandas.core.frame.DataFrame'>\n",
      "RangeIndex: 1000163 entries, 0 to 1000162\n",
      "Data columns (total 5 columns):\n",
      "geolocation_zip_code_prefix    1000163 non-null int64\n",
      "geolocation_lat                1000163 non-null float64\n",
      "geolocation_lng                1000163 non-null float64\n",
      "geolocation_city               1000163 non-null object\n",
      "geolocation_state              1000163 non-null object\n",
      "dtypes: float64(2), int64(1), object(2)\n",
      "memory usage: 38.2+ MB\n"
     ]
    }
   ],
   "source": [
    "location.info()"
   ]
  },
  {
   "cell_type": "code",
   "execution_count": 30,
   "metadata": {},
   "outputs": [
    {
     "data": {
      "text/html": [
       "<div>\n",
       "<style scoped>\n",
       "    .dataframe tbody tr th:only-of-type {\n",
       "        vertical-align: middle;\n",
       "    }\n",
       "\n",
       "    .dataframe tbody tr th {\n",
       "        vertical-align: top;\n",
       "    }\n",
       "\n",
       "    .dataframe thead th {\n",
       "        text-align: right;\n",
       "    }\n",
       "</style>\n",
       "<table border=\"1\" class=\"dataframe\">\n",
       "  <thead>\n",
       "    <tr style=\"text-align: right;\">\n",
       "      <th></th>\n",
       "      <th>geolocation_zip_code_prefix</th>\n",
       "      <th>geolocation_lat</th>\n",
       "      <th>geolocation_lng</th>\n",
       "      <th>geolocation_city</th>\n",
       "      <th>geolocation_state</th>\n",
       "    </tr>\n",
       "  </thead>\n",
       "  <tbody>\n",
       "    <tr>\n",
       "      <td>0</td>\n",
       "      <td>1037</td>\n",
       "      <td>-23.545621</td>\n",
       "      <td>-46.639292</td>\n",
       "      <td>sao paulo</td>\n",
       "      <td>SP</td>\n",
       "    </tr>\n",
       "    <tr>\n",
       "      <td>1</td>\n",
       "      <td>1046</td>\n",
       "      <td>-23.546081</td>\n",
       "      <td>-46.644820</td>\n",
       "      <td>sao paulo</td>\n",
       "      <td>SP</td>\n",
       "    </tr>\n",
       "    <tr>\n",
       "      <td>2</td>\n",
       "      <td>1046</td>\n",
       "      <td>-23.546129</td>\n",
       "      <td>-46.642951</td>\n",
       "      <td>sao paulo</td>\n",
       "      <td>SP</td>\n",
       "    </tr>\n",
       "    <tr>\n",
       "      <td>3</td>\n",
       "      <td>1041</td>\n",
       "      <td>-23.544392</td>\n",
       "      <td>-46.639499</td>\n",
       "      <td>sao paulo</td>\n",
       "      <td>SP</td>\n",
       "    </tr>\n",
       "    <tr>\n",
       "      <td>4</td>\n",
       "      <td>1035</td>\n",
       "      <td>-23.541578</td>\n",
       "      <td>-46.641607</td>\n",
       "      <td>sao paulo</td>\n",
       "      <td>SP</td>\n",
       "    </tr>\n",
       "  </tbody>\n",
       "</table>\n",
       "</div>"
      ],
      "text/plain": [
       "   geolocation_zip_code_prefix  geolocation_lat  geolocation_lng  \\\n",
       "0                         1037       -23.545621       -46.639292   \n",
       "1                         1046       -23.546081       -46.644820   \n",
       "2                         1046       -23.546129       -46.642951   \n",
       "3                         1041       -23.544392       -46.639499   \n",
       "4                         1035       -23.541578       -46.641607   \n",
       "\n",
       "  geolocation_city geolocation_state  \n",
       "0        sao paulo                SP  \n",
       "1        sao paulo                SP  \n",
       "2        sao paulo                SP  \n",
       "3        sao paulo                SP  \n",
       "4        sao paulo                SP  "
      ]
     },
     "execution_count": 30,
     "metadata": {},
     "output_type": "execute_result"
    }
   ],
   "source": [
    "location.head()"
   ]
  },
  {
   "cell_type": "code",
   "execution_count": 31,
   "metadata": {},
   "outputs": [
    {
     "data": {
      "text/plain": [
       "19015"
      ]
     },
     "execution_count": 31,
     "metadata": {},
     "output_type": "execute_result"
    }
   ],
   "source": [
    "location.geolocation_zip_code_prefix.nunique()"
   ]
  },
  {
   "cell_type": "markdown",
   "metadata": {},
   "source": [
    "> location data seems to have many duplicates with miniscule lat and lng variations between each. Keeping only the first of each zip code will help avoid merge issues later on."
   ]
  },
  {
   "cell_type": "code",
   "execution_count": 32,
   "metadata": {},
   "outputs": [],
   "source": [
    "location.drop_duplicates(subset = ['geolocation_zip_code_prefix'], keep = 'first', inplace = True)"
   ]
  },
  {
   "cell_type": "code",
   "execution_count": 33,
   "metadata": {},
   "outputs": [
    {
     "name": "stdout",
     "output_type": "stream",
     "text": [
      "<class 'pandas.core.frame.DataFrame'>\n",
      "Int64Index: 19015 entries, 0 to 999846\n",
      "Data columns (total 5 columns):\n",
      "geolocation_zip_code_prefix    19015 non-null int64\n",
      "geolocation_lat                19015 non-null float64\n",
      "geolocation_lng                19015 non-null float64\n",
      "geolocation_city               19015 non-null object\n",
      "geolocation_state              19015 non-null object\n",
      "dtypes: float64(2), int64(1), object(2)\n",
      "memory usage: 891.3+ KB\n"
     ]
    }
   ],
   "source": [
    "location.info()"
   ]
  },
  {
   "cell_type": "markdown",
   "metadata": {},
   "source": [
    "#### Payments Dataset\n",
    "This dataset includes data about the orders payment options."
   ]
  },
  {
   "cell_type": "code",
   "execution_count": 34,
   "metadata": {
    "scrolled": true
   },
   "outputs": [
    {
     "name": "stdout",
     "output_type": "stream",
     "text": [
      "<class 'pandas.core.frame.DataFrame'>\n",
      "RangeIndex: 103886 entries, 0 to 103885\n",
      "Data columns (total 5 columns):\n",
      "order_id                103886 non-null object\n",
      "payment_sequential      103886 non-null int64\n",
      "payment_type            103886 non-null object\n",
      "payment_installments    103886 non-null int64\n",
      "payment_value           103886 non-null float64\n",
      "dtypes: float64(1), int64(2), object(2)\n",
      "memory usage: 4.0+ MB\n"
     ]
    }
   ],
   "source": [
    "payments.info()"
   ]
  },
  {
   "cell_type": "code",
   "execution_count": 35,
   "metadata": {},
   "outputs": [
    {
     "data": {
      "text/html": [
       "<div>\n",
       "<style scoped>\n",
       "    .dataframe tbody tr th:only-of-type {\n",
       "        vertical-align: middle;\n",
       "    }\n",
       "\n",
       "    .dataframe tbody tr th {\n",
       "        vertical-align: top;\n",
       "    }\n",
       "\n",
       "    .dataframe thead th {\n",
       "        text-align: right;\n",
       "    }\n",
       "</style>\n",
       "<table border=\"1\" class=\"dataframe\">\n",
       "  <thead>\n",
       "    <tr style=\"text-align: right;\">\n",
       "      <th></th>\n",
       "      <th>order_id</th>\n",
       "      <th>payment_sequential</th>\n",
       "      <th>payment_type</th>\n",
       "      <th>payment_installments</th>\n",
       "      <th>payment_value</th>\n",
       "    </tr>\n",
       "  </thead>\n",
       "  <tbody>\n",
       "    <tr>\n",
       "      <td>0</td>\n",
       "      <td>b81ef226f3fe1789b1e8b2acac839d17</td>\n",
       "      <td>1</td>\n",
       "      <td>credit_card</td>\n",
       "      <td>8</td>\n",
       "      <td>99.33</td>\n",
       "    </tr>\n",
       "    <tr>\n",
       "      <td>1</td>\n",
       "      <td>a9810da82917af2d9aefd1278f1dcfa0</td>\n",
       "      <td>1</td>\n",
       "      <td>credit_card</td>\n",
       "      <td>1</td>\n",
       "      <td>24.39</td>\n",
       "    </tr>\n",
       "    <tr>\n",
       "      <td>2</td>\n",
       "      <td>25e8ea4e93396b6fa0d3dd708e76c1bd</td>\n",
       "      <td>1</td>\n",
       "      <td>credit_card</td>\n",
       "      <td>1</td>\n",
       "      <td>65.71</td>\n",
       "    </tr>\n",
       "    <tr>\n",
       "      <td>3</td>\n",
       "      <td>ba78997921bbcdc1373bb41e913ab953</td>\n",
       "      <td>1</td>\n",
       "      <td>credit_card</td>\n",
       "      <td>8</td>\n",
       "      <td>107.78</td>\n",
       "    </tr>\n",
       "    <tr>\n",
       "      <td>4</td>\n",
       "      <td>42fdf880ba16b47b59251dd489d4441a</td>\n",
       "      <td>1</td>\n",
       "      <td>credit_card</td>\n",
       "      <td>2</td>\n",
       "      <td>128.45</td>\n",
       "    </tr>\n",
       "  </tbody>\n",
       "</table>\n",
       "</div>"
      ],
      "text/plain": [
       "                           order_id  payment_sequential payment_type  \\\n",
       "0  b81ef226f3fe1789b1e8b2acac839d17                   1  credit_card   \n",
       "1  a9810da82917af2d9aefd1278f1dcfa0                   1  credit_card   \n",
       "2  25e8ea4e93396b6fa0d3dd708e76c1bd                   1  credit_card   \n",
       "3  ba78997921bbcdc1373bb41e913ab953                   1  credit_card   \n",
       "4  42fdf880ba16b47b59251dd489d4441a                   1  credit_card   \n",
       "\n",
       "   payment_installments  payment_value  \n",
       "0                     8          99.33  \n",
       "1                     1          24.39  \n",
       "2                     1          65.71  \n",
       "3                     8         107.78  \n",
       "4                     2         128.45  "
      ]
     },
     "execution_count": 35,
     "metadata": {},
     "output_type": "execute_result"
    }
   ],
   "source": [
    "payments.head()"
   ]
  },
  {
   "attachments": {
    "image.png": {
     "image/png": "[encoded data removed]"
    }
   },
   "cell_type": "markdown",
   "metadata": {},
   "source": [
    "### Combine data into 3 dataframes\n",
    "\n",
    "In order to analyze customer ratings and seller influences, we will combine the data into dataframes related to their respective content.\n",
    "\n",
    "![image.png](attachment:image.png)\n"
   ]
  },
  {
   "cell_type": "code",
   "execution_count": 36,
   "metadata": {
    "scrolled": false
   },
   "outputs": [],
   "source": [
    "def merge_multiple_df_on_key(dfs, key):\n",
    "    '''create dataframe with customer info including their location, order details and review'''\n",
    "    \n",
    "    from functools import reduce\n",
    "    \n",
    "    # stolen from https://stackoverflow.com/questions/23668427/pandas-three-way-joining-multiple-dataframes-on-columns)\n",
    "    new_df = reduce(lambda left,right: pd.merge(left,right, how = 'inner', on=key), dfs)\n",
    "    \n",
    "    return new_df"
   ]
  },
  {
   "cell_type": "code",
   "execution_count": 37,
   "metadata": {},
   "outputs": [
    {
     "data": {
      "text/plain": [
       "Index(['order_id', 'customer_id', 'order_status', 'order_purchase_timestamp',\n",
       "       'order_approved_at', 'order_delivered_carrier_date',\n",
       "       'order_delivered_customer_date', 'order_estimated_delivery_date'],\n",
       "      dtype='object')"
      ]
     },
     "execution_count": 37,
     "metadata": {},
     "output_type": "execute_result"
    }
   ],
   "source": [
    "orders.columns"
   ]
  },
  {
   "cell_type": "code",
   "execution_count": 38,
   "metadata": {},
   "outputs": [],
   "source": [
    "# dfs to merge with order_id column\n",
    "dfs = [orders, order_items, reviews]\n",
    "# merge on key\n",
    "customer_purchases = merge_multiple_df_on_key(dfs, key = 'order_id')"
   ]
  },
  {
   "cell_type": "code",
   "execution_count": 39,
   "metadata": {},
   "outputs": [],
   "source": [
    "def drop_duplicates_ignore_cols(df, cols_to_ignore, keep = 'first'):\n",
    "    '''drop duplicates but ignore certain columns'''\n",
    "    df.drop_duplicates(keep = keep, \\\n",
    "                       subset=df.columns.difference(cols_to_ignore), \\\n",
    "                       inplace=True)"
   ]
  },
  {
   "cell_type": "code",
   "execution_count": 40,
   "metadata": {},
   "outputs": [],
   "source": [
    "# drop duplicate rows based on all columns except these\n",
    "cols_to_ignore = ['review_id', 'review_answer_timestamp', 'review_creation_date']\n",
    "\n",
    "# call function\n",
    "drop_duplicates_ignore_cols(customer_purchases, cols_to_ignore)"
   ]
  },
  {
   "cell_type": "code",
   "execution_count": 41,
   "metadata": {},
   "outputs": [],
   "source": [
    "# drop order delivery details, this will go into the seller_info df\n",
    "cols_to_drop = orders.columns.difference(['order_id', 'customer_id', 'order_purchase_timestamp', \\\n",
    "                                          'order_delivered_customer_date', 'order_estimated_delivery_date'])\n",
    "customer_purchases.drop(cols_to_drop, 1, inplace=True)"
   ]
  },
  {
   "cell_type": "code",
   "execution_count": 42,
   "metadata": {},
   "outputs": [],
   "source": [
    "# set cols to drop after merging with location and customers\n",
    "cols_to_drop = ['geolocation_zip_code_prefix', 'geolocation_city', 'geolocation_state']\n",
    "    \n",
    "# merge with customers and location\n",
    "customer_info = pd.merge(pd.merge(customer_purchases, customers, on = 'customer_id'), location, \\\n",
    "                             left_on ='customer_zip_code_prefix', \\\n",
    "                             right_on = 'geolocation_zip_code_prefix').drop(cols_to_drop, 1).reset_index(drop=True)"
   ]
  },
  {
   "cell_type": "code",
   "execution_count": 43,
   "metadata": {},
   "outputs": [],
   "source": [
    "# need to merge product info to pull the product_category_name\n",
    "customer_info = customer_info.merge(products, on = 'product_id')"
   ]
  },
  {
   "cell_type": "code",
   "execution_count": 44,
   "metadata": {},
   "outputs": [],
   "source": [
    "# merge all dfs associated with seller\n",
    "seller_info = pd.merge(pd.merge(pd.merge(pd.merge(order_items, \\\n",
    "                        sellers, on = 'seller_id'), \\\n",
    "                        products, on = 'product_id'), \\\n",
    "                        reviews, on = 'order_id'), \\\n",
    "                        location, how = 'inner', \\\n",
    "                                  left_on ='seller_zip_code_prefix', \\\n",
    "                                  right_on = 'geolocation_zip_code_prefix')"
   ]
  },
  {
   "cell_type": "code",
   "execution_count": 45,
   "metadata": {},
   "outputs": [],
   "source": [
    "# drop redundant and unnecessary columns\n",
    "cols_to_drop = ['geolocation_zip_code_prefix', 'geolocation_city', 'geolocation_state', 'freight_value']\n",
    "seller_info.drop(cols_to_drop, 1, inplace=True)\n",
    "seller_info.reset_index(drop=True, inplace=True)"
   ]
  },
  {
   "cell_type": "code",
   "execution_count": 46,
   "metadata": {},
   "outputs": [],
   "source": [
    "cols_to_ignore = ['review_id', 'review_answer_timestamp', 'review_creation_date']\n",
    "drop_duplicates_ignore_cols(seller_info, cols_to_ignore)"
   ]
  },
  {
   "cell_type": "code",
   "execution_count": 47,
   "metadata": {},
   "outputs": [
    {
     "data": {
      "text/html": [
       "<div>\n",
       "<style scoped>\n",
       "    .dataframe tbody tr th:only-of-type {\n",
       "        vertical-align: middle;\n",
       "    }\n",
       "\n",
       "    .dataframe tbody tr th {\n",
       "        vertical-align: top;\n",
       "    }\n",
       "\n",
       "    .dataframe thead th {\n",
       "        text-align: right;\n",
       "    }\n",
       "</style>\n",
       "<table border=\"1\" class=\"dataframe\">\n",
       "  <thead>\n",
       "    <tr style=\"text-align: right;\">\n",
       "      <th></th>\n",
       "      <th>order_id</th>\n",
       "      <th>order_item_id</th>\n",
       "      <th>product_id</th>\n",
       "      <th>seller_id</th>\n",
       "      <th>shipping_limit_date</th>\n",
       "      <th>price</th>\n",
       "      <th>seller_zip_code_prefix</th>\n",
       "      <th>seller_city</th>\n",
       "      <th>seller_state</th>\n",
       "      <th>product_category_name</th>\n",
       "      <th>...</th>\n",
       "      <th>product_height_cm</th>\n",
       "      <th>product_width_cm</th>\n",
       "      <th>review_id</th>\n",
       "      <th>review_score</th>\n",
       "      <th>review_comment_title</th>\n",
       "      <th>review_comment_message</th>\n",
       "      <th>review_creation_date</th>\n",
       "      <th>review_answer_timestamp</th>\n",
       "      <th>geolocation_lat</th>\n",
       "      <th>geolocation_lng</th>\n",
       "    </tr>\n",
       "  </thead>\n",
       "  <tbody>\n",
       "    <tr>\n",
       "      <td>0</td>\n",
       "      <td>00010242fe8c5a6d1ba2dd792cb16214</td>\n",
       "      <td>1</td>\n",
       "      <td>4244733e06e7ecb4970a6e2683c13e61</td>\n",
       "      <td>48436dade18ac8b2bce089ec2a041202</td>\n",
       "      <td>2017-09-19 09:45:35</td>\n",
       "      <td>58.9</td>\n",
       "      <td>27277</td>\n",
       "      <td>volta redonda</td>\n",
       "      <td>SP</td>\n",
       "      <td>cool_stuff</td>\n",
       "      <td>...</td>\n",
       "      <td>9.0</td>\n",
       "      <td>14.0</td>\n",
       "      <td>97ca439bc427b48bc1cd7177abe71365</td>\n",
       "      <td>5</td>\n",
       "      <td>no title</td>\n",
       "      <td>Perfeito, produto entregue antes do combinado.</td>\n",
       "      <td>2017-09-21</td>\n",
       "      <td>2017-09-22 10:57:03</td>\n",
       "      <td>-22.498183</td>\n",
       "      <td>-44.123614</td>\n",
       "    </tr>\n",
       "    <tr>\n",
       "      <td>1</td>\n",
       "      <td>130898c0987d1801452a8ed92a670612</td>\n",
       "      <td>1</td>\n",
       "      <td>4244733e06e7ecb4970a6e2683c13e61</td>\n",
       "      <td>48436dade18ac8b2bce089ec2a041202</td>\n",
       "      <td>2017-07-05 02:44:11</td>\n",
       "      <td>55.9</td>\n",
       "      <td>27277</td>\n",
       "      <td>volta redonda</td>\n",
       "      <td>SP</td>\n",
       "      <td>cool_stuff</td>\n",
       "      <td>...</td>\n",
       "      <td>9.0</td>\n",
       "      <td>14.0</td>\n",
       "      <td>b11cba360bbe71410c291b764753d37f</td>\n",
       "      <td>5</td>\n",
       "      <td>no title</td>\n",
       "      <td>lannister como sempre, entregou certinho e den...</td>\n",
       "      <td>2017-07-14</td>\n",
       "      <td>2017-07-17 12:50:07</td>\n",
       "      <td>-22.498183</td>\n",
       "      <td>-44.123614</td>\n",
       "    </tr>\n",
       "    <tr>\n",
       "      <td>2</td>\n",
       "      <td>532ed5e14e24ae1f0d735b91524b98b9</td>\n",
       "      <td>1</td>\n",
       "      <td>4244733e06e7ecb4970a6e2683c13e61</td>\n",
       "      <td>48436dade18ac8b2bce089ec2a041202</td>\n",
       "      <td>2018-05-23 10:56:25</td>\n",
       "      <td>64.9</td>\n",
       "      <td>27277</td>\n",
       "      <td>volta redonda</td>\n",
       "      <td>SP</td>\n",
       "      <td>cool_stuff</td>\n",
       "      <td>...</td>\n",
       "      <td>9.0</td>\n",
       "      <td>14.0</td>\n",
       "      <td>af01c4017c5ab46df6cc810e069e654a</td>\n",
       "      <td>4</td>\n",
       "      <td>super recomendo</td>\n",
       "      <td>carrinho muito bonito</td>\n",
       "      <td>2018-06-05</td>\n",
       "      <td>2018-06-06 21:41:12</td>\n",
       "      <td>-22.498183</td>\n",
       "      <td>-44.123614</td>\n",
       "    </tr>\n",
       "    <tr>\n",
       "      <td>3</td>\n",
       "      <td>6f8c31653edb8c83e1a739408b5ff750</td>\n",
       "      <td>1</td>\n",
       "      <td>4244733e06e7ecb4970a6e2683c13e61</td>\n",
       "      <td>48436dade18ac8b2bce089ec2a041202</td>\n",
       "      <td>2017-08-07 18:55:08</td>\n",
       "      <td>58.9</td>\n",
       "      <td>27277</td>\n",
       "      <td>volta redonda</td>\n",
       "      <td>SP</td>\n",
       "      <td>cool_stuff</td>\n",
       "      <td>...</td>\n",
       "      <td>9.0</td>\n",
       "      <td>14.0</td>\n",
       "      <td>8304ff37d8b16b57086fa283fe0c44f8</td>\n",
       "      <td>5</td>\n",
       "      <td>no title</td>\n",
       "      <td>no comment given</td>\n",
       "      <td>2017-08-10</td>\n",
       "      <td>2017-08-13 03:35:17</td>\n",
       "      <td>-22.498183</td>\n",
       "      <td>-44.123614</td>\n",
       "    </tr>\n",
       "    <tr>\n",
       "      <td>4</td>\n",
       "      <td>7d19f4ef4d04461989632411b7e588b9</td>\n",
       "      <td>1</td>\n",
       "      <td>4244733e06e7ecb4970a6e2683c13e61</td>\n",
       "      <td>48436dade18ac8b2bce089ec2a041202</td>\n",
       "      <td>2017-08-16 22:05:11</td>\n",
       "      <td>58.9</td>\n",
       "      <td>27277</td>\n",
       "      <td>volta redonda</td>\n",
       "      <td>SP</td>\n",
       "      <td>cool_stuff</td>\n",
       "      <td>...</td>\n",
       "      <td>9.0</td>\n",
       "      <td>14.0</td>\n",
       "      <td>426f43a82185969503fb3c86241a9535</td>\n",
       "      <td>5</td>\n",
       "      <td>no title</td>\n",
       "      <td>no comment given</td>\n",
       "      <td>2017-08-25</td>\n",
       "      <td>2017-08-28 00:51:18</td>\n",
       "      <td>-22.498183</td>\n",
       "      <td>-44.123614</td>\n",
       "    </tr>\n",
       "  </tbody>\n",
       "</table>\n",
       "<p>5 rows × 25 columns</p>\n",
       "</div>"
      ],
      "text/plain": [
       "                           order_id  order_item_id  \\\n",
       "0  00010242fe8c5a6d1ba2dd792cb16214              1   \n",
       "1  130898c0987d1801452a8ed92a670612              1   \n",
       "2  532ed5e14e24ae1f0d735b91524b98b9              1   \n",
       "3  6f8c31653edb8c83e1a739408b5ff750              1   \n",
       "4  7d19f4ef4d04461989632411b7e588b9              1   \n",
       "\n",
       "                         product_id                         seller_id  \\\n",
       "0  4244733e06e7ecb4970a6e2683c13e61  48436dade18ac8b2bce089ec2a041202   \n",
       "1  4244733e06e7ecb4970a6e2683c13e61  48436dade18ac8b2bce089ec2a041202   \n",
       "2  4244733e06e7ecb4970a6e2683c13e61  48436dade18ac8b2bce089ec2a041202   \n",
       "3  4244733e06e7ecb4970a6e2683c13e61  48436dade18ac8b2bce089ec2a041202   \n",
       "4  4244733e06e7ecb4970a6e2683c13e61  48436dade18ac8b2bce089ec2a041202   \n",
       "\n",
       "  shipping_limit_date  price  seller_zip_code_prefix    seller_city  \\\n",
       "0 2017-09-19 09:45:35   58.9                   27277  volta redonda   \n",
       "1 2017-07-05 02:44:11   55.9                   27277  volta redonda   \n",
       "2 2018-05-23 10:56:25   64.9                   27277  volta redonda   \n",
       "3 2017-08-07 18:55:08   58.9                   27277  volta redonda   \n",
       "4 2017-08-16 22:05:11   58.9                   27277  volta redonda   \n",
       "\n",
       "  seller_state product_category_name  ...  product_height_cm  \\\n",
       "0           SP            cool_stuff  ...                9.0   \n",
       "1           SP            cool_stuff  ...                9.0   \n",
       "2           SP            cool_stuff  ...                9.0   \n",
       "3           SP            cool_stuff  ...                9.0   \n",
       "4           SP            cool_stuff  ...                9.0   \n",
       "\n",
       "   product_width_cm                         review_id  review_score  \\\n",
       "0              14.0  97ca439bc427b48bc1cd7177abe71365             5   \n",
       "1              14.0  b11cba360bbe71410c291b764753d37f             5   \n",
       "2              14.0  af01c4017c5ab46df6cc810e069e654a             4   \n",
       "3              14.0  8304ff37d8b16b57086fa283fe0c44f8             5   \n",
       "4              14.0  426f43a82185969503fb3c86241a9535             5   \n",
       "\n",
       "   review_comment_title                             review_comment_message  \\\n",
       "0              no title     Perfeito, produto entregue antes do combinado.   \n",
       "1              no title  lannister como sempre, entregou certinho e den...   \n",
       "2       super recomendo                              carrinho muito bonito   \n",
       "3              no title                                   no comment given   \n",
       "4              no title                                   no comment given   \n",
       "\n",
       "   review_creation_date review_answer_timestamp  geolocation_lat  \\\n",
       "0            2017-09-21     2017-09-22 10:57:03       -22.498183   \n",
       "1            2017-07-14     2017-07-17 12:50:07       -22.498183   \n",
       "2            2018-06-05     2018-06-06 21:41:12       -22.498183   \n",
       "3            2017-08-10     2017-08-13 03:35:17       -22.498183   \n",
       "4            2017-08-25     2017-08-28 00:51:18       -22.498183   \n",
       "\n",
       "  geolocation_lng  \n",
       "0      -44.123614  \n",
       "1      -44.123614  \n",
       "2      -44.123614  \n",
       "3      -44.123614  \n",
       "4      -44.123614  \n",
       "\n",
       "[5 rows x 25 columns]"
      ]
     },
     "execution_count": 47,
     "metadata": {},
     "output_type": "execute_result"
    }
   ],
   "source": [
    "seller_info.head()"
   ]
  },
  {
   "cell_type": "code",
   "execution_count": 48,
   "metadata": {
    "scrolled": false
   },
   "outputs": [],
   "source": [
    "# set dfs to have common orders between them\n",
    "sellers = seller_info[seller_info.order_id.isin(customer_info.order_id)]\n",
    "customers = customer_info[customer_info.order_id.isin(seller_info.order_id)]"
   ]
  },
  {
   "cell_type": "markdown",
   "metadata": {},
   "source": [
    "## Plot sellers and customer as graph"
   ]
  },
  {
   "cell_type": "code",
   "execution_count": 49,
   "metadata": {
    "scrolled": true
   },
   "outputs": [
    {
     "data": {
      "text/plain": [
       "'seller_geometry = [Point(xy) for xy in zip(seller_info.geolocation_lng, seller_info.geolocation_lat)]\\ncustomer_geometry = [Point(xy) for xy in zip(customer_info.geolocation_lng, customer_info.geolocation_lat)]'"
      ]
     },
     "execution_count": 49,
     "metadata": {},
     "output_type": "execute_result"
    }
   ],
   "source": [
    "import geopandas as gpd\n",
    "from shapely.geometry import Point, Polygon\n",
    "\n",
    "'''seller_geometry = [Point(xy) for xy in zip(seller_info.geolocation_lng, seller_info.geolocation_lat)]\n",
    "customer_geometry = [Point(xy) for xy in zip(customer_info.geolocation_lng, customer_info.geolocation_lat)]'''"
   ]
  },
  {
   "cell_type": "markdown",
   "metadata": {},
   "source": [
    "# Exploratory Data Analysis"
   ]
  },
  {
   "cell_type": "markdown",
   "metadata": {},
   "source": [
    "### Which product type generated the most profit?"
   ]
  },
  {
   "cell_type": "code",
   "execution_count": 50,
   "metadata": {},
   "outputs": [],
   "source": [
    "def filter_by_count(df, column, count):\n",
    "    \n",
    "    new_df = df.groupby(column).filter(lambda x: len(x) > count)\n",
    "    \n",
    "    return new_df"
   ]
  },
  {
   "cell_type": "code",
   "execution_count": 51,
   "metadata": {},
   "outputs": [],
   "source": [
    "def plot_filtered_groupby(df, groupby_col, sort_col, count, agg_func):\n",
    "    \n",
    "    df_filtered = filter_by_count(df, groupby_col, count)\\\n",
    "                         [[groupby_col, sort_col]]\\\n",
    "    \n",
    "    df_agg = df_filtered.groupby([groupby_col])[sort_col]\\\n",
    "                        .apply(agg_func)\\\n",
    "                        .reset_index()\\\n",
    "                        .sort_values([sort_col], ascending = False)\n",
    "    \n",
    "    fig, ax = plt.subplots(figsize=(8, 10))\n",
    "    \n",
    "    ax = sns.barplot(data=df_agg, x=sort_col, y=groupby_col, color = 'cyan')\n",
    "    plt.show()"
   ]
  },
  {
   "cell_type": "code",
   "execution_count": 52,
   "metadata": {
    "scrolled": false
   },
   "outputs": [
    {
     "data": {
      "image/png": "[encoded data removed]",
      "text/plain": [
       "<Figure size 576x720 with 1 Axes>"
      ]
     },
     "metadata": {
      "needs_background": "light"
     },
     "output_type": "display_data"
    }
   ],
   "source": [
    "plot_filtered_groupby(customers, 'product_category_name', 'price', 500, sum)"
   ]
  },
  {
   "cell_type": "markdown",
   "metadata": {},
   "source": [
    "> It looks like heath and beauty, watches, bed and bath, sports leisure and computer accessories round out the top 5 most profittable product categories. Does this correlate the the price or simply the populatiry of the items? "
   ]
  },
  {
   "cell_type": "markdown",
   "metadata": {},
   "source": [
    "### Which product has the highest average cost for the customer?"
   ]
  },
  {
   "cell_type": "code",
   "execution_count": 53,
   "metadata": {
    "scrolled": false
   },
   "outputs": [
    {
     "data": {
      "image/png": "[encoded data removed]",
      "text/plain": [
       "<Figure size 576x720 with 1 Axes>"
      ]
     },
     "metadata": {
      "needs_background": "light"
     },
     "output_type": "display_data"
    }
   ],
   "source": [
    "plot_filtered_groupby(customers, 'product_category_name', 'price', 500, np.mean)"
   ]
  },
  {
   "cell_type": "markdown",
   "metadata": {},
   "source": [
    "> The top 5 highest average cost product categories do not overlap with the highest profit categories. Falling just out of the top 5 average cost products is watches. This is an important product to maintain customer satisfaction for by possibly prioritizing on time deliveries. "
   ]
  },
  {
   "cell_type": "markdown",
   "metadata": {},
   "source": [
    "### What are the highest rated products?"
   ]
  },
  {
   "cell_type": "code",
   "execution_count": 54,
   "metadata": {
    "scrolled": false
   },
   "outputs": [
    {
     "data": {
      "image/png": "[encoded data removed]",
      "text/plain": [
       "<Figure size 576x720 with 1 Axes>"
      ]
     },
     "metadata": {
      "needs_background": "light"
     },
     "output_type": "display_data"
    }
   ],
   "source": [
    "plot_filtered_groupby(customers, 'product_category_name', 'review_score', 500, np.mean)"
   ]
  },
  {
   "cell_type": "markdown",
   "metadata": {},
   "source": [
    "> It looks like many of the highest grossing products fall on the lower end of the average review score with the exception of health and beauty, and sports leisure. "
   ]
  },
  {
   "cell_type": "markdown",
   "metadata": {},
   "source": [
    "### Which products are purchased most frequently?"
   ]
  },
  {
   "cell_type": "code",
   "execution_count": 55,
   "metadata": {},
   "outputs": [
    {
     "data": {
      "image/png": "[encoded data removed]",
      "text/plain": [
       "<Figure size 576x720 with 1 Axes>"
      ]
     },
     "metadata": {
      "needs_background": "light"
     },
     "output_type": "display_data"
    }
   ],
   "source": [
    "df_filtered = filter_by_count(customers, 'product_category_name', 500)['product_category_name'].reset_index()\n",
    "    \n",
    "df_agg = df_filtered.groupby(['product_category_name'])\\\n",
    "                              .count().sort_values(['index'], ascending = False)\\\n",
    "                              .reset_index()\n",
    "\n",
    "fig, ax = plt.subplots(figsize=(8, 10))\n",
    "    \n",
    "ax = sns.barplot(data=df_agg, x='index', y='product_category_name', color = 'cyan')\n",
    "plt.show()"
   ]
  },
  {
   "cell_type": "markdown",
   "metadata": {},
   "source": [
    "## Exploring Seasonal Trends"
   ]
  },
  {
   "cell_type": "markdown",
   "metadata": {},
   "source": [
    "### When is Olist receiving the most profit?"
   ]
  },
  {
   "cell_type": "code",
   "execution_count": 56,
   "metadata": {},
   "outputs": [],
   "source": [
    "def timeseries_plot(df, timeseries_col, y_col, agg_func, dStart, dEnd, sample_by = 'D'):\n",
    "    \n",
    "    timeseries_vs_y = df[[timeseries_col, y_col]]\n",
    "    plot_df = timeseries_vs_y.set_index(timeseries_col).resample(sample_by)[y_col].apply(agg_func)\n",
    "    df = plot_df[(dStart <= plot_df.index) & (plot_df.index <= dEnd)]\n",
    "\n",
    "    ax = plt.figure(figsize=(12, 6)).add_subplot(111)   \n",
    "    xticks = pd.date_range(start=dStart, end=dEnd, freq='M')\n",
    "\n",
    "    df.plot(ax = ax, xticks = xticks)\n",
    "\n",
    "    ax.set_xticklabels([x.strftime('%h\\n%Y') for x in xticks])\n",
    "    plt.setp(ax.xaxis.get_majorticklabels(), ha='right')\n",
    "\n",
    "    plt.show()"
   ]
  },
  {
   "cell_type": "code",
   "execution_count": 57,
   "metadata": {
    "scrolled": false
   },
   "outputs": [
    {
     "data": {
      "image/png": "[encoded data removed]",
      "text/plain": [
       "<Figure size 864x432 with 1 Axes>"
      ]
     },
     "metadata": {
      "needs_background": "light"
     },
     "output_type": "display_data"
    }
   ],
   "source": [
    "# Total profit over \n",
    "dStart = datetime.datetime(2017,7,1) # 1 May\n",
    "dEnd = datetime.datetime(2018,7,1) # 1 July\n",
    "timeseries_plot(customers, 'order_purchase_timestamp', 'price', sum, dStart, dEnd, 'W')"
   ]
  },
  {
   "cell_type": "markdown",
   "metadata": {},
   "source": [
    "> There is an uptick in profit in late November, most definitely corresponding to gifts for the Christmas season. There are local peaks at the end of February and the beginning of May as well with sharp drops in profit near January 1st and towards the end of May. In Brazil, the well known Carnival festival falls towards the end of February, possibly corresponding to the increase in profit. It is not clear why there is such a sharp increase in profit in early May. This is something to continue investigating. "
   ]
  },
  {
   "cell_type": "markdown",
   "metadata": {},
   "source": [
    "### How do review scores change over time? Are there connections to national holidays?"
   ]
  },
  {
   "cell_type": "code",
   "execution_count": 58,
   "metadata": {
    "scrolled": false
   },
   "outputs": [
    {
     "data": {
      "image/png": "[encoded data removed]",
      "text/plain": [
       "<Figure size 864x432 with 1 Axes>"
      ]
     },
     "metadata": {
      "needs_background": "light"
     },
     "output_type": "display_data"
    }
   ],
   "source": [
    "timeseries_plot(customers, 'order_purchase_timestamp', 'review_score', np.mean, dStart, dEnd, 'W')"
   ]
  },
  {
   "cell_type": "markdown",
   "metadata": {},
   "source": [
    "> The average review score drops during high volume purchasing periods. We see a drop as shoppers buy for Christmas and a sharp drop in late february, corresponding to the increase in sales observed in the previous graph. The peak in profits around early May do not produce as sharp of a drop as during the two aforementioned periods but there is still an occurance. "
   ]
  },
  {
   "cell_type": "markdown",
   "metadata": {},
   "source": [
    "### When do customers write the most reviews?"
   ]
  },
  {
   "cell_type": "code",
   "execution_count": 59,
   "metadata": {
    "scrolled": false
   },
   "outputs": [
    {
     "data": {
      "image/png": "[encoded data removed]",
      "text/plain": [
       "<Figure size 864x432 with 1 Axes>"
      ]
     },
     "metadata": {
      "needs_background": "light"
     },
     "output_type": "display_data"
    }
   ],
   "source": [
    "timeseries_vs_y = customers[['order_purchase_timestamp', 'review_comment_message']]\n",
    "plot_df = timeseries_vs_y.set_index('order_purchase_timestamp').resample('W')['review_comment_message'].count()\n",
    "#dStart = datetime.datetime(2017,1,1) # 1 May\n",
    "#dEnd = datetime.datetime(2018,8,29) # 1 July\n",
    "df = plot_df[(dStart <= plot_df.index) & (plot_df.index <= dEnd)]\n",
    "\n",
    "ax = plt.figure(figsize=(12, 6)).add_subplot(111)   \n",
    "xticks = pd.date_range(start=dStart, end=dEnd, freq='M')\n",
    "\n",
    "df.plot(ax = ax, xticks = xticks)\n",
    "\n",
    "ax.set_xticklabels([x.strftime('%h\\n%Y') for x in xticks])\n",
    "plt.setp(ax.xaxis.get_majorticklabels(), ha='right')\n",
    "\n",
    "plt.show()\n"
   ]
  },
  {
   "cell_type": "markdown",
   "metadata": {},
   "source": [
    "> Not suprisingly, the most reviews occur prior to the Christmas holiday with two other peaks related to the peak periods observed previously. "
   ]
  },
  {
   "cell_type": "markdown",
   "metadata": {},
   "source": [
    "### During what seasons are late delivery times the most significant?"
   ]
  },
  {
   "cell_type": "code",
   "execution_count": 60,
   "metadata": {
    "scrolled": false
   },
   "outputs": [],
   "source": [
    "#customers[customers['order_delivered_customer_date'] > customers['order_estimated_delivery_date']].count()\n",
    "delivery_time = customers[['order_delivered_customer_date', 'order_estimated_delivery_date', \n",
    "                           'review_score', 'order_purchase_timestamp']]\n",
    "delivery_time['on_time'] = (delivery_time['order_estimated_delivery_date']\n",
    "                           >=\n",
    "                           delivery_time['order_delivered_customer_date'])\n",
    "\n",
    "delivery_time['diff_days'] = (delivery_time['order_delivered_customer_date']\n",
    "                             -\n",
    "                             delivery_time['order_estimated_delivery_date'])\n",
    "\n",
    "delivery_time['diff_days'] = delivery_time['diff_days']/np.timedelta64(1, 'D')\n",
    "delivery_time['satisfied'] = (delivery_time['review_score'] >= 3)"
   ]
  },
  {
   "cell_type": "code",
   "execution_count": 61,
   "metadata": {},
   "outputs": [],
   "source": [
    "late_deliveries = delivery_time.loc[delivery_time['on_time'] == False]"
   ]
  },
  {
   "cell_type": "code",
   "execution_count": 62,
   "metadata": {
    "scrolled": false
   },
   "outputs": [
    {
     "data": {
      "image/png": "[encoded data removed]",
      "text/plain": [
       "<Figure size 864x432 with 1 Axes>"
      ]
     },
     "metadata": {
      "needs_background": "light"
     },
     "output_type": "display_data"
    }
   ],
   "source": [
    "dStart = datetime.datetime(2017,7,1) # 1 May\n",
    "dEnd = datetime.datetime(2018,7,1) # 1 July\n",
    "timeseries_plot(late_deliveries, 'order_purchase_timestamp', 'diff_days', np.mean, dStart, dEnd, 'W')"
   ]
  },
  {
   "cell_type": "markdown",
   "metadata": {},
   "source": [
    "> We see that the average lateness slightly increases relative to the high volume periods but more suprisingly there are larger differences seen during low volume periods. For example, there is a peak around January 1st, when sales dip dramatically. There is also a sharp increase at the end of May, around the same time there is a significant dip in profit. There is a possiblity that late delivery outliers could be pulling the average up for those low volume periods however."
   ]
  },
  {
   "cell_type": "markdown",
   "metadata": {},
   "source": [
    "### When are people most satisfied with their experience? How well does this correlate to on time deliveries?"
   ]
  },
  {
   "cell_type": "code",
   "execution_count": 63,
   "metadata": {
    "scrolled": false
   },
   "outputs": [
    {
     "data": {
      "image/png": "[encoded data removed]",
      "text/plain": [
       "<Figure size 864x432 with 1 Axes>"
      ]
     },
     "metadata": {
      "needs_background": "light"
     },
     "output_type": "display_data"
    },
    {
     "data": {
      "image/png": "[encoded data removed]",
      "text/plain": [
       "<Figure size 864x432 with 1 Axes>"
      ]
     },
     "metadata": {
      "needs_background": "light"
     },
     "output_type": "display_data"
    }
   ],
   "source": [
    "import matplotlib.dates as mdates\n",
    "import datetime\n",
    "\n",
    "\n",
    "plot1_df = late_deliveries.set_index('order_purchase_timestamp').resample('W')['on_time'].count()\n",
    "plot2_df = delivery_time.set_index('order_purchase_timestamp').resample('W')['satisfied'].apply(np.mean)\n",
    "dStart = datetime.datetime(2017,7,1) # 1 May\n",
    "dEnd = datetime.datetime(2018,7,1) # 1 July\n",
    "df1 = plot1_df[(dStart <= plot1_df.index) & (plot1_df.index <= dEnd)]\n",
    "df2 = plot2_df[(dStart <= plot2_df.index) & (plot2_df.index <= dEnd)]\n",
    "\n",
    "ax = plt.figure(figsize=(12, 6)).add_subplot(111)\n",
    "ax2 = plt.figure(figsize=(12, 6)).add_subplot(111)\n",
    "xticks = pd.date_range(start=dStart, end=dEnd, freq='M')\n",
    "\n",
    "df1.plot(ax = ax, xticks = xticks)\n",
    "df2.plot(ax = ax2, xticks = xticks)\n",
    "\n",
    "ax.set_xticklabels([x.strftime('%h\\n%Y') for x in xticks])\n",
    "ax2.set_xticklabels([x.strftime('%h\\n%Y') for x in xticks])\n",
    "plt.setp(ax.xaxis.get_majorticklabels(), ha='right')\n",
    "plt.setp(ax2.xaxis.get_majorticklabels(), ha='right')\n",
    "\n",
    "plt.show()"
   ]
  },
  {
   "cell_type": "markdown",
   "metadata": {},
   "source": [
    "> There is clearly a relationship between customer satisfaction and on-time delivery. The number of satisfied customers dip dramatically for the three main high volume periods."
   ]
  },
  {
   "cell_type": "markdown",
   "metadata": {},
   "source": [
    "## Recommender system using LightFM"
   ]
  },
  {
   "cell_type": "markdown",
   "metadata": {},
   "source": [
    "### Create user-item and item feature dataframes"
   ]
  },
  {
   "cell_type": "code",
   "execution_count": 64,
   "metadata": {},
   "outputs": [
    {
     "data": {
      "text/plain": [
       "Index(['order_id', 'customer_id', 'order_purchase_timestamp',\n",
       "       'order_delivered_customer_date', 'order_estimated_delivery_date',\n",
       "       'order_item_id', 'product_id', 'seller_id', 'shipping_limit_date',\n",
       "       'price', 'freight_value', 'review_id', 'review_score',\n",
       "       'review_comment_title', 'review_comment_message',\n",
       "       'review_creation_date', 'review_answer_timestamp', 'customer_unique_id',\n",
       "       'customer_zip_code_prefix', 'customer_city', 'customer_state',\n",
       "       'geolocation_lat', 'geolocation_lng', 'product_category_name',\n",
       "       'product_name_lenght', 'product_description_lenght',\n",
       "       'product_photos_qty', 'product_weight_g', 'product_length_cm',\n",
       "       'product_height_cm', 'product_width_cm'],\n",
       "      dtype='object')"
      ]
     },
     "execution_count": 64,
     "metadata": {},
     "output_type": "execute_result"
    }
   ],
   "source": [
    "customers.columns"
   ]
  },
  {
   "cell_type": "code",
   "execution_count": 65,
   "metadata": {},
   "outputs": [],
   "source": [
    "user_item = customers[['customer_id', 'customer_unique_id', 'product_id', 'review_score', 'order_purchase_timestamp']]\n",
    "item_features = customers[['customer_unique_id','product_id', 'product_category_name', 'seller_id', 'review_score', \n",
    "                          'review_comment_message']]"
   ]
  },
  {
   "cell_type": "code",
   "execution_count": 66,
   "metadata": {},
   "outputs": [],
   "source": [
    "# to avoid counting a review comment labeled 'no comment given', we will convert them back to NAN\n",
    "item_features['review_comment_message'] = item_features.review_comment_message\\\n",
    "                                                               .replace('no comment given', np.nan)\n",
    "\n",
    "# create average review score column \n",
    "item_features['avg_product_score'] = item_features['review_score']\\\n",
    "                                                                 .groupby(item_features['product_id'])\\\n",
    "                                                                 .transform('mean')\n",
    "# create average review score column \n",
    "item_features['avg_seller_score'] = item_features['review_score']\\\n",
    "                                                                 .groupby(item_features['seller_id'])\\\n",
    "                                                                 .transform('mean')\n",
    "\n",
    "# create average review score column \n",
    "item_features['num_comments'] = item_features['review_comment_message']\\\n",
    "                                                                       .groupby(item_features['product_id'])\\\n",
    "                                                                       .transform('count')\n",
    "\n",
    "# create average review score column \n",
    "item_features['num_reviews'] = item_features['review_score']\\\n",
    "                                                            .groupby(item_features['product_id'])\\\n",
    "                                                            .transform('count')"
   ]
  },
  {
   "cell_type": "code",
   "execution_count": 67,
   "metadata": {},
   "outputs": [],
   "source": [
    "# Create product_count column for the rating\n",
    "item_features['product_count'] = item_features['product_id']\\\n",
    "                                                            .groupby(item_features['customer_unique_id'])\\\n",
    "                                                            .transform('count')"
   ]
  },
  {
   "cell_type": "code",
   "execution_count": 68,
   "metadata": {},
   "outputs": [],
   "source": [
    "item_features['log_num_reviews'] = np.log1p(item_features['num_reviews'])\n",
    "item_features['log_num_comments'] = np.log1p(item_features['num_comments'])"
   ]
  },
  {
   "cell_type": "code",
   "execution_count": 69,
   "metadata": {},
   "outputs": [],
   "source": [
    "# use cut to group the same number of reviews in each section\n",
    "item_features['num_reviews_binned'] = pd.cut(item_features['log_num_reviews'], 7, duplicates = 'drop')\n",
    "item_features['num_comments_binned'] = pd.cut(item_features['log_num_comments'], 6, duplicates = 'drop')\n",
    "\n",
    "# \n",
    "item_features['avg_product_reviews_binned'] = pd.cut(item_features['avg_product_score'], 4, duplicates = 'drop')\n",
    "item_features['avg_seller_reviews_binned'] = pd.cut(item_features['avg_seller_score'], 4, duplicates = 'drop')"
   ]
  },
  {
   "cell_type": "code",
   "execution_count": 194,
   "metadata": {},
   "outputs": [],
   "source": [
    "cols = ['num_reviews_binned', 'num_comments_binned','avg_product_reviews_binned', 'avg_seller_reviews_binned']\n",
    "for col in cols:\n",
    "    item_features[col] = item_features[col].astype(str)"
   ]
  },
  {
   "cell_type": "code",
   "execution_count": 195,
   "metadata": {
    "scrolled": true
   },
   "outputs": [
    {
     "data": {
      "text/plain": [
       "Index(['customer_unique_id', 'product_id', 'product_category_name',\n",
       "       'seller_id', 'review_score', 'review_comment_message',\n",
       "       'avg_product_score', 'avg_seller_score', 'num_comments', 'num_reviews',\n",
       "       'product_count', 'log_num_reviews', 'log_num_comments',\n",
       "       'num_reviews_binned', 'num_comments_binned',\n",
       "       'avg_product_reviews_binned', 'avg_seller_reviews_binned'],\n",
       "      dtype='object')"
      ]
     },
     "execution_count": 195,
     "metadata": {},
     "output_type": "execute_result"
    }
   ],
   "source": [
    "item_features.columns"
   ]
  },
  {
   "cell_type": "code",
   "execution_count": 196,
   "metadata": {},
   "outputs": [],
   "source": [
    "def get_user_list(df, user_column):\n",
    "    \"\"\"\n",
    "    \n",
    "    creating a list of user from dataframe df, user_column is a column \n",
    "    consisting of users in the dataframe df\n",
    "    \n",
    "    \"\"\"\n",
    "    \n",
    "    return np.sort(df[user_column].unique())\n",
    "\n",
    "def get_item_list(df, item_name_column):\n",
    "    \n",
    "    \"\"\"\n",
    "    \n",
    "    creating a list of items from dataframe df, item_column is a column \n",
    "    consisting of items in the dataframe df\n",
    "    \n",
    "    return to item_id_list and item_id2name_mapping\n",
    "    \n",
    "    \"\"\"\n",
    "    \n",
    "    item_list = df[item_name_column].unique()\n",
    "    \n",
    "    \n",
    "    return item_list\n",
    "\n",
    "def get_feature_list(df, product_category_col, seller_col, seller_rating_col, product_rating_col, num_comments, num_reviews):\n",
    "    \n",
    "    categories = df[product_category_col]\n",
    "    sellers = df[seller_col]\n",
    "    seller_ratings = df[seller_rating_col]\n",
    "    product_ratings = df[product_rating_col]\n",
    "    num_product_comments = df[num_comments]\n",
    "    num_product_reviews = df[num_reviews]\n",
    "    \n",
    "    return pd.concat([categories, sellers, seller_ratings, product_ratings, num_product_comments, num_product_reviews], ignore_index = True).unique()"
   ]
  },
  {
   "cell_type": "code",
   "execution_count": 197,
   "metadata": {},
   "outputs": [],
   "source": [
    "# create the user, item, feature lists\n",
    "users = get_user_list(user_item, \"customer_unique_id\")\n",
    "items = get_item_list(item_features, \"product_id\")\n",
    "features = get_feature_list(item_features, \"product_category_name\", \"seller_id\", \"avg_seller_reviews_binned\",\n",
    "                           \"avg_product_reviews_binned\", \"num_comments_binned\", \"num_reviews_binned\")"
   ]
  },
  {
   "cell_type": "code",
   "execution_count": 198,
   "metadata": {},
   "outputs": [],
   "source": [
    "def id_mappings(user_list, item_list, feature_list):\n",
    "    \"\"\"\n",
    "    \n",
    "    Create id mappings to convert user_id, item_id, and feature_id\n",
    "    \n",
    "    \"\"\"\n",
    "    user_to_index_mapping = {}\n",
    "    index_to_user_mapping = {}\n",
    "    for user_index, user_id in enumerate(user_list):\n",
    "        user_to_index_mapping[user_id] = user_index\n",
    "        index_to_user_mapping[user_index] = user_id\n",
    "        \n",
    "    item_to_index_mapping = {}\n",
    "    index_to_item_mapping = {}\n",
    "    for item_index, item_id in enumerate(item_list):\n",
    "        item_to_index_mapping[item_id] = item_index\n",
    "        index_to_item_mapping[item_index] = item_id\n",
    "        \n",
    "    feature_to_index_mapping = {}\n",
    "    index_to_feature_mapping = {}\n",
    "    for feature_index, feature_id in enumerate(feature_list):\n",
    "        feature_to_index_mapping[feature_id] = feature_index\n",
    "        index_to_feature_mapping[feature_index] = feature_id\n",
    "        \n",
    "        \n",
    "    return user_to_index_mapping, index_to_user_mapping, \\\n",
    "           item_to_index_mapping, index_to_item_mapping, \\\n",
    "           feature_to_index_mapping, index_to_feature_mapping"
   ]
  },
  {
   "cell_type": "code",
   "execution_count": 199,
   "metadata": {},
   "outputs": [],
   "source": [
    "# generate mapping, LightFM library can't read other than (integer) index\n",
    "user_to_index_mapping, index_to_user_mapping, \\\n",
    "           item_to_index_mapping, index_to_item_mapping, \\\n",
    "           feature_to_index_mapping, index_to_feature_mapping = id_mappings(users, items, features)"
   ]
  },
  {
   "cell_type": "code",
   "execution_count": 200,
   "metadata": {},
   "outputs": [],
   "source": [
    "product_to_feature = item_features[['product_id', 'product_category_name', 'seller_id', 'num_reviews_binned', \n",
    "                                    'num_comments_binned', 'avg_product_reviews_binned', 'avg_seller_reviews_binned']]"
   ]
  },
  {
   "cell_type": "code",
   "execution_count": 201,
   "metadata": {},
   "outputs": [],
   "source": [
    "user_to_product_rating = item_features[['customer_unique_id', 'product_id', 'product_count']]"
   ]
  },
  {
   "cell_type": "code",
   "execution_count": 202,
   "metadata": {},
   "outputs": [],
   "source": [
    "user_to_product_rating = user_to_product_rating.sort_values(by='customer_unique_id').reset_index(drop=True)"
   ]
  },
  {
   "cell_type": "code",
   "execution_count": 203,
   "metadata": {},
   "outputs": [],
   "source": [
    "import random\n",
    "np.random.seed(31)\n",
    "\n",
    "rows = np.random.binomial(1, .8, size=len(user_to_product_rating)).astype('bool')\n",
    "\n",
    "user_to_product_rating_train = user_to_product_rating[rows].reset_index(drop=True)\n",
    "user_to_product_rating_test = user_to_product_rating[~rows].reset_index(drop=True)"
   ]
  },
  {
   "cell_type": "code",
   "execution_count": 204,
   "metadata": {},
   "outputs": [],
   "source": [
    "product_to_feature = product_to_feature.drop_duplicates('product_id').reset_index(drop=True)"
   ]
  },
  {
   "cell_type": "code",
   "execution_count": 205,
   "metadata": {},
   "outputs": [],
   "source": [
    "# Transpose product_to_feature to extract features for each product_id\n",
    "df = product_to_feature.set_index('product_id').T.reset_index(drop=True)"
   ]
  },
  {
   "cell_type": "code",
   "execution_count": 206,
   "metadata": {},
   "outputs": [],
   "source": [
    "# Need to create list of product_id's repeated 6 times for each feauture the resulting df will hold\n",
    "cols = list(df.columns)\n",
    "res =  [ele for ele in cols for i in range(6)]"
   ]
  },
  {
   "cell_type": "code",
   "execution_count": 207,
   "metadata": {},
   "outputs": [],
   "source": [
    "# Create empty dataframe with index as product_id\n",
    "features = pd.DataFrame(index = res)\n",
    "features.index.name = 'product_id'\n",
    "\n",
    "# Reset index so 'product_id' becomes column\n",
    "features = features.reset_index()\n",
    "\n",
    "# create empty column to fill\n",
    "features['feature'] = \"\""
   ]
  },
  {
   "cell_type": "code",
   "execution_count": 208,
   "metadata": {},
   "outputs": [],
   "source": [
    "# Create list of feature items to replace empty column\n",
    "feature_items = []\n",
    "for col in cols:\n",
    "    for i in range(6):\n",
    "        feature_items.append(df[col][i])"
   ]
  },
  {
   "cell_type": "code",
   "execution_count": 209,
   "metadata": {},
   "outputs": [],
   "source": [
    "features['feature'] = feature_items"
   ]
  },
  {
   "cell_type": "code",
   "execution_count": 210,
   "metadata": {},
   "outputs": [],
   "source": [
    "product_to_feature = features"
   ]
  },
  {
   "cell_type": "code",
   "execution_count": 211,
   "metadata": {},
   "outputs": [],
   "source": [
    "product_to_feature['feature_count'] = 1"
   ]
  },
  {
   "cell_type": "code",
   "execution_count": 287,
   "metadata": {},
   "outputs": [
    {
     "data": {
      "text/html": [
       "<div>\n",
       "<style scoped>\n",
       "    .dataframe tbody tr th:only-of-type {\n",
       "        vertical-align: middle;\n",
       "    }\n",
       "\n",
       "    .dataframe tbody tr th {\n",
       "        vertical-align: top;\n",
       "    }\n",
       "\n",
       "    .dataframe thead th {\n",
       "        text-align: right;\n",
       "    }\n",
       "</style>\n",
       "<table border=\"1\" class=\"dataframe\">\n",
       "  <thead>\n",
       "    <tr style=\"text-align: right;\">\n",
       "      <th></th>\n",
       "      <th>product_id</th>\n",
       "      <th>feature</th>\n",
       "      <th>feature_count</th>\n",
       "    </tr>\n",
       "  </thead>\n",
       "  <tbody>\n",
       "    <tr>\n",
       "      <td>0</td>\n",
       "      <td>87285b34884572647811a353c7ac498a</td>\n",
       "      <td>housewares</td>\n",
       "      <td>1</td>\n",
       "    </tr>\n",
       "    <tr>\n",
       "      <td>1</td>\n",
       "      <td>87285b34884572647811a353c7ac498a</td>\n",
       "      <td>3504c0cb71d7fa48d967e0e4c94d59d9</td>\n",
       "      <td>1</td>\n",
       "    </tr>\n",
       "    <tr>\n",
       "      <td>2</td>\n",
       "      <td>87285b34884572647811a353c7ac498a</td>\n",
       "      <td>(1.487, 2.281]</td>\n",
       "      <td>1</td>\n",
       "    </tr>\n",
       "    <tr>\n",
       "      <td>3</td>\n",
       "      <td>87285b34884572647811a353c7ac498a</td>\n",
       "      <td>(0.913, 1.825]</td>\n",
       "      <td>1</td>\n",
       "    </tr>\n",
       "    <tr>\n",
       "      <td>4</td>\n",
       "      <td>87285b34884572647811a353c7ac498a</td>\n",
       "      <td>(3.0, 4.0]</td>\n",
       "      <td>1</td>\n",
       "    </tr>\n",
       "  </tbody>\n",
       "</table>\n",
       "</div>"
      ],
      "text/plain": [
       "                         product_id                           feature  \\\n",
       "0  87285b34884572647811a353c7ac498a                        housewares   \n",
       "1  87285b34884572647811a353c7ac498a  3504c0cb71d7fa48d967e0e4c94d59d9   \n",
       "2  87285b34884572647811a353c7ac498a                    (1.487, 2.281]   \n",
       "3  87285b34884572647811a353c7ac498a                    (0.913, 1.825]   \n",
       "4  87285b34884572647811a353c7ac498a                        (3.0, 4.0]   \n",
       "\n",
       "   feature_count  \n",
       "0              1  \n",
       "1              1  \n",
       "2              1  \n",
       "3              1  \n",
       "4              1  "
      ]
     },
     "execution_count": 287,
     "metadata": {},
     "output_type": "execute_result"
    }
   ],
   "source": [
    "product_to_feature.head()"
   ]
  },
  {
   "cell_type": "code",
   "execution_count": 286,
   "metadata": {},
   "outputs": [
    {
     "data": {
      "text/html": [
       "<div>\n",
       "<style scoped>\n",
       "    .dataframe tbody tr th:only-of-type {\n",
       "        vertical-align: middle;\n",
       "    }\n",
       "\n",
       "    .dataframe tbody tr th {\n",
       "        vertical-align: top;\n",
       "    }\n",
       "\n",
       "    .dataframe thead th {\n",
       "        text-align: right;\n",
       "    }\n",
       "</style>\n",
       "<table border=\"1\" class=\"dataframe\">\n",
       "  <thead>\n",
       "    <tr style=\"text-align: right;\">\n",
       "      <th></th>\n",
       "      <th>customer_unique_id</th>\n",
       "      <th>product_id</th>\n",
       "      <th>product_count</th>\n",
       "    </tr>\n",
       "  </thead>\n",
       "  <tbody>\n",
       "    <tr>\n",
       "      <td>0</td>\n",
       "      <td>0000366f3b9a7992bf8c76cfdf3221e2</td>\n",
       "      <td>372645c7439f9661fbbacfd129aa92ec</td>\n",
       "      <td>1</td>\n",
       "    </tr>\n",
       "    <tr>\n",
       "      <td>1</td>\n",
       "      <td>0000f46a3911fa3c0805444483337064</td>\n",
       "      <td>64b488de448a5324c4134ea39c28a34b</td>\n",
       "      <td>1</td>\n",
       "    </tr>\n",
       "    <tr>\n",
       "      <td>2</td>\n",
       "      <td>0004aac84e0df4da2b147fca70cf8255</td>\n",
       "      <td>c72e18b3fe2739b8d24ebf3102450f37</td>\n",
       "      <td>1</td>\n",
       "    </tr>\n",
       "    <tr>\n",
       "      <td>3</td>\n",
       "      <td>0004bd2a26a76fe21f786e4fbd80607f</td>\n",
       "      <td>25cf184645f3fae66083bf33581b8f13</td>\n",
       "      <td>1</td>\n",
       "    </tr>\n",
       "    <tr>\n",
       "      <td>4</td>\n",
       "      <td>00053a61a98854899e70ed204dd4bafe</td>\n",
       "      <td>58727e154e8e85d84052cd22b0136c84</td>\n",
       "      <td>2</td>\n",
       "    </tr>\n",
       "  </tbody>\n",
       "</table>\n",
       "</div>"
      ],
      "text/plain": [
       "                 customer_unique_id                        product_id  \\\n",
       "0  0000366f3b9a7992bf8c76cfdf3221e2  372645c7439f9661fbbacfd129aa92ec   \n",
       "1  0000f46a3911fa3c0805444483337064  64b488de448a5324c4134ea39c28a34b   \n",
       "2  0004aac84e0df4da2b147fca70cf8255  c72e18b3fe2739b8d24ebf3102450f37   \n",
       "3  0004bd2a26a76fe21f786e4fbd80607f  25cf184645f3fae66083bf33581b8f13   \n",
       "4  00053a61a98854899e70ed204dd4bafe  58727e154e8e85d84052cd22b0136c84   \n",
       "\n",
       "   product_count  \n",
       "0              1  \n",
       "1              1  \n",
       "2              1  \n",
       "3              1  \n",
       "4              2  "
      ]
     },
     "execution_count": 286,
     "metadata": {},
     "output_type": "execute_result"
    }
   ],
   "source": [
    "user_to_product_rating_train.head()"
   ]
  },
  {
   "cell_type": "code",
   "execution_count": 276,
   "metadata": {
    "scrolled": true
   },
   "outputs": [
    {
     "data": {
      "text/html": [
       "<div>\n",
       "<style scoped>\n",
       "    .dataframe tbody tr th:only-of-type {\n",
       "        vertical-align: middle;\n",
       "    }\n",
       "\n",
       "    .dataframe tbody tr th {\n",
       "        vertical-align: top;\n",
       "    }\n",
       "\n",
       "    .dataframe thead th {\n",
       "        text-align: right;\n",
       "    }\n",
       "</style>\n",
       "<table border=\"1\" class=\"dataframe\">\n",
       "  <thead>\n",
       "    <tr style=\"text-align: right;\">\n",
       "      <th></th>\n",
       "      <th>customer_unique_id</th>\n",
       "      <th>product_id</th>\n",
       "      <th>product_count</th>\n",
       "    </tr>\n",
       "  </thead>\n",
       "  <tbody>\n",
       "    <tr>\n",
       "      <td>0</td>\n",
       "      <td>0000b849f77a49e4a4ce2b2a4ca5be3f</td>\n",
       "      <td>5099f7000472b634fea8304448d20825</td>\n",
       "      <td>1</td>\n",
       "    </tr>\n",
       "    <tr>\n",
       "      <td>1</td>\n",
       "      <td>0000f6ccb0745a6a4b88665a16c9f078</td>\n",
       "      <td>2345a354a6f2033609bbf62bf5be9ef6</td>\n",
       "      <td>1</td>\n",
       "    </tr>\n",
       "    <tr>\n",
       "      <td>2</td>\n",
       "      <td>00050ab1314c0e55a6ca13cf7181fecf</td>\n",
       "      <td>8cefe1c6f2304e7e6825150218ffc58c</td>\n",
       "      <td>1</td>\n",
       "    </tr>\n",
       "    <tr>\n",
       "      <td>3</td>\n",
       "      <td>000d460961d6dbfa3ec6c9f5805769e1</td>\n",
       "      <td>53075a78fc601d6eb47e8ad2d142b7a8</td>\n",
       "      <td>1</td>\n",
       "    </tr>\n",
       "    <tr>\n",
       "      <td>4</td>\n",
       "      <td>000ec5bff359e1c0ad76a81a45cb598f</td>\n",
       "      <td>e9aa3fd3f316b44c85f671552a04fa4a</td>\n",
       "      <td>1</td>\n",
       "    </tr>\n",
       "  </tbody>\n",
       "</table>\n",
       "</div>"
      ],
      "text/plain": [
       "                 customer_unique_id                        product_id  \\\n",
       "0  0000b849f77a49e4a4ce2b2a4ca5be3f  5099f7000472b634fea8304448d20825   \n",
       "1  0000f6ccb0745a6a4b88665a16c9f078  2345a354a6f2033609bbf62bf5be9ef6   \n",
       "2  00050ab1314c0e55a6ca13cf7181fecf  8cefe1c6f2304e7e6825150218ffc58c   \n",
       "3  000d460961d6dbfa3ec6c9f5805769e1  53075a78fc601d6eb47e8ad2d142b7a8   \n",
       "4  000ec5bff359e1c0ad76a81a45cb598f  e9aa3fd3f316b44c85f671552a04fa4a   \n",
       "\n",
       "   product_count  \n",
       "0              1  \n",
       "1              1  \n",
       "2              1  \n",
       "3              1  \n",
       "4              1  "
      ]
     },
     "execution_count": 276,
     "metadata": {},
     "output_type": "execute_result"
    }
   ],
   "source": [
    "user_to_product_rating_test.head()"
   ]
  },
  {
   "cell_type": "code",
   "execution_count": 215,
   "metadata": {},
   "outputs": [],
   "source": [
    "from scipy import sparse\n",
    "def get_interaction_matrix(df, df_column_as_row, df_column_as_col, df_column_as_value, row_indexing_map, \n",
    "                          col_indexing_map):\n",
    "    \n",
    "    row = df[df_column_as_row].apply(lambda x: row_indexing_map[x]).values\n",
    "    col = df[df_column_as_col].apply(lambda x: col_indexing_map[x]).values\n",
    "    value = df[df_column_as_value].values\n",
    "    \n",
    "    return sparse.coo_matrix((value, (row, col)), shape = (len(row_indexing_map), len(col_indexing_map)))"
   ]
  },
  {
   "cell_type": "code",
   "execution_count": 216,
   "metadata": {},
   "outputs": [],
   "source": [
    "\n",
    "# generate user_item_interaction_matrix for train data\n",
    "user_to_product_interaction_train = get_interaction_matrix(user_to_product_rating_train, \"customer_unique_id\", \n",
    "                                                    \"product_id\", \"product_count\", user_to_index_mapping, item_to_index_mapping)\n",
    "\n",
    "# generate user_item_interaction_matrix for test data\n",
    "user_to_product_interaction_test = get_interaction_matrix(user_to_product_rating_test, \"customer_unique_id\", \n",
    "                                                    \"product_id\", \"product_count\", user_to_index_mapping, item_to_index_mapping)\n",
    "\n",
    "# generate item_to_feature interaction\n",
    "product_to_feature_interaction = get_interaction_matrix(product_to_feature, \"product_id\", \"feature\",  \"feature_count\", \n",
    "                                                        item_to_index_mapping, feature_to_index_mapping)"
   ]
  },
  {
   "cell_type": "code",
   "execution_count": 221,
   "metadata": {},
   "outputs": [
    {
     "name": "stdout",
     "output_type": "stream",
     "text": [
      "time taken = 0.16 seconds\n",
      "time taken = 22.43 seconds\n",
      "average AUC without adding item-feature interaction = 0.68\n"
     ]
    }
   ],
   "source": [
    "# initialising model with warp loss function\n",
    "model_without_features = LightFM(loss = \"warp\")\n",
    "\n",
    "# fitting into user to product interaction matrix only / pure collaborative filtering factor\n",
    "start = time.time()\n",
    "#===================\n",
    "\n",
    "model_without_features.fit(user_to_product_interaction_train,\n",
    "          user_features=None, \n",
    "          item_features=None, \n",
    "          sample_weight=None, \n",
    "          epochs=1, \n",
    "          num_threads=4,\n",
    "          verbose=False)\n",
    "\n",
    "#===================\n",
    "end = time.time()\n",
    "print(\"time taken = {0:.{1}f} seconds\".format(end - start, 2))\n",
    "\n",
    "# auc metric score (ranging from 0 to 1)\n",
    "\n",
    "start = time.time()\n",
    "#===================\n",
    "\n",
    "auc_without_features = auc_score(model = model_without_features, \n",
    "                        test_interactions = user_to_product_interaction_test,\n",
    "                        num_threads = 4, check_intersections = False)\n",
    "#===================\n",
    "end = time.time()\n",
    "\n",
    "print(\"time taken = {0:.{1}f} seconds\".format(end - start, 2))\n",
    "print(\"average AUC without adding item-feature interaction = {0:.{1}f}\".format(auc_without_features.mean(), 2))"
   ]
  },
  {
   "cell_type": "code",
   "execution_count": 222,
   "metadata": {},
   "outputs": [
    {
     "name": "stdout",
     "output_type": "stream",
     "text": [
      "time taken = 0.21 seconds\n",
      "time taken = 45.75 seconds\n",
      "average AUC with adding item-feature interaction = 0.79\n"
     ]
    }
   ],
   "source": [
    "import time\n",
    "from lightfm import LightFM\n",
    "from lightfm.evaluation import auc_score\n",
    "# initialising model with warp loss function\n",
    "model_with_features = LightFM(loss = \"warp\")\n",
    "\n",
    "# fitting the model with hybrid collaborative filtering + content based (product + features)\n",
    "start = time.time()\n",
    "#===================\n",
    "\n",
    "\n",
    "model_with_features.fit(user_to_product_interaction_train,\n",
    "          user_features=None, \n",
    "          item_features=product_to_feature_interaction, \n",
    "          sample_weight=None, \n",
    "          epochs=1, \n",
    "          num_threads=4,\n",
    "          verbose=False)\n",
    "\n",
    "#===================\n",
    "end = time.time()\n",
    "print(\"time taken = {0:.{1}f} seconds\".format(end - start, 2))\n",
    "\n",
    "start = time.time()\n",
    "#===================\n",
    "auc_with_features = auc_score(model = model_with_features, \n",
    "                        test_interactions = user_to_product_interaction_test,\n",
    "                        train_interactions = user_to_product_interaction_train, \n",
    "                        item_features = product_to_feature_interaction,\n",
    "                        num_threads = 4, check_intersections=False)\n",
    "#===================\n",
    "end = time.time()\n",
    "print(\"time taken = {0:.{1}f} seconds\".format(end - start, 2))\n",
    "\n",
    "print(\"average AUC with adding item-feature interaction = {0:.{1}f}\".format(auc_with_features.mean(), 2))\n"
   ]
  },
  {
   "cell_type": "code",
   "execution_count": 225,
   "metadata": {},
   "outputs": [],
   "source": [
    "def combined_train_test(train, test):\n",
    "    \"\"\"\n",
    "    \n",
    "    test set is the more recent rating/number_of_order of users.\n",
    "    train set is the previous rating/number_of_order of users.\n",
    "    non-zero value in the test set will replace the elements in \n",
    "    the train set matrices\n",
    "    \"\"\"\n",
    "    # initialising train dict\n",
    "    train_dict = {}\n",
    "    for train_row, train_col, train_data in zip(train.row, train.col, train.data):\n",
    "        train_dict[(train_row, train_col)] = train_data\n",
    "        \n",
    "    # replacing with the test set\n",
    "    \n",
    "    for test_row, test_col, test_data in zip(test.row, test.col, test.data):\n",
    "        train_dict[(test_row, test_col)] = max(test_data, train_dict.get((test_row, test_col), 0))\n",
    "        \n",
    "    \n",
    "    # converting to the row\n",
    "    row_element = []\n",
    "    col_element = []\n",
    "    data_element = []\n",
    "    for row, col in train_dict:\n",
    "        row_element.append(row)\n",
    "        col_element.append(col)\n",
    "        data_element.append(train_dict[(row, col)])\n",
    "        \n",
    "    # converting to np array\n",
    "    \n",
    "    row_element = np.array(row_element)\n",
    "    col_element = np.array(col_element)\n",
    "    data_element = np.array(data_element)\n",
    "    \n",
    "    return sparse.coo_matrix((data_element, (row_element, col_element)), shape = (train.shape[0], train.shape[1]))"
   ]
  },
  {
   "cell_type": "code",
   "execution_count": 226,
   "metadata": {},
   "outputs": [],
   "source": [
    "user_to_product_interaction = combined_train_test(user_to_product_interaction_train, \n",
    "                                                 user_to_product_interaction_test)"
   ]
  },
  {
   "cell_type": "code",
   "execution_count": 256,
   "metadata": {},
   "outputs": [
    {
     "name": "stdout",
     "output_type": "stream",
     "text": [
      "time taken = 0.26 seconds\n"
     ]
    }
   ],
   "source": [
    "# retraining the final model with combined dataset\n",
    "\n",
    "final_model = LightFM(loss = \"warp\")\n",
    "\n",
    "# fitting to combined dataset with pure collaborative filtering result\n",
    "\n",
    "start = time.time()\n",
    "#===================\n",
    "\n",
    "final_model.fit(user_to_product_interaction,\n",
    "          user_features=None, \n",
    "          item_features=product_to_feature_interaction, \n",
    "          sample_weight=None, \n",
    "          epochs=1, \n",
    "          num_threads=4,\n",
    "          verbose=False)\n",
    "\n",
    "#===================\n",
    "end = time.time()\n",
    "print(\"time taken = {0:.{1}f} seconds\".format(end - start, 2))"
   ]
  },
  {
   "cell_type": "code",
   "execution_count": 258,
   "metadata": {},
   "outputs": [],
   "source": [
    "class recommendation_sampling:\n",
    "    \n",
    "    def __init__(self, model, items = items, user_to_product_interaction_matrix = user_to_product_interaction, \n",
    "                user2index_map = user_to_index_mapping):\n",
    "        \n",
    "        self.user_to_product_interaction_matrix = user_to_product_interaction_matrix\n",
    "        self.model = model\n",
    "        self.items = items\n",
    "        self.user2index_map = user2index_map\n",
    "    \n",
    "    def recommendation_for_user(self, user):\n",
    "        \n",
    "        # getting the userindex\n",
    "        \n",
    "        userindex = self.user2index_map.get(user, None)\n",
    "        \n",
    "        if userindex == None:\n",
    "            return None\n",
    "        \n",
    "        users = [userindex]\n",
    "        \n",
    "        # products already bought\n",
    "        \n",
    "        known_positives = self.items[self.user_to_product_interaction_matrix.tocsr()[userindex].indices]\n",
    "        \n",
    "        # scores from model prediction\n",
    "        scores = self.model.predict(user_ids = users, item_ids = np.arange(self.user_to_product_interaction_matrix.shape[1]),\n",
    "                                    item_features = product_to_feature_interaction)\n",
    "        \n",
    "        # top items\n",
    "        \n",
    "        top_items = self.items[np.argsort(-scores)]\n",
    "        \n",
    "        # printing out the result\n",
    "        print(\"User %s\" % user)\n",
    "        print(\"     Known positives:\")\n",
    "        \n",
    "        for x in known_positives[:3]:\n",
    "            print(\"                  %s\" % x)\n",
    "            print(\"                  {}\".format(product_to_feature['feature'][product_to_feature['product_id'] == x].iloc[0]))\n",
    "            \n",
    "            \n",
    "        print(\"     Recommended:\")\n",
    "        \n",
    "        for x in top_items[:3]:\n",
    "            print(\"                  %s\" % x)\n",
    "            print(\"                  {}\".format(product_to_feature['feature'][product_to_feature['product_id'] == x].iloc[0]))"
   ]
  },
  {
   "cell_type": "code",
   "execution_count": 291,
   "metadata": {},
   "outputs": [
    {
     "name": "stdout",
     "output_type": "stream",
     "text": [
      "User 11f97da02237a49c8e783dfda6f50e8e\n",
      "     Known positives:\n",
      "                  37eb69aca8718e843d897aa7b82f462d\n",
      "                  garden_tools\n",
      "     Recommended:\n",
      "                  2b4609f8948be18874494203496bc318\n",
      "                  health_beauty\n",
      "                  154e7e31ebfa092203795c972e5804a6\n",
      "                  health_beauty\n",
      "                  389d119b48cf3043d311335e499d9c6b\n",
      "                  garden_tools\n",
      "None\n"
     ]
    }
   ],
   "source": [
    "recom = recommendation_sampling(model = final_model)\n",
    "#print(recom.recommendation_for_user(2))\n",
    "print(recom.recommendation_for_user('11f97da02237a49c8e783dfda6f50e8e'))"
   ]
  },
  {
   "cell_type": "markdown",
   "metadata": {},
   "source": [
    "- drop products that havent been bought too many times\n",
    "- \n"
   ]
  },
  {
   "cell_type": "markdown",
   "metadata": {},
   "source": [
    "## Recommender System using LightFM"
   ]
  },
  {
   "cell_type": "markdown",
   "metadata": {},
   "source": [
    "### Data preprocessing:"
   ]
  },
  {
   "cell_type": "markdown",
   "metadata": {},
   "source": [
    "**Metadata:**\n",
    "\n",
    "We want to begin by extracting information about each product with at least one review. More general information will also be required about each product, such as the average review score, the number of messages and number of reviews. This will be done by pulling columns from the cleaned sellers df created in the data cleaning section of this report.\n",
    "\n",
    "Following this we will group the product descriptions into bins to generalize for the model using pandas cut and qcut."
   ]
  },
  {
   "cell_type": "code",
   "execution_count": null,
   "metadata": {
    "scrolled": true
   },
   "outputs": [],
   "source": [
    "sellers.columns"
   ]
  },
  {
   "cell_type": "code",
   "execution_count": null,
   "metadata": {},
   "outputs": [],
   "source": [
    "def create_interaction_matrix(df,user_col, item_col, rating_col, norm= False, threshold = None):\n",
    "    '''\n",
    "    Function to create an interaction matrix dataframe from transactional type interactions\n",
    "    Required Input -\n",
    "        - df = Pandas DataFrame containing user-item interactions\n",
    "        - user_col = column name containing user's identifier\n",
    "        - item_col = column name containing item's identifier\n",
    "        - rating col = column name containing user feedback on interaction with a given item\n",
    "        - norm (optional) = True if a normalization of ratings is needed\n",
    "        - threshold (required if norm = True) = value above which the rating is favorable\n",
    "    Expected output - \n",
    "        - Pandas dataframe with user-item interactions ready to be fed in a recommendation algorithm\n",
    "    '''\n",
    "    interactions = df.groupby([user_col, item_col])[rating_col] \\\n",
    "            .sum().unstack().reset_index(). \\\n",
    "            fillna(0).set_index(user_col)\n",
    "    if norm:\n",
    "        interactions = interactions.applymap(lambda x: 1 if x > threshold else 0)\n",
    "    return interactions"
   ]
  },
  {
   "cell_type": "code",
   "execution_count": null,
   "metadata": {},
   "outputs": [],
   "source": [
    "# Creating interaction matrix using rating data\n",
    "interactions = create_interaction_matrix(df = ratings_selected,\n",
    "                                         user_col = 'customer_id',\n",
    "                                         item_col = 'product_id',\n",
    "                                         rating_col = 'review_score',\n",
    "                                         norm=True,\n",
    "                                         threshold=3)\n",
    "interactions.head()"
   ]
  },
  {
   "cell_type": "code",
   "execution_count": null,
   "metadata": {},
   "outputs": [],
   "source": [
    "def create_item_dict(df,id_col,name_col):\n",
    "    '''\n",
    "    Function to create an item dictionary based on their item_id and item name\n",
    "    Required Input - \n",
    "        - df = Pandas dataframe with Item information\n",
    "        - id_col = Column name containing unique identifier for an item\n",
    "        - name_col = Column name containing name of the item\n",
    "    Expected Output -\n",
    "        item_dict = Dictionary type output containing item_id as key and item_name as value\n",
    "    '''\n",
    "    item_dict ={}\n",
    "    for i in range(df.shape[0]):\n",
    "        item_dict[(df.loc[i,id_col])] = df.loc[i,name_col]\n",
    "    return item_dict"
   ]
  },
  {
   "cell_type": "code",
   "execution_count": null,
   "metadata": {},
   "outputs": [],
   "source": [
    "def create_user_dict(interactions):\n",
    "    '''\n",
    "    Function to create a user dictionary based on their index and number in interaction dataset\n",
    "    Required Input - \n",
    "        interactions - dataset create by create_interaction_matrix\n",
    "    Expected Output -\n",
    "        user_dict - Dictionary type output containing interaction_index as key and user_id as value\n",
    "    '''\n",
    "    user_id = list(interactions.index)\n",
    "    user_dict = {}\n",
    "    counter = 0 \n",
    "    for i in user_id:\n",
    "        user_dict[i] = counter\n",
    "        counter += 1\n",
    "    return user_dict"
   ]
  },
  {
   "cell_type": "code",
   "execution_count": null,
   "metadata": {},
   "outputs": [],
   "source": [
    "# Create User Dict\n",
    "user_dict = create_user_dict(interactions=interactions)\n",
    "# Create Item dict\n",
    "items_dict = create_item_dict(df = items_selected,\n",
    "                               id_col = 'product_id',\n",
    "                               name_col = 'product_category_name')"
   ]
  },
  {
   "cell_type": "code",
   "execution_count": null,
   "metadata": {},
   "outputs": [],
   "source": [
    "def runMF(interactions, n_components=30, loss='warp', k=15, epoch=30,n_jobs = 4):\n",
    "    '''\n",
    "    Function to run matrix-factorization algorithm\n",
    "    Required Input -\n",
    "        - interactions = dataset create by create_interaction_matrix\n",
    "        - n_components = number of embeddings you want to create to define Item and user\n",
    "        - loss = loss function other options are logistic, brp\n",
    "        - epoch = number of epochs to run \n",
    "        - n_jobs = number of cores used for execution \n",
    "    Expected Output  -\n",
    "        Model - Trained model\n",
    "    '''\n",
    "    x = sparse.csr_matrix(interactions.values)\n",
    "    model = LightFM(no_components= n_components, loss=loss,k=k)\n",
    "    model.fit(x,epochs=epoch,num_threads = n_jobs)\n",
    "    return model"
   ]
  },
  {
   "cell_type": "code",
   "execution_count": null,
   "metadata": {
    "scrolled": true
   },
   "outputs": [],
   "source": [
    "from lightfm import LightFM\n",
    "from scipy import sparse\n",
    "mf_model = runMF(interactions = interactions,\n",
    "                 n_components = 150,\n",
    "                 loss = 'warp',\n",
    "                 epoch = 30,\n",
    "                 n_jobs = 4)"
   ]
  },
  {
   "cell_type": "code",
   "execution_count": null,
   "metadata": {},
   "outputs": [],
   "source": [
    "def sample_recommendation_user(model, interactions, user_id, user_dict, \n",
    "                               item_dict,threshold = 0,nrec_items = 10, show = True):\n",
    "    '''\n",
    "    Function to produce user recommendations\n",
    "    Required Input - \n",
    "        - model = Trained matrix factorization model\n",
    "        - interactions = dataset used for training the model\n",
    "        - user_id = user ID for which we need to generate recommendation\n",
    "        - user_dict = Dictionary type input containing interaction_index as key and user_id as value\n",
    "        - item_dict = Dictionary type input containing item_id as key and item_name as value\n",
    "        - threshold = value above which the rating is favorable in new interaction matrix\n",
    "        - nrec_items = Number of output recommendation needed\n",
    "    Expected Output - \n",
    "        - Prints list of items the given user has already bought\n",
    "        - Prints list of N recommended items  which user hopefully will be interested in\n",
    "    '''\n",
    "    n_users, n_items = interactions.shape\n",
    "    user_x = user_dict[user_id]\n",
    "    scores = pd.Series(model.predict(user_x,np.arange(n_items)))\n",
    "    scores.index = interactions.columns\n",
    "    scores = list(pd.Series(scores.sort_values(ascending=False).index))\n",
    "    \n",
    "    known_items = list(pd.Series(interactions.loc[user_id,:] \\\n",
    "                                 [interactions.loc[user_id,:] > threshold].index) \\\n",
    "                                 .sort_values(ascending=False))\n",
    "    \n",
    "    scores = [x for x in scores if x not in known_items]\n",
    "    return_score_list = scores[0:nrec_items]\n",
    "    known_items = list(pd.Series(known_items).apply(lambda x: item_dict[x]))\n",
    "    scores = list(pd.Series(return_score_list).apply(lambda x: item_dict[x]))\n",
    "    if show == True:\n",
    "        print(\"Known Likes:\")\n",
    "        counter = 1\n",
    "        for i in known_items:\n",
    "            print(str(counter) + '- ' + i)\n",
    "            counter+=1\n",
    "\n",
    "        print(\"\\n Recommended Items:\")\n",
    "        counter = 1\n",
    "        for i in scores:\n",
    "            print(str(counter) + '- ' + i)\n",
    "            counter+=1\n",
    "    return return_score_list"
   ]
  },
  {
   "cell_type": "code",
   "execution_count": null,
   "metadata": {
    "scrolled": true
   },
   "outputs": [],
   "source": [
    "sample_recommendation_user(model = mf_model, \n",
    "                                      interactions = interactions, \n",
    "                                      user_id = 'fc3d1daec319d62d49bfb5e1f83123e9', \n",
    "                                      user_dict = user_dict,\n",
    "                                      item_dict = items_dict, \n",
    "                                      threshold = 4,\n",
    "                                      nrec_items = 5,\n",
    "                                      show = True)"
   ]
  },
  {
   "cell_type": "markdown",
   "metadata": {},
   "source": [
    "## Train, Test, Split Refactored"
   ]
  },
  {
   "cell_type": "code",
   "execution_count": null,
   "metadata": {},
   "outputs": [],
   "source": [
    "import random\n",
    "np.random.seed(31)\n",
    "\n",
    "rows = np.random.binomial(1, .5, size=len(ratings_)).astype('bool')\n",
    "\n",
    "ratings_train = ratings_[rows].reset_index(drop=True)\n",
    "ratings_test = ratings_[~rows].reset_index(drop=True)\n",
    "\n",
    "items_train = items_[rows].reset_index(drop=True)\n",
    "items_test = items_[~rows].reset_index(drop=True)"
   ]
  },
  {
   "cell_type": "code",
   "execution_count": null,
   "metadata": {},
   "outputs": [],
   "source": [
    "ratings_train.head()"
   ]
  },
  {
   "cell_type": "code",
   "execution_count": null,
   "metadata": {},
   "outputs": [],
   "source": [
    "# Creating interaction matrix using rating data\n",
    "interactions_train = create_interaction_matrix(df = ratings_train,\n",
    "                                             user_col = 'customer_id',\n",
    "                                             item_col = 'product_id',\n",
    "                                             rating_col = 'review_score',\n",
    "                                             norm=True,\n",
    "                                             threshold=3)"
   ]
  },
  {
   "cell_type": "code",
   "execution_count": null,
   "metadata": {},
   "outputs": [],
   "source": [
    "interactions_train.head()"
   ]
  },
  {
   "cell_type": "code",
   "execution_count": null,
   "metadata": {},
   "outputs": [],
   "source": [
    "# Creating interaction matrix using rating data\n",
    "interactions_test = create_interaction_matrix(df = ratings_test,\n",
    "                                             user_col = 'customer_id',\n",
    "                                             item_col = 'product_id',\n",
    "                                             rating_col = 'review_score',\n",
    "                                             norm=True,\n",
    "                                             threshold=3)\n",
    "interactions_test.head()"
   ]
  },
  {
   "cell_type": "code",
   "execution_count": null,
   "metadata": {},
   "outputs": [],
   "source": [
    "# Create User Dict\n",
    "user_dict_train = create_user_dict(interactions=interactions_train)\n",
    "# Create Item dict\n",
    "items_dict_train = create_item_dict(df = items_train,\n",
    "                               id_col = 'product_id',\n",
    "                               name_col = 'product_category_name')"
   ]
  },
  {
   "cell_type": "code",
   "execution_count": null,
   "metadata": {},
   "outputs": [],
   "source": [
    "# Create User Dict\n",
    "user_dict_train = create_user_dict(interactions=interactions_test)\n",
    "# Create Item dict\n",
    "items_dict_train = create_item_dict(df = items_test,\n",
    "                               id_col = 'product_id',\n",
    "                               name_col = 'product_category_name')"
   ]
  },
  {
   "cell_type": "code",
   "execution_count": null,
   "metadata": {},
   "outputs": [],
   "source": [
    "import itertools\n",
    "\n",
    "import numpy as np\n",
    "\n",
    "from lightfm import LightFM\n",
    "from lightfm.evaluation import auc_score\n",
    "\n",
    "\n",
    "def sample_hyperparameters():\n",
    "    \"\"\"\n",
    "    Yield possible hyperparameter choices.\n",
    "    \"\"\"\n",
    "\n",
    "    while True:\n",
    "        yield {\n",
    "            \"no_components\": np.random.randint(16, 64),\n",
    "            \"learning_schedule\": np.random.choice([\"adagrad\", \"adadelta\"]),\n",
    "            \"loss\": np.random.choice([\"bpr\", \"warp\", \"warp-kos\"]),\n",
    "            \"learning_rate\": np.random.exponential(0.05),\n",
    "            \"item_alpha\": np.random.exponential(1e-8),\n",
    "            \"user_alpha\": np.random.exponential(1e-8),\n",
    "            \"max_sampled\": np.random.randint(5, 15),\n",
    "            \"num_epochs\": np.random.randint(5, 50),\n",
    "        }\n",
    "\n",
    "\n",
    "def random_search(test, train, num_samples=10, num_threads=1):\n",
    "    \"\"\"\n",
    "    Sample random hyperparameters, fit a LightFM model, and evaluate it\n",
    "    on the test set.\n",
    "\n",
    "    Parameters\n",
    "    ----------\n",
    "\n",
    "    train: np.float32 coo_matrix of shape [n_users, n_items]\n",
    "        Training data.\n",
    "    test: np.float32 coo_matrix of shape [n_users, n_items]\n",
    "        Test data.\n",
    "    num_samples: int, optional\n",
    "        Number of hyperparameter choices to evaluate.\n",
    "\n",
    "\n",
    "    Returns\n",
    "    -------\n",
    "\n",
    "    generator of (auc_score, hyperparameter dict, fitted model)\n",
    "\n",
    "    \"\"\"\n",
    "\n",
    "    for hyperparams in itertools.islice(sample_hyperparameters(), num_samples):\n",
    "        num_epochs = hyperparams.pop(\"num_epochs\")\n",
    "\n",
    "        model = LightFM(**hyperparams)\n",
    "        model.fit(train, epochs=num_epochs, num_threads=num_threads)\n",
    "\n",
    "        score = auc_score(model, \n",
    "                          test_interactions=test,\n",
    "                          num_threads=num_threads).mean()\n",
    "\n",
    "        hyperparams[\"num_epochs\"] = num_epochs\n",
    "\n",
    "        yield (score, hyperparams, model)"
   ]
  },
  {
   "cell_type": "code",
   "execution_count": null,
   "metadata": {
    "scrolled": false
   },
   "outputs": [],
   "source": [
    "from scipy import sparse\n",
    "if __name__ == \"__main__\":\n",
    "    \n",
    "    #user_features = customer_product_interaction_test.index\n",
    "    #item_features = customer_product_interaction_test.columns\n",
    "    \n",
    "    x_test = sparse.csr_matrix(interactions_test.values)\n",
    "    x_train = sparse.csr_matrix(interactions_train.values)\n",
    "    \n",
    "    (score, hyperparams, model) = max(random_search(x_test, x_train),\n",
    "                                      key=lambda x: x[0])\n",
    "    \n",
    "    \n",
    "    print(\"Best score {} at {}\".format(score, hyperparams))"
   ]
  },
  {
   "cell_type": "code",
   "execution_count": null,
   "metadata": {
    "scrolled": true
   },
   "outputs": [],
   "source": [
    "# product info, will use review score and review comments to create aggregated columns\n",
    "metadata_selected = customers[['customer_id', 'product_id', 'seller_id', 'product_category_name', 'product_name_lenght',\n",
    "                             'product_description_lenght', 'product_photos_qty', 'product_weight_g',\n",
    "                             'product_length_cm', 'product_height_cm', 'product_width_cm', 'review_score', \n",
    "                             'review_comment_message', 'review_answer_timestamp']]\n",
    "metadata_selected.sort_values('product_id', ascending=False, inplace=True)\n",
    "metadata_selected.reset_index(drop=True, inplace=True)"
   ]
  },
  {
   "cell_type": "code",
   "execution_count": null,
   "metadata": {},
   "outputs": [],
   "source": [
    "metadata_selected.head()"
   ]
  },
  {
   "cell_type": "code",
   "execution_count": null,
   "metadata": {
    "scrolled": true
   },
   "outputs": [],
   "source": [
    "interactions = customers[['customer_id', 'product_id', 'review_id', 'review_score', 'review_comment_title',\n",
    "       'review_comment_message', 'review_creation_date', 'review_answer_timestamp']]\n",
    "interactions.sort_values('product_id', ascending=False, inplace=True)\n",
    "interactions.reset_index(drop=True, inplace=True)"
   ]
  },
  {
   "cell_type": "code",
   "execution_count": null,
   "metadata": {},
   "outputs": [],
   "source": [
    "# set dfs to have common orders between them\n",
    "metadata_selected = metadata_selected[metadata_selected.product_id.isin(interactions.product_id)].reset_index(drop=True)\n",
    "interactions = interactions[interactions.product_id.isin(metadata_selected.product_id)].reset_index(drop=True)"
   ]
  },
  {
   "cell_type": "code",
   "execution_count": null,
   "metadata": {},
   "outputs": [],
   "source": [
    "ratings_ = metadata_selected[['customer_id', 'product_id', 'review_score', 'review_answer_timestamp']]\n",
    "items_ = metadata_selected[['product_id', 'product_category_name']]"
   ]
  },
  {
   "cell_type": "markdown",
   "metadata": {},
   "source": [
    "## Work using LightFM Documentation"
   ]
  },
  {
   "cell_type": "code",
   "execution_count": null,
   "metadata": {},
   "outputs": [],
   "source": [
    "import random\n",
    "np.random.seed(31)\n",
    "\n",
    "rows = np.random.binomial(1, .75, size=len(ratings_)).astype('bool')\n",
    "\n",
    "ratings_train = ratings_[rows].reset_index(drop=True)\n",
    "ratings_test = ratings_[~rows].reset_index(drop=True)\n",
    "\n",
    "items_train = items_[rows].reset_index(drop=True)\n",
    "items_test = items_[~rows].reset_index(drop=True)"
   ]
  },
  {
   "cell_type": "code",
   "execution_count": null,
   "metadata": {
    "scrolled": true
   },
   "outputs": [],
   "source": [
    "from lightfm.data import Dataset\n",
    "dataset = Dataset()\n",
    "dataset.fit(\n",
    "            (x['customer_id'] for x in ratings_train[['customer_id', 'product_id', 'review_score']]),\n",
    "            (x['product_id'] for x in  items_train[['product_id', 'product_category_name']])\n",
    "            )"
   ]
  },
  {
   "cell_type": "code",
   "execution_count": null,
   "metadata": {},
   "outputs": [],
   "source": [
    "dataset = Dataset()\n",
    "dataset.fit((x['User-ID'] for x in get_ratings()),\n",
    "            (x['ISBN'] for x in get_ratings()))"
   ]
  },
  {
   "cell_type": "code",
   "execution_count": null,
   "metadata": {},
   "outputs": [],
   "source": [
    "num_users, num_items = dataset.interactions_shape()\n",
    "print('Num users: {}, num_items {}.'.format(num_users, num_items))"
   ]
  },
  {
   "cell_type": "code",
   "execution_count": null,
   "metadata": {},
   "outputs": [],
   "source": [
    "(interactions, weights) = dataset.build_interactions(zip(ratings_train['customer_id'], ratings_train['product_id']))"
   ]
  },
  {
   "cell_type": "code",
   "execution_count": null,
   "metadata": {},
   "outputs": [],
   "source": [
    "print(repr(interactions))"
   ]
  },
  {
   "cell_type": "code",
   "execution_count": null,
   "metadata": {
    "scrolled": true
   },
   "outputs": [],
   "source": [
    "item_features = dataset_.build_item_features(zip(items_train['product_id'], items_train['product_category_name']))\n",
    "print(repr(item_features))"
   ]
  },
  {
   "cell_type": "markdown",
   "metadata": {},
   "source": [
    "# Prior work"
   ]
  },
  {
   "cell_type": "code",
   "execution_count": null,
   "metadata": {},
   "outputs": [],
   "source": [
    "# to avoid counting a review comment labeled 'no comment given', we will convert them back to NAN\n",
    "metadata_selected['review_comment_message'] = metadata_selected.review_comment_message\\\n",
    "                                                               .replace('no comment given', np.nan)\n",
    "\n",
    "# create average review score column \n",
    "metadata_selected['avg_review_score'] = metadata_selected['review_score']\\\n",
    "                                                                         .groupby(metadata_selected['product_id'])\\\n",
    "                                                                         .transform('mean')\n",
    "# total up reviews per product_id\n",
    "metadata_selected['num_reviews'] = metadata_selected['review_score']\\\n",
    "                                                                    .groupby(metadata_selected['product_id'])\\\n",
    "                                                                    .transform('count')\n",
    "\n",
    "# total up comments per product_id\n",
    "metadata_selected['num_comments'] = metadata_selected['review_comment_message']\\\n",
    "                                                           .groupby(metadata_selected['product_id'])\\\n",
    "                                                           .transform('count')"
   ]
  },
  {
   "cell_type": "code",
   "execution_count": null,
   "metadata": {},
   "outputs": [],
   "source": [
    "# round avg_review_score to the nearest .5\n",
    "metadata_selected['avg_review_score'] = metadata_selected['avg_review_score'].apply(lambda x: round(x*2)/2)\n",
    "\n",
    "# use cut to define bin edges\n",
    "cols_to_cut = ['product_name_lenght',\n",
    "       'product_description_lenght', 'product_photos_qty', 'product_weight_g',\n",
    "       'product_length_cm', 'product_height_cm', 'product_width_cm']\n",
    "for col in cols_to_cut:\n",
    "    metadata_selected[col] = pd.cut(metadata_selected[col], bins = 25)\n",
    "\n",
    "# use qcut to group the same number of reviews in each section\n",
    "metadata_selected['num_reviews'] = pd.qcut(metadata_selected['num_reviews'], 25, duplicates = 'drop')\n",
    "metadata_selected['num_comments'] = pd.qcut(metadata_selected['num_comments'], 10, duplicates = 'drop')"
   ]
  },
  {
   "cell_type": "code",
   "execution_count": null,
   "metadata": {
    "scrolled": true
   },
   "outputs": [],
   "source": [
    "metadata_selected.head()"
   ]
  },
  {
   "cell_type": "code",
   "execution_count": null,
   "metadata": {},
   "outputs": [],
   "source": [
    "interactions.head()"
   ]
  },
  {
   "cell_type": "markdown",
   "metadata": {},
   "source": [
    "__Train, test split__"
   ]
  },
  {
   "cell_type": "code",
   "execution_count": null,
   "metadata": {},
   "outputs": [],
   "source": [
    "import random\n",
    "np.random.seed(31)\n",
    "\n",
    "rows = np.random.binomial(1, .8, size=len(interactions)).astype('bool')\n",
    "\n",
    "metadata_train = metadata_selected[rows]\n",
    "metadata_test = metadata_selected[~rows]\n",
    "\n",
    "interactions_train = interactions[rows]\n",
    "interactions_test = interactions[~rows]"
   ]
  },
  {
   "cell_type": "code",
   "execution_count": null,
   "metadata": {},
   "outputs": [],
   "source": [
    "metadata_train.head()"
   ]
  },
  {
   "cell_type": "code",
   "execution_count": null,
   "metadata": {},
   "outputs": [],
   "source": [
    "interactions_train.head()"
   ]
  },
  {
   "cell_type": "markdown",
   "metadata": {},
   "source": [
    "__Prepare train and test__"
   ]
  },
  {
   "cell_type": "code",
   "execution_count": null,
   "metadata": {},
   "outputs": [],
   "source": []
  },
  {
   "cell_type": "markdown",
   "metadata": {},
   "source": [
    "__Customer-product interactions df:__\n",
    "\n",
    "We want to now create a dataframe that describes the relationship between customer and product including review scores and comments. "
   ]
  },
  {
   "cell_type": "code",
   "execution_count": null,
   "metadata": {},
   "outputs": [],
   "source": [
    "# select reviews for each product and drop duplicate rows\n",
    "interactions_train_selected = metadata_train[['customer_id', 'product_id', 'review_score']]\n",
    "#interactions_train_selected.drop_duplicates(keep = 'first', inplace=True)\n",
    "\n",
    "interactions_test_selected = metadata_test[['customer_id', 'product_id', 'review_score']]\n",
    "#interactions_test_selected.drop_duplicates(keep = 'first', inplace=True)"
   ]
  },
  {
   "cell_type": "markdown",
   "metadata": {},
   "source": [
    "__Create dummy variables__"
   ]
  },
  {
   "cell_type": "code",
   "execution_count": null,
   "metadata": {
    "scrolled": false
   },
   "outputs": [],
   "source": [
    "# Train\n",
    "# dummify groupings\n",
    "cols_to_dummify = ['product_category_name','product_name_lenght', 'product_description_lenght',\n",
    "                   'product_photos_qty', 'product_weight_g', 'product_length_cm',\n",
    "                   'product_height_cm', 'product_width_cm', 'avg_review_score',\n",
    "                   'num_reviews', 'num_comments']\n",
    "products_metadata_train_transformed = pd.get_dummies(metadata_train, \n",
    "                                                        columns = cols_to_dummify)\n",
    "\n",
    "# sort the rows by product and reset the index\n",
    "products_metadata_train_transformed = products_metadata_train_transformed\\\n",
    "                                                                         .sort_values('product_id')\\\n",
    "                                                                         .reset_index()\\\n",
    "                                                                         .drop('index', axis=1)"
   ]
  },
  {
   "cell_type": "code",
   "execution_count": null,
   "metadata": {},
   "outputs": [],
   "source": [
    "# set the index as product_id\n",
    "products_metadata_train_transformed_ = products_metadata_train_transformed.set_index('product_id')\n",
    "products_features_train_transformed = products_metadata_train_transformed_.drop(['seller_id', 'customer_id'], axis=1)\n",
    "\n",
    "# set the index as product_id\n",
    "customers_metadata_train_transformed = products_metadata_train_transformed.set_index('customer_id')\n",
    "customers_features_train_transformed = customers_metadata_train_transformed.drop(['seller_id', 'product_id'], axis=1)"
   ]
  },
  {
   "cell_type": "code",
   "execution_count": null,
   "metadata": {
    "scrolled": true
   },
   "outputs": [],
   "source": [
    "products_features_train_transformed.drop(['review_comment_message', 'review_score'], axis=1, inplace=True)\n",
    "customers_features_train_transformed.drop(['review_comment_message', 'review_score'], axis=1, inplace=True)"
   ]
  },
  {
   "cell_type": "code",
   "execution_count": null,
   "metadata": {},
   "outputs": [],
   "source": [
    "# Test\n",
    "# dummify groupings\n",
    "cols_to_dummify = ['product_category_name','product_name_lenght', 'product_description_lenght',\n",
    "                   'product_photos_qty', 'product_weight_g', 'product_length_cm',\n",
    "                   'product_height_cm', 'product_width_cm', 'avg_review_score',\n",
    "                   'num_reviews', 'num_comments']\n",
    "products_metadata_test_transformed = pd.get_dummies(metadata_test, \n",
    "                                                        columns = cols_to_dummify)\n",
    "\n",
    "# sort the rows by product and reset the index\n",
    "products_metadata_test_transformed = products_metadata_test_transformed\\\n",
    "                                                                        .sort_values('product_id')\\\n",
    "                                                                        .reset_index()\\\n",
    "                                                                        .drop('index', axis=1)"
   ]
  },
  {
   "cell_type": "code",
   "execution_count": null,
   "metadata": {},
   "outputs": [],
   "source": [
    "# set the index as product_id\n",
    "products_metadata_test_transformed_ = products_metadata_test_transformed.set_index('product_id')\n",
    "products_features_test_transformed = products_metadata_test_transformed_.drop(['seller_id', 'customer_id'], axis=1)\n",
    "\n",
    "# set the index as product_id\n",
    "customers_metadata_test_transformed = products_metadata_test_transformed.set_index('customer_id')\n",
    "customers_features_test_transformed = customers_metadata_test_transformed.drop(['seller_id', 'product_id'], axis=1)"
   ]
  },
  {
   "cell_type": "code",
   "execution_count": null,
   "metadata": {},
   "outputs": [],
   "source": [
    "products_features_test_transformed.drop(['review_comment_message', 'review_score'], axis=1, inplace=True)\n",
    "customers_features_test_transformed.drop(['review_comment_message', 'review_score'], axis=1, inplace=True)"
   ]
  },
  {
   "cell_type": "markdown",
   "metadata": {},
   "source": [
    "__Items dictionary__\n",
    "\n",
    "This df will be used to associate each product with it's corresponding category. This will be used to to improve the output of the recommender system, which will produce a recommended product_id (specifying a specific product) with it's corresponding product category."
   ]
  },
  {
   "cell_type": "code",
   "execution_count": null,
   "metadata": {},
   "outputs": [],
   "source": [
    "# Train\n",
    "df = metadata_train[['product_id', 'product_category_name']].sort_values('product_id').reset_index(drop = True)\n",
    "item_dict_train ={}\n",
    "for i in range(df.shape[0]):\n",
    "    item_dict_train[(df.loc[i,'product_id'])] = df.loc[i,'product_category_name']\n",
    "list(item_dict_train.items())[0]"
   ]
  },
  {
   "cell_type": "code",
   "execution_count": null,
   "metadata": {},
   "outputs": [],
   "source": [
    "# Test\n",
    "df = metadata_test[['product_id', 'product_category_name']].sort_values('product_id').reset_index(drop = True)\n",
    "item_dict_test ={}\n",
    "for i in range(df.shape[0]):\n",
    "    item_dict_test[(df.loc[i,'product_id'])] = df.loc[i,'product_category_name']\n",
    "list(item_dict_test.items())[0]"
   ]
  },
  {
   "cell_type": "markdown",
   "metadata": {},
   "source": [
    "__Create sparse matrix for products and metadata__"
   ]
  },
  {
   "cell_type": "markdown",
   "metadata": {},
   "source": [
    "__Train__"
   ]
  },
  {
   "cell_type": "code",
   "execution_count": null,
   "metadata": {},
   "outputs": [],
   "source": [
    "# create table with each customers interaction with a product based on their review score\n",
    "customer_product_interaction_train = pd.pivot_table(interactions_train, \n",
    "                                                    index='customer_id', \n",
    "                                                    columns='product_id', \n",
    "                                                    values='review_score')"
   ]
  },
  {
   "cell_type": "code",
   "execution_count": null,
   "metadata": {},
   "outputs": [],
   "source": [
    "customer_product_interaction_train = customer_product_interaction_train[~customer_product_interaction_train\\\n",
    "                                                                                            .index\\\n",
    "                                                                                            .duplicated()]\\\n",
    "                                                                                                .sort_index()"
   ]
  },
  {
   "cell_type": "code",
   "execution_count": null,
   "metadata": {},
   "outputs": [],
   "source": [
    "customers_features_train_transformed = customers_features_train_transformed[~customers_features_train_transformed\\\n",
    "                                                                                            .index.duplicated()]\\\n",
    "                                                                                                .sort_index()"
   ]
  },
  {
   "cell_type": "code",
   "execution_count": null,
   "metadata": {},
   "outputs": [],
   "source": [
    "products_features_train_transformed = products_features_train_transformed[~products_features_train_transformed\\\n",
    "                                                                                              .index\\\n",
    "                                                                                              .duplicated()]\\\n",
    "                                                                                                  .sort_index()"
   ]
  },
  {
   "cell_type": "code",
   "execution_count": null,
   "metadata": {},
   "outputs": [],
   "source": [
    "# fill missing values with 0\n",
    "customer_product_interaction_train = customer_product_interaction_train.fillna(0)\n",
    "\n",
    "# list of customer_ids\n",
    "customer_id_train = list(customer_product_interaction_train.index)\n",
    "\n",
    "# create dictionary to assign each customer a number\n",
    "customer_dict_train = {}\n",
    "counter = 0 \n",
    "for i in customer_id_train:\n",
    "    customer_dict_train[i] = counter\n",
    "    counter += 1"
   ]
  },
  {
   "cell_type": "code",
   "execution_count": null,
   "metadata": {},
   "outputs": [],
   "source": [
    "from scipy import sparse\n",
    "\n",
    "# convert to csr matrix\n",
    "customer_product_interaction_train_csr = sparse.coo_matrix(customer_product_interaction_train.values)\n",
    "\n",
    "# convert to csr matrix\n",
    "customers_features_train_csr = sparse.coo_matrix(customers_features_train_transformed\\\n",
    "                                                                             .values)\n",
    "\n",
    "products_features_train_csr = sparse.coo_matrix(products_features_train_transformed\\\n",
    "                                                                             .values)"
   ]
  },
  {
   "cell_type": "markdown",
   "metadata": {},
   "source": [
    "__Test__"
   ]
  },
  {
   "cell_type": "code",
   "execution_count": null,
   "metadata": {},
   "outputs": [],
   "source": [
    "# create table with each customers interaction with a product based on their review score\n",
    "customer_product_interaction_test = pd.pivot_table(interactions_test_selected, \n",
    "                                                    index='customer_id', \n",
    "                                                    columns='product_id', \n",
    "                                                    values='review_score')"
   ]
  },
  {
   "cell_type": "code",
   "execution_count": null,
   "metadata": {},
   "outputs": [],
   "source": [
    "customer_product_interaction_test = customer_product_interaction_test[~customer_product_interaction_test\\\n",
    "                                                                                          .index\\\n",
    "                                                                                          .duplicated()]\\\n",
    "                                                                                                .sort_index()"
   ]
  },
  {
   "cell_type": "code",
   "execution_count": null,
   "metadata": {},
   "outputs": [],
   "source": [
    "customers_features_test_transformed = customers_features_test_transformed[~customers_features_test_transformed\\\n",
    "                                                                                          .index\\\n",
    "                                                                                          .duplicated()]\\\n",
    "                                                                                                .sort_index()"
   ]
  },
  {
   "cell_type": "code",
   "execution_count": null,
   "metadata": {},
   "outputs": [],
   "source": [
    "products_features_test_transformed = products_features_test_transformed[~products_features_test_transformed\\\n",
    "                                                                                          .index\\\n",
    "                                                                                          .duplicated()]\\\n",
    "                                                                                                .sort_index()"
   ]
  },
  {
   "cell_type": "code",
   "execution_count": null,
   "metadata": {},
   "outputs": [],
   "source": [
    "# fill missing values with 0\n",
    "customer_product_interaction_test = customer_product_interaction_test.fillna(0)\n",
    "\n",
    "# list of customer_ids\n",
    "customer_id_test = list(customer_product_interaction_test.index)\n",
    "\n",
    "# create dictionary to assign each customer a number\n",
    "customer_dict_test = {}\n",
    "counter = 0 \n",
    "for i in customer_id_test:\n",
    "    customer_dict_test[i] = counter\n",
    "    counter += 1"
   ]
  },
  {
   "cell_type": "code",
   "execution_count": null,
   "metadata": {},
   "outputs": [],
   "source": [
    "from scipy import sparse\n",
    "\n",
    "# convert to csr matrix\n",
    "customer_product_interaction_test_csr = sparse.coo_matrix(customer_product_interaction_test.values)\n",
    "\n",
    "# convert to csr matrix\n",
    "customers_features_test_csr = sparse.coo_matrix(customers_features_test_transformed\\\n",
    "                                                                             .values)\n",
    "\n",
    "products_features_test_csr = sparse.coo_matrix(products_features_test_transformed\\\n",
    "                                                                             .values)"
   ]
  },
  {
   "cell_type": "markdown",
   "metadata": {},
   "source": [
    "### Model with LightFM"
   ]
  },
  {
   "cell_type": "code",
   "execution_count": null,
   "metadata": {},
   "outputs": [],
   "source": [
    "from lightfm import LightFM\n",
    "model = LightFM(loss='warp',\n",
    "                random_state=2016,\n",
    "                learning_rate=0.90,\n",
    "                no_components=150,\n",
    "                user_alpha=0.000005)\n",
    "model = model.fit(customer_product_interaction_train_csr,\n",
    "                  epochs=100,\n",
    "                  num_threads=1, verbose=False)"
   ]
  },
  {
   "cell_type": "markdown",
   "metadata": {},
   "source": [
    "__Define recommendation function__\n",
    "\n",
    "This function should provide the requested number of recommended items given a customers id. For reproducibility it will take the model, customer-product interaction, and the customer and item dictionaries. The function will print the known items liked by the customer, and will output the top n recommended items based on their history. "
   ]
  },
  {
   "cell_type": "code",
   "execution_count": null,
   "metadata": {},
   "outputs": [],
   "source": [
    "def sample_recommendation_user(model, interactions, customer_id, customer_dict, \n",
    "                               item_dict, item_features, threshold = 0,nrec_items = 5, show = True):\n",
    "    \n",
    "    n_users, n_items = interactions.shape\n",
    "    user_x = customer_dict[customer_id]\n",
    "    scores = pd.Series(model.predict(user_x,np.arange(n_items), item_features=item_features))\n",
    "    scores.index = interactions.columns\n",
    "    scores = list(pd.Series(scores.sort_values(ascending=False).index))\n",
    "    known_items = list(pd.Series(interactions.loc[customer_id,:] \\\n",
    "                                 [interactions.loc[customer_id,:] > threshold].index).sort_values(ascending=False))\n",
    "    \n",
    "    scores = [x for x in scores if x not in known_items]\n",
    "    \n",
    "    return_score_list = scores[0:nrec_items]\n",
    "    known_items_category = list(pd.Series(known_items).apply(lambda x: item_dict[x]))\n",
    "    scores = list(pd.Series(return_score_list).apply(lambda x: item_dict[x]))\n",
    "    if show == True:\n",
    "        print (\"User: \" + str(customer_id))\n",
    "        print(\"Known Likes:\")\n",
    "        counter = 1\n",
    "        for i, j in zip(known_items, known_items_category):\n",
    "            print(str(counter) + ') ' + 'product_id: ' + i + ' \\n' +  '   category:   ' + j)\n",
    "            counter+=1\n",
    "\n",
    "    print(\"\\nRecommended Items:\")\n",
    "    counter = 1\n",
    "    for i, j in zip(return_score_list, scores):\n",
    "        print(str(counter) + ') ' + 'product_id: ' + i + ' \\n' +  '   category:   ' + j)\n",
    "        counter+=1"
   ]
  },
  {
   "cell_type": "markdown",
   "metadata": {},
   "source": [
    "__Test for customer_id = '0d861a5e4dd6a9079d89e1330848f0ab'__"
   ]
  },
  {
   "cell_type": "code",
   "execution_count": null,
   "metadata": {},
   "outputs": [],
   "source": [
    "# use value count to determine which customer bought the most items, do a test on this person\n",
    "interactions_train.customer_id.value_counts()"
   ]
  },
  {
   "cell_type": "code",
   "execution_count": null,
   "metadata": {
    "scrolled": false
   },
   "outputs": [],
   "source": [
    "sample_recommendation_user(model, \n",
    "                           customer_product_interaction_train, \n",
    "                           'fc3d1daec319d62d49bfb5e1f83123e9', \n",
    "                           customer_dict_train, \n",
    "                           item_dict_train, customer_product_interaction_train_csr)"
   ]
  },
  {
   "cell_type": "markdown",
   "metadata": {},
   "source": [
    "__Short conclusion__\n",
    "\n",
    "I would guess there is some tuning to do here, this customer bought 10 construction type tools and my recommender suggested fashion bags as the top recommended item! Interesting, but more work is required here. "
   ]
  },
  {
   "cell_type": "markdown",
   "metadata": {},
   "source": [
    "### Hyperparameter Tuning"
   ]
  },
  {
   "cell_type": "code",
   "execution_count": 284,
   "metadata": {},
   "outputs": [],
   "source": [
    "import itertools\n",
    "\n",
    "import numpy as np\n",
    "\n",
    "from lightfm import LightFM\n",
    "from lightfm.evaluation import auc_score\n",
    "\n",
    "\n",
    "def sample_hyperparameters():\n",
    "    \"\"\"\n",
    "    Yield possible hyperparameter choices.\n",
    "    \"\"\"\n",
    "\n",
    "    while True:\n",
    "        yield {\n",
    "            \"no_components\": np.random.randint(16, 64),\n",
    "            \"learning_schedule\": np.random.choice([\"adagrad\", \"adadelta\"]),\n",
    "            \"loss\": np.random.choice([\"bpr\", \"warp\", \"warp-kos\"]),\n",
    "            \"learning_rate\": np.random.exponential(0.05),\n",
    "            \"item_alpha\": np.random.exponential(1e-8),\n",
    "            \"user_alpha\": np.random.exponential(1e-8),\n",
    "            \"max_sampled\": np.random.randint(5, 15),\n",
    "            \"num_epochs\": np.random.randint(5, 50),\n",
    "        }\n",
    "\n",
    "\n",
    "def random_search(test, train, item_features, num_samples=10):\n",
    "    \"\"\"\n",
    "    Sample random hyperparameters, fit a LightFM model, and evaluate it\n",
    "    on the test set.\n",
    "\n",
    "    Parameters\n",
    "    ----------\n",
    "\n",
    "    train: np.float32 coo_matrix of shape [n_users, n_items]\n",
    "        Training data.\n",
    "    test: np.float32 coo_matrix of shape [n_users, n_items]\n",
    "        Test data.\n",
    "    num_samples: int, optional\n",
    "        Number of hyperparameter choices to evaluate.\n",
    "\n",
    "\n",
    "    Returns\n",
    "    -------\n",
    "\n",
    "    generator of (auc_score, hyperparameter dict, fitted model)\n",
    "\n",
    "    \"\"\"\n",
    "\n",
    "    for hyperparams in itertools.islice(sample_hyperparameters(), num_samples):\n",
    "        num_epochs = hyperparams.pop(\"num_epochs\")\n",
    "\n",
    "        model = LightFM(**hyperparams)\n",
    "        model.fit(train, epochs=num_epochs, num_threads=1)\n",
    "\n",
    "        score = auc_score(model = model_with_features, \n",
    "                        test_interactions = test,\n",
    "                        train_interactions = train, \n",
    "                        item_features = item_features,\n",
    "                        num_threads = 4, check_intersections=False).mean()\n",
    "\n",
    "        hyperparams[\"num_epochs\"] = num_epochs\n",
    "\n",
    "        yield (score, hyperparams, model)"
   ]
  },
  {
   "cell_type": "code",
   "execution_count": 285,
   "metadata": {},
   "outputs": [
    {
     "name": "stdout",
     "output_type": "stream",
     "text": [
      "Best score 0.7869420051574707 at {'no_components': 20, 'learning_schedule': 'adagrad', 'loss': 'warp', 'learning_rate': 0.0075541876362629524, 'item_alpha': 1.2399418479177957e-08, 'user_alpha': 4.24639085992737e-09, 'max_sampled': 5, 'num_epochs': 45}\n"
     ]
    }
   ],
   "source": [
    "if __name__ == \"__main__\":\n",
    "    \n",
    "    (score, hyperparams, model) = max(random_search(user_to_product_interaction_test,\n",
    "                                                    user_to_product_interaction_train,\n",
    "                                                    product_to_feature_interaction), \n",
    "                                      key=lambda x: x[0])\n",
    "    \n",
    "    \n",
    "    print(\"Best score {} at {}\".format(score, hyperparams))"
   ]
  },
  {
   "cell_type": "code",
   "execution_count": null,
   "metadata": {},
   "outputs": [],
   "source": []
  }
 ],
 "metadata": {
  "kernelspec": {
   "display_name": "Python 3",
   "language": "python",
   "name": "python3"
  },
  "language_info": {
   "codemirror_mode": {
    "name": "ipython",
    "version": 3
   },
   "file_extension": ".py",
   "mimetype": "text/x-python",
   "name": "python",
   "nbconvert_exporter": "python",
   "pygments_lexer": "ipython3",
   "version": "3.7.4"
  }
 },
 "nbformat": 4,
 "nbformat_minor": 2
}
