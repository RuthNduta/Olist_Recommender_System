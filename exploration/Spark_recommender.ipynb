{
 "cells": [
  {
   "cell_type": "markdown",
   "metadata": {},
   "source": [
    "# Spark Recommender System"
   ]
  },
  {
   "cell_type": "code",
   "execution_count": 66,
   "metadata": {},
   "outputs": [],
   "source": [
    "import os\n",
    "import shutil\n",
    "import pyspark as ps\n",
    "from pyspark.ml import Pipeline, Transformer\n",
    "from pyspark.ml.evaluation import RegressionEvaluator\n",
    "from pyspark.ml.recommendation import ALS, ALSModel\n",
    "from pyspark.sql import Row\n",
    "from pyspark.sql.types import DoubleType"
   ]
  },
  {
   "cell_type": "code",
   "execution_count": 67,
   "metadata": {},
   "outputs": [
    {
     "name": "stdout",
     "output_type": "stream",
     "text": [
      "3.0.0\n"
     ]
    }
   ],
   "source": [
    "## ensure the spark context is available\n",
    "spark = (ps.sql.SparkSession.builder\n",
    "        .appName(\"sandbox\")\n",
    "        .getOrCreate()\n",
    "        )\n",
    "sc = spark.sparkContext\n",
    "print(spark.version)"
   ]
  },
  {
   "cell_type": "code",
   "execution_count": 68,
   "metadata": {},
   "outputs": [],
   "source": [
    "data_dir = os.path.join(\".\", \"\")\n",
    "file = os.path.join(data_dir, \"item_features_clustered.csv\")\n",
    "\n",
    "df_user = spark.read.format(\"csv\")\\\n",
    "               .option(\"multiline\", \"true\")\\\n",
    "               .option(\"quote\", '\"')\\\n",
    "               .option(\"header\", \"true\")\\\n",
    "               .option(\"escape\", \"\\\\\")\\\n",
    "               .option(\"escape\", '\"')\\\n",
    "               .load(file)"
   ]
  },
  {
   "cell_type": "code",
   "execution_count": 69,
   "metadata": {},
   "outputs": [],
   "source": [
    "data_dir = os.path.join(\".\", \"\")\n",
    "file = os.path.join(data_dir, \"item_features.csv\")\n",
    "\n",
    "df_item = spark.read.format(\"csv\")\\\n",
    "               .option(\"multiline\", \"true\")\\\n",
    "               .option(\"quote\", '\"')\\\n",
    "               .option(\"header\", \"true\")\\\n",
    "               .option(\"escape\", \"\\\\\")\\\n",
    "               .option(\"escape\", '\"')\\\n",
    "               .load(file)"
   ]
  },
  {
   "cell_type": "code",
   "execution_count": 70,
   "metadata": {},
   "outputs": [],
   "source": [
    "user_features = df_user.select(df_user['customer_unique_id'], \n",
    "                               df_user['product_id'], \n",
    "                               df_user['product_category_count'], \n",
    "                               df_user['cluster_id'])"
   ]
  },
  {
   "cell_type": "code",
   "execution_count": 71,
   "metadata": {},
   "outputs": [
    {
     "name": "stdout",
     "output_type": "stream",
     "text": [
      "+--------------------+--------------------+----------------------+----------+\n",
      "|  customer_unique_id|          product_id|product_category_count|cluster_id|\n",
      "+--------------------+--------------------+----------------------+----------+\n",
      "|7c396fd4830fd0422...|87285b34884572647...|                     1|        12|\n",
      "|7c396fd4830fd0422...|9abb00920aae319ef...|                     1|        12|\n",
      "|e781fdcc107d13d86...|87285b34884572647...|                     1|         3|\n",
      "|3a51803cc0d012c3b...|87285b34884572647...|                     1|         3|\n",
      "+--------------------+--------------------+----------------------+----------+\n",
      "only showing top 4 rows\n",
      "\n"
     ]
    }
   ],
   "source": [
    "user_features.show(4)"
   ]
  },
  {
   "cell_type": "code",
   "execution_count": 72,
   "metadata": {},
   "outputs": [],
   "source": [
    "user_features = user_features.sort(\"customer_unique_id\")"
   ]
  },
  {
   "cell_type": "code",
   "execution_count": 73,
   "metadata": {},
   "outputs": [],
   "source": [
    "item_features = df_item.select(df_item['product_id'], \n",
    "                               df_item['product_category_name'], \n",
    "                               df_item['avg_price_binned'])"
   ]
  },
  {
   "cell_type": "code",
   "execution_count": 74,
   "metadata": {},
   "outputs": [
    {
     "name": "stdout",
     "output_type": "stream",
     "text": [
      "+--------------------+---------------------+----------------+\n",
      "|          product_id|product_category_name|avg_price_binned|\n",
      "+--------------------+---------------------+----------------+\n",
      "|372645c7439f9661f...|       bed_bath_table| (74.9, 135.833]|\n",
      "|5099f7000472b634f...|        health_beauty|   (0.849, 39.9]|\n",
      "|64b488de448a5324c...|           stationery|    (39.9, 74.9]|\n",
      "|2345a354a6f203360...|            telephony|   (0.849, 39.9]|\n",
      "+--------------------+---------------------+----------------+\n",
      "only showing top 4 rows\n",
      "\n"
     ]
    }
   ],
   "source": [
    "item_features.show(4)"
   ]
  },
  {
   "cell_type": "code",
   "execution_count": 75,
   "metadata": {
    "scrolled": false
   },
   "outputs": [
    {
     "name": "stdout",
     "output_type": "stream",
     "text": [
      "+--------------------+--------------+--------------------+-------------+\n",
      "|  customer_unique_id|customer_index|          product_id|product_index|\n",
      "+--------------------+--------------+--------------------+-------------+\n",
      "|0000366f3b9a7992b...|       11614.0|372645c7439f9661f...|        380.0|\n",
      "|0000b849f77a49e4a...|       11615.0|5099f7000472b634f...|       2737.0|\n",
      "|0000f46a3911fa3c0...|       11616.0|64b488de448a5324c...|       4156.0|\n",
      "|0000f6ccb0745a6a4...|       11617.0|2345a354a6f203360...|       6611.0|\n",
      "|0004aac84e0df4da2...|       11618.0|c72e18b3fe2739b8d...|      28356.0|\n",
      "|0004bd2a26a76fe21...|       11619.0|25cf184645f3fae66...|       6625.0|\n",
      "|00050ab1314c0e55a...|       11620.0|8cefe1c6f2304e7e6...|       2384.0|\n",
      "|00053a61a98854899...|        2805.0|62984ea1bba7fcea1...|       5331.0|\n",
      "|00053a61a98854899...|        2805.0|58727e154e8e85d84...|       1357.0|\n",
      "|0005e1862207bf6cc...|       11621.0|e24f73b7631ee3fbb...|        801.0|\n",
      "+--------------------+--------------+--------------------+-------------+\n",
      "only showing top 10 rows\n",
      "\n",
      "+--------------------+-------------+\n",
      "|          product_id|product_index|\n",
      "+--------------------+-------------+\n",
      "|372645c7439f9661f...|        380.0|\n",
      "|5099f7000472b634f...|       2738.0|\n",
      "|64b488de448a5324c...|       4156.0|\n",
      "|2345a354a6f203360...|       6611.0|\n",
      "|c72e18b3fe2739b8d...|      28355.0|\n",
      "|25cf184645f3fae66...|       6625.0|\n",
      "|8cefe1c6f2304e7e6...|       2385.0|\n",
      "|58727e154e8e85d84...|       1357.0|\n",
      "|62984ea1bba7fcea1...|       5331.0|\n",
      "|e24f73b7631ee3fbb...|        801.0|\n",
      "+--------------------+-------------+\n",
      "only showing top 10 rows\n",
      "\n"
     ]
    }
   ],
   "source": [
    "from pyspark.ml.feature import StringIndexer\n",
    "\n",
    "# create object of StringIndexer class and specify input and output column\n",
    "SI_customer = StringIndexer(inputCol='customer_unique_id',outputCol='customer_index')\n",
    "SI_product = StringIndexer(inputCol='product_id',outputCol='product_index')\n",
    "\n",
    "# transform the data\n",
    "user_features = SI_customer.fit(user_features).transform(user_features)\n",
    "user_features = SI_product.fit(user_features).transform(user_features)\n",
    "item_features = SI_product.fit(item_features).transform(item_features)\n",
    "\n",
    "# view the transformed data\n",
    "user_features.select('customer_unique_id', 'customer_index', 'product_id', 'product_index').show(10)\n",
    "item_features.select('product_id', 'product_index').show(10)"
   ]
  },
  {
   "cell_type": "code",
   "execution_count": 81,
   "metadata": {},
   "outputs": [],
   "source": [
    "from pyspark.sql.types import IntegerType\n",
    "user_features = user_features.withColumn(\"product_category_count\",\n",
    "                                        user_features[\"product_category_count\"].cast(IntegerType()))"
   ]
  },
  {
   "cell_type": "code",
   "execution_count": 284,
   "metadata": {},
   "outputs": [],
   "source": [
    "(training, test) = user_features.randomSplit([0.8, 0.2])"
   ]
  },
  {
   "cell_type": "markdown",
   "metadata": {},
   "source": [
    "## Model Training"
   ]
  },
  {
   "cell_type": "code",
   "execution_count": 83,
   "metadata": {},
   "outputs": [
    {
     "name": "stdout",
     "output_type": "stream",
     "text": [
      "Root-mean-squared-error = 0.273\n"
     ]
    }
   ],
   "source": [
    "# train the recommender with als\n",
    "als_alg = ALS(maxIter=5, \n",
    "              regParam=0.01, \n",
    "              userCol='customer_index', \n",
    "              itemCol=\"product_index\", \n",
    "              ratingCol='product_category_count',\n",
    "              coldStartStrategy='drop')\n",
    "\n",
    "model=als_alg.fit(training)\n",
    "\n",
    "# evaluate with the holdout set\n",
    "predictions = model.transform(test)\n",
    "evaluator = RegressionEvaluator(metricName='rmse',\n",
    "                                labelCol='product_category_count',\n",
    "                                predictionCol='prediction')\n",
    "rmse = evaluator.evaluate(predictions)\n",
    "\n",
    "print(\"Root-mean-squared-error = \" + str(round(rmse, 3)))"
   ]
  },
  {
   "cell_type": "markdown",
   "metadata": {},
   "source": [
    "## Generate user and product recommendations"
   ]
  },
  {
   "cell_type": "code",
   "execution_count": 84,
   "metadata": {},
   "outputs": [
    {
     "name": "stdout",
     "output_type": "stream",
     "text": [
      "+--------------+--------------------+\n",
      "|customer_index|     recommendations|\n",
      "+--------------+--------------------+\n",
      "|           148|[[3776, 8.908216]...|\n",
      "|           463|[[586, 4.9994254]...|\n",
      "|           471|[[23114, 11.97792...|\n",
      "|           496|[[1075, 5.677565]...|\n",
      "+--------------+--------------------+\n",
      "only showing top 4 rows\n",
      "\n"
     ]
    }
   ],
   "source": [
    "# generate top 5 product recommendations for user\n",
    "user_recs = model.recommendForAllUsers(5)\n",
    "user_recs.show(4)"
   ]
  },
  {
   "cell_type": "code",
   "execution_count": 196,
   "metadata": {},
   "outputs": [
    {
     "name": "stdout",
     "output_type": "stream",
     "text": [
      "+-------------+--------------------+\n",
      "|product_index|     recommendations|\n",
      "+-------------+--------------------+\n",
      "|          148|[[93, 4.552056], ...|\n",
      "|          463|[[2087, 6.8684244...|\n",
      "|          471|[[55, 7.1659684],...|\n",
      "|          496|[[55, 5.2572684],...|\n",
      "+-------------+--------------------+\n",
      "only showing top 4 rows\n",
      "\n"
     ]
    }
   ],
   "source": [
    "product_recs = model.recommendForAllItems(10)\n",
    "product_recs.show()"
   ]
  },
  {
   "cell_type": "code",
   "execution_count": 215,
   "metadata": {},
   "outputs": [
    {
     "name": "stdout",
     "output_type": "stream",
     "text": [
      "+--------------+--------------------+\n",
      "|customer_index|     recommendations|\n",
      "+--------------+--------------------+\n",
      "|         11757|[[68, 3.4271233],...|\n",
      "|           558|[[1075, 20.42704]...|\n",
      "|          2815|[[352, 3.225371],...|\n",
      "+--------------+--------------------+\n",
      "\n"
     ]
    }
   ],
   "source": [
    "users = user_features.select(als_alg.getUserCol()).distinct().limit(3)\n",
    "user_subset_recs = model.recommendForUserSubset(users, 10)\n",
    "user_subset_recs.show(n=4)"
   ]
  },
  {
   "cell_type": "code",
   "execution_count": 217,
   "metadata": {
    "scrolled": true
   },
   "outputs": [
    {
     "name": "stdout",
     "output_type": "stream",
     "text": [
      "+--------------+\n",
      "|customer_index|\n",
      "+--------------+\n",
      "|        2815.0|\n",
      "|         558.0|\n",
      "|       11757.0|\n",
      "+--------------+\n",
      "\n"
     ]
    }
   ],
   "source": [
    "users.show()"
   ]
  },
  {
   "cell_type": "markdown",
   "metadata": {},
   "source": [
    "## Recommender Function"
   ]
  },
  {
   "cell_type": "code",
   "execution_count": 233,
   "metadata": {},
   "outputs": [],
   "source": [
    "# Generate pandas df for accessing products in recommender function\n",
    "products = item_features.toPandas()"
   ]
  },
  {
   "cell_type": "code",
   "execution_count": 156,
   "metadata": {},
   "outputs": [],
   "source": [
    "def user_recommendations(user_id, top_n = 3):\n",
    "    \n",
    "    print(\"User: {}\\n\".format(user_id))\n",
    "    print(\"Top {} Recommendations: \\n\".format(top_n))\n",
    "    rec_products = []\n",
    "    for n in range(top_n):\n",
    "        rec_products.append(recs[recs['customer_index'] == user_id]['recommendations'][0][n][0])\n",
    "        \n",
    "        print(\"{}. \\n\".format(n+1), products[products['product_index'] == rec_products[n]]\\\n",
    "                                                  [['product_id', 'product_category_name']].iloc[0][0])\n",
    "        \n",
    "        print(products[products['product_index'] == rec_products[n]]\\\n",
    "                                                  [['product_id', 'product_category_name']].iloc[0][1])"
   ]
  },
  {
   "cell_type": "code",
   "execution_count": 157,
   "metadata": {},
   "outputs": [
    {
     "name": "stdout",
     "output_type": "stream",
     "text": [
      "User: 11757\n",
      "\n",
      "Top 3 Recommendations: \n",
      "\n",
      "1. \n",
      " e7cc48a9daff5436f63d3aad9426f28b\n",
      "telephony\n",
      "2. \n",
      " f25b4b41194b370120c42e1b19bd2a8a\n",
      "bed_bath_table\n",
      "3. \n",
      " 04c4a4b9c924494fcf82e0fba966f955\n",
      "watches_gifts\n"
     ]
    }
   ],
   "source": [
    "user_recommendations(user_id = 11757, top_n = 3)"
   ]
  },
  {
   "cell_type": "markdown",
   "metadata": {},
   "source": [
    "### Model with all data"
   ]
  },
  {
   "cell_type": "code",
   "execution_count": 236,
   "metadata": {},
   "outputs": [],
   "source": [
    "# train the recommender with als\n",
    "als_alg = ALS(maxIter=5, \n",
    "              regParam=0.01, \n",
    "              userCol='customer_index', \n",
    "              itemCol=\"product_index\", \n",
    "              ratingCol='product_category_count',\n",
    "              coldStartStrategy='drop')\n",
    "\n",
    "model=als_alg.fit(user_features)"
   ]
  },
  {
   "cell_type": "code",
   "execution_count": 237,
   "metadata": {},
   "outputs": [
    {
     "name": "stdout",
     "output_type": "stream",
     "text": [
      "+--------------+--------------------+\n",
      "|customer_index|     recommendations|\n",
      "+--------------+--------------------+\n",
      "|           148|[[1651, 12.715227...|\n",
      "|           463|[[586, 5.005967],...|\n",
      "|           471|[[692, 11.821859]...|\n",
      "|           496|[[596, 7.749952],...|\n",
      "+--------------+--------------------+\n",
      "only showing top 4 rows\n",
      "\n"
     ]
    }
   ],
   "source": [
    "# generate top_n product recommendations for user\n",
    "nrecommend = 5\n",
    "user_recs = model.recommendForAllUsers(nrecommend)\n",
    "user_recs.show(4)"
   ]
  },
  {
   "cell_type": "code",
   "execution_count": 245,
   "metadata": {},
   "outputs": [],
   "source": [
    "recs = user_recs.toPandas()"
   ]
  },
  {
   "cell_type": "code",
   "execution_count": 250,
   "metadata": {},
   "outputs": [
    {
     "data": {
      "text/html": [
       "<div>\n",
       "<style scoped>\n",
       "    .dataframe tbody tr th:only-of-type {\n",
       "        vertical-align: middle;\n",
       "    }\n",
       "\n",
       "    .dataframe tbody tr th {\n",
       "        vertical-align: top;\n",
       "    }\n",
       "\n",
       "    .dataframe thead th {\n",
       "        text-align: right;\n",
       "    }\n",
       "</style>\n",
       "<table border=\"1\" class=\"dataframe\">\n",
       "  <thead>\n",
       "    <tr style=\"text-align: right;\">\n",
       "      <th></th>\n",
       "      <th>customer_index</th>\n",
       "      <th>recommendations</th>\n",
       "    </tr>\n",
       "  </thead>\n",
       "  <tbody>\n",
       "    <tr>\n",
       "      <td>0</td>\n",
       "      <td>148</td>\n",
       "      <td>[(1651, 12.715227127075195), (23114, 12.715227...</td>\n",
       "    </tr>\n",
       "    <tr>\n",
       "      <td>1</td>\n",
       "      <td>463</td>\n",
       "      <td>[(586, 5.005967140197754), (956, 4.98965263366...</td>\n",
       "    </tr>\n",
       "    <tr>\n",
       "      <td>2</td>\n",
       "      <td>471</td>\n",
       "      <td>[(692, 11.821859359741211), (901, 11.619313240...</td>\n",
       "    </tr>\n",
       "    <tr>\n",
       "      <td>3</td>\n",
       "      <td>496</td>\n",
       "      <td>[(596, 7.7499518394470215), (508, 6.2985320091...</td>\n",
       "    </tr>\n",
       "    <tr>\n",
       "      <td>4</td>\n",
       "      <td>833</td>\n",
       "      <td>[(676, 13.120061874389648), (3776, 12.81623840...</td>\n",
       "    </tr>\n",
       "  </tbody>\n",
       "</table>\n",
       "</div>"
      ],
      "text/plain": [
       "   customer_index                                    recommendations\n",
       "0             148  [(1651, 12.715227127075195), (23114, 12.715227...\n",
       "1             463  [(586, 5.005967140197754), (956, 4.98965263366...\n",
       "2             471  [(692, 11.821859359741211), (901, 11.619313240...\n",
       "3             496  [(596, 7.7499518394470215), (508, 6.2985320091...\n",
       "4             833  [(676, 13.120061874389648), (3776, 12.81623840..."
      ]
     },
     "execution_count": 250,
     "metadata": {},
     "output_type": "execute_result"
    }
   ],
   "source": [
    "recs.head()"
   ]
  },
  {
   "cell_type": "code",
   "execution_count": 251,
   "metadata": {},
   "outputs": [],
   "source": [
    "customer_index = user_features_df[user_features_df['customer_unique_id'] == '698e1cf81d01a3d389d96145f7fa6df8']\\\n",
    "                                                            ['customer_index'].unique()[0]"
   ]
  },
  {
   "cell_type": "code",
   "execution_count": 268,
   "metadata": {},
   "outputs": [
    {
     "data": {
      "text/plain": [
       "678"
      ]
     },
     "execution_count": 268,
     "metadata": {},
     "output_type": "execute_result"
    }
   ],
   "source": [
    "list(recs[recs['customer_index'] == customer_index]['recommendations'])[0][0][0]"
   ]
  },
  {
   "cell_type": "code",
   "execution_count": 269,
   "metadata": {},
   "outputs": [],
   "source": [
    "def user_recommendations(user_id, top_n = 3):\n",
    "    \n",
    "    if top_n > nrecommend:\n",
    "        print(\"Please select up to {} items to recommend\".format(nrecommend))\n",
    "        return; \n",
    "    \n",
    "    \n",
    "    print(\"User: {}\\n\".format(user_id))\n",
    "    print(\"Known positives: \")\n",
    "    known_like_product = user_features_df[user_features_df['customer_unique_id'] == user_id]\\\n",
    "                                                            ['product_id'].unique()[0]\n",
    "    known_like_category = products[products['product_id'] == known_like_product]\\\n",
    "                                                            ['product_category_name'].unique()[0]\n",
    "    \n",
    "    print(\"\\t\", known_like_product)\n",
    "    print(\"\\t\", known_like_category, \"\\n\")\n",
    "    \n",
    "    customer_index = user_features_df[user_features_df['customer_unique_id'] == user_id]\\\n",
    "                                                            ['customer_index'].unique()[0]\n",
    "    \n",
    "    print(\"Top {} Recommendations: \\n\".format(top_n))\n",
    "    rec_products = []\n",
    "    \n",
    "    for n in range(top_n):\n",
    "        \n",
    "        rec_products.append(list(recs[recs['customer_index'] == customer_index]['recommendations'])[0][n][0])\n",
    "        \n",
    "        print(\"{}.\\n\".format(n+1), products[products['product_index'] == rec_products[n]]\\\n",
    "                                                  [['product_id', 'product_category_name']].iloc[0][0])\n",
    "        \n",
    "        print(products[products['product_index'] == rec_products[n]]\\\n",
    "                                                  [['product_id', 'product_category_name']].iloc[0][1])"
   ]
  },
  {
   "cell_type": "code",
   "execution_count": 274,
   "metadata": {},
   "outputs": [
    {
     "name": "stdout",
     "output_type": "stream",
     "text": [
      "User: 698e1cf81d01a3d389d96145f7fa6df8\n",
      "\n",
      "Known positives: \n",
      "\t 9571759451b1d780ee7c15012ea109d4\n",
      "\t auto \n",
      "\n",
      "Top 5 Recommendations: \n",
      "\n",
      "1.\n",
      " 9571759451b1d780ee7c15012ea109d4\n",
      "auto\n",
      "2.\n",
      " f3720bc68555b1bff49b9ffd41b017ac\n",
      "computers_accessories\n",
      "3.\n",
      " 42189544021ccb7369862e7ee218d828\n",
      "health_beauty\n",
      "4.\n",
      " 837b5c6df9ceb8a9c604e78fde0e60a2\n",
      "computers_accessories\n",
      "5.\n",
      " 70c1bce00b24bfd21332f7f8ebe2217f\n",
      "housewares\n"
     ]
    }
   ],
   "source": [
    "user_recommendations('698e1cf81d01a3d389d96145f7fa6df8', top_n=5)"
   ]
  },
  {
   "cell_type": "markdown",
   "metadata": {},
   "source": [
    "### Parameter Tuning"
   ]
  },
  {
   "cell_type": "code",
   "execution_count": 275,
   "metadata": {},
   "outputs": [],
   "source": [
    "# Import the required functions\n",
    "from pyspark.ml.evaluation import RegressionEvaluator\n",
    "from pyspark.ml.recommendation import ALS\n",
    "from pyspark.ml.tuning import ParamGridBuilder, CrossValidator"
   ]
  },
  {
   "cell_type": "code",
   "execution_count": 278,
   "metadata": {},
   "outputs": [],
   "source": [
    "# train the recommender with als\n",
    "als = ALS(maxIter=5, \n",
    "              regParam=0.01, \n",
    "              userCol='customer_index', \n",
    "              itemCol=\"product_index\", \n",
    "              ratingCol='product_category_count',\n",
    "              coldStartStrategy='drop')"
   ]
  },
  {
   "cell_type": "code",
   "execution_count": 279,
   "metadata": {},
   "outputs": [],
   "source": [
    "# Import the requisite packages\n",
    "from pyspark.ml.tuning import ParamGridBuilder, CrossValidator\n",
    "from pyspark.ml.evaluation import RegressionEvaluator\n",
    "\n",
    "# Add hyperparameters and their respective values to param_grid\n",
    "param_grid = ParamGridBuilder() \\\n",
    "            .addGrid(als.rank, [10, 50, 100, 150]) \\\n",
    "            .addGrid(als.regParam, [.01, .05, .1, .15]) \\\n",
    "            .build()"
   ]
  },
  {
   "cell_type": "code",
   "execution_count": 280,
   "metadata": {},
   "outputs": [
    {
     "name": "stdout",
     "output_type": "stream",
     "text": [
      "Num models to be tested:  16\n"
     ]
    }
   ],
   "source": [
    "evaluator = RegressionEvaluator(\n",
    "           metricName=\"rmse\", \n",
    "           labelCol=\"product_category_count\", \n",
    "           predictionCol=\"prediction\") \n",
    "print (\"Num models to be tested: \", len(param_grid))"
   ]
  },
  {
   "cell_type": "code",
   "execution_count": 281,
   "metadata": {},
   "outputs": [],
   "source": [
    "# Build cross validation using CrossValidator\n",
    "cv = CrossValidator(estimator=als, estimatorParamMaps=param_grid, evaluator=evaluator, numFolds=5)"
   ]
  },
  {
   "cell_type": "code",
   "execution_count": 285,
   "metadata": {},
   "outputs": [
    {
     "name": "stdout",
     "output_type": "stream",
     "text": [
      "0.2198100620768705\n"
     ]
    }
   ],
   "source": [
    "#Fit cross validator to the 'train' dataset\n",
    "model = cv.fit(training)\n",
    "#Extract best model from the cv model above\n",
    "best_model = model.bestModel\n",
    "# View the predictions\n",
    "test_predictions = best_model.transform(test)\n",
    "RMSE = evaluator.evaluate(test_predictions)\n",
    "print(RMSE)"
   ]
  },
  {
   "cell_type": "code",
   "execution_count": 286,
   "metadata": {},
   "outputs": [
    {
     "name": "stdout",
     "output_type": "stream",
     "text": [
      "**Best Model**\n",
      "  Rank: 150\n",
      "  MaxIter: 5\n",
      "  RegParam: 0.05\n"
     ]
    }
   ],
   "source": [
    "print(\"**Best Model**\")\n",
    "# Print \"Rank\"\n",
    "print(\"  Rank:\", best_model._java_obj.parent().getRank())\n",
    "# Print \"MaxIter\"\n",
    "print(\"  MaxIter:\", best_model._java_obj.parent().getMaxIter())\n",
    "# Print \"RegParam\"\n",
    "print(\"  RegParam:\", best_model._java_obj.parent().getRegParam())"
   ]
  },
  {
   "cell_type": "code",
   "execution_count": 287,
   "metadata": {},
   "outputs": [
    {
     "name": "stdout",
     "output_type": "stream",
     "text": [
      "+--------------+--------------------+\n",
      "|customer_index|     recommendations|\n",
      "+--------------+--------------------+\n",
      "|           148|[[1358, 5.986023]...|\n",
      "|           463|[[956, 5.001903],...|\n",
      "|           471|[[353, 4.9678936]...|\n",
      "|           496|[[11226, 3.976293...|\n",
      "|           833|[[5976, 3.981684]...|\n",
      "|          1088|[[8835, 4.0598054...|\n",
      "|          1238|[[19280, 1.956732...|\n",
      "|          1342|[[3733, 2.9773977...|\n",
      "|          1580|[[678, 4.1014385]...|\n",
      "|          1591|[[1687, 4.0513353...|\n",
      "|          1645|[[8578, 2.9761338...|\n",
      "|          1829|[[8550, 2.976134]...|\n",
      "|          1959|[[352, 3.8325496]...|\n",
      "|          2122|[[460, 1.9567739]...|\n",
      "|          2142|[[13069, 3.029988...|\n",
      "|          2366|[[1620, 2.968525]...|\n",
      "|          2659|[[1923, 2.9697392...|\n",
      "|          2866|[[6917, 1.9673104...|\n",
      "|          3175|[[369, 1.954752],...|\n",
      "|          3749|[[5388, 1.4065131...|\n",
      "+--------------+--------------------+\n",
      "only showing top 20 rows\n",
      "\n"
     ]
    }
   ],
   "source": [
    "# Generate n Recommendations for all users\n",
    "recommendations = best_model.recommendForAllUsers(5)\n",
    "recommendations.show()"
   ]
  },
  {
   "cell_type": "markdown",
   "metadata": {},
   "source": [
    "### Re-run model for all users"
   ]
  },
  {
   "cell_type": "code",
   "execution_count": 289,
   "metadata": {},
   "outputs": [],
   "source": [
    "# train the recommender with als\n",
    "als_alg = ALS(maxIter=best_model._java_obj.parent().getMaxIter(), \n",
    "              regParam=best_model._java_obj.parent().getRegParam(), \n",
    "              userCol='customer_index', \n",
    "              itemCol=\"product_index\", \n",
    "              ratingCol='product_category_count',\n",
    "              coldStartStrategy='drop')\n",
    "\n",
    "model=als_alg.fit(user_features)"
   ]
  },
  {
   "cell_type": "code",
   "execution_count": 290,
   "metadata": {},
   "outputs": [
    {
     "name": "stdout",
     "output_type": "stream",
     "text": [
      "+--------------+--------------------+\n",
      "|customer_index|     recommendations|\n",
      "+--------------+--------------------+\n",
      "|           148|[[23114, 14.96976...|\n",
      "|           463|[[23114, 6.162423...|\n",
      "|           471|[[692, 12.891839]...|\n",
      "|           496|[[1651, 6.5149956...|\n",
      "+--------------+--------------------+\n",
      "only showing top 4 rows\n",
      "\n"
     ]
    }
   ],
   "source": [
    "# generate top_n product recommendations for user\n",
    "nrecommend = 5\n",
    "user_recs = model.recommendForAllUsers(nrecommend)\n",
    "user_recs.show(4)"
   ]
  },
  {
   "cell_type": "code",
   "execution_count": 291,
   "metadata": {},
   "outputs": [],
   "source": [
    "recs = user_recs.toPandas()"
   ]
  },
  {
   "cell_type": "code",
   "execution_count": 292,
   "metadata": {},
   "outputs": [
    {
     "name": "stdout",
     "output_type": "stream",
     "text": [
      "User: 698e1cf81d01a3d389d96145f7fa6df8\n",
      "\n",
      "Known positives: \n",
      "\t 9571759451b1d780ee7c15012ea109d4\n",
      "\t auto \n",
      "\n",
      "Top 5 Recommendations: \n",
      "\n",
      "1.\n",
      " 9571759451b1d780ee7c15012ea109d4\n",
      "auto\n",
      "2.\n",
      " 837b5c6df9ceb8a9c604e78fde0e60a2\n",
      "computers_accessories\n",
      "3.\n",
      " f3720bc68555b1bff49b9ffd41b017ac\n",
      "computers_accessories\n",
      "4.\n",
      " 42189544021ccb7369862e7ee218d828\n",
      "health_beauty\n",
      "5.\n",
      " 70c1bce00b24bfd21332f7f8ebe2217f\n",
      "housewares\n"
     ]
    }
   ],
   "source": [
    "user_recommendations('698e1cf81d01a3d389d96145f7fa6df8', top_n=5)"
   ]
  },
  {
   "cell_type": "code",
   "execution_count": null,
   "metadata": {},
   "outputs": [],
   "source": []
  }
 ],
 "metadata": {
  "kernelspec": {
   "display_name": "Python 3",
   "language": "python",
   "name": "python3"
  },
  "language_info": {
   "codemirror_mode": {
    "name": "ipython",
    "version": 3
   },
   "file_extension": ".py",
   "mimetype": "text/x-python",
   "name": "python",
   "nbconvert_exporter": "python",
   "pygments_lexer": "ipython3",
   "version": "3.7.4"
  }
 },
 "nbformat": 4,
 "nbformat_minor": 2
}
