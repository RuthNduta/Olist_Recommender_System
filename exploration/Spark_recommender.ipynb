{
 "cells": [
  {
   "cell_type": "markdown",
   "metadata": {},
   "source": [
    "# Spark Recommender System"
   ]
  },
  {
   "cell_type": "markdown",
   "metadata": {},
   "source": [
    "Spark offers a built in ALS recommendation system that we will use to compare against our LightFM model. Unfortunately it does not handle the cold start problem we aimed at solving for, but it does a good job of using collaborative techniques to make a prediction. \n",
    "\n",
    "The algorithm uses alternating least squares as a metric for optimizing predictions of a users preference for an item. How it does it is by taking the original matrix of users and product ratings R, which in our case is the number of times a user bought an item for a given product, and factorizes it into two matrices U and P. When U and P are multiplied back together the empty ratings will be replaced with an estimation. The alternating part of ALS comes from the way the algorithm minimizes least squares error. It will alternate between matrices U and P by fixing one matrix and optimizing for the other and then repeating this process a designated number of times to minimize least squared error. The resulting matrix will have ratings filled in for each product which we can sample from to do a comparison with our LightFM model. We will tune our model by estimating our parameters and iterating until an optimal root mean squared error is achieved. "
   ]
  },
  {
   "cell_type": "code",
   "execution_count": 303,
   "metadata": {},
   "outputs": [],
   "source": [
    "# import necessary modules\n",
    "import os\n",
    "import shutil\n",
    "import pyspark as ps\n",
    "from pyspark.ml import Pipeline, Transformer\n",
    "from pyspark.ml.evaluation import RegressionEvaluator\n",
    "from pyspark.ml.recommendation import ALS, ALSModel\n",
    "from pyspark.sql import Row\n",
    "from pyspark.sql.types import DoubleType"
   ]
  },
  {
   "cell_type": "code",
   "execution_count": 304,
   "metadata": {},
   "outputs": [
    {
     "name": "stdout",
     "output_type": "stream",
     "text": [
      "3.0.0\n"
     ]
    }
   ],
   "source": [
    "# create spark context\n",
    "spark = (ps.sql.SparkSession.builder\n",
    "        .appName(\"sandbox\")\n",
    "        .getOrCreate()\n",
    "        )\n",
    "sc = spark.sparkContext\n",
    "print(spark.version)"
   ]
  },
  {
   "cell_type": "markdown",
   "metadata": {},
   "source": [
    "## Read in Data\n",
    "\n",
    "We will use user clusters as part of user features for our model here. "
   ]
  },
  {
   "cell_type": "code",
   "execution_count": 305,
   "metadata": {},
   "outputs": [],
   "source": [
    "# source data from prior step\n",
    "data_dir = os.path.join(\"modified_data\", \"\")\n",
    "file = os.path.join(data_dir, \"item_features_clustered.csv\")\n",
    "\n",
    "# options are specified to read in data without error\n",
    "df_user = spark.read.format(\"csv\")\\\n",
    "               .option(\"multiline\", \"true\")\\\n",
    "               .option(\"quote\", '\"')\\\n",
    "               .option(\"header\", \"true\")\\\n",
    "               .option(\"escape\", \"\\\\\")\\\n",
    "               .option(\"escape\", '\"')\\\n",
    "               .load(file)"
   ]
  },
  {
   "cell_type": "code",
   "execution_count": 306,
   "metadata": {},
   "outputs": [],
   "source": [
    "# source data from prior step\n",
    "data_dir = os.path.join(\"modified_data\", \"\")\n",
    "file = os.path.join(data_dir, \"item_features.csv\")\n",
    "\n",
    "# options are specified to read in data without error\n",
    "df_item = spark.read.format(\"csv\")\\\n",
    "               .option(\"multiline\", \"true\")\\\n",
    "               .option(\"quote\", '\"')\\\n",
    "               .option(\"header\", \"true\")\\\n",
    "               .option(\"escape\", \"\\\\\")\\\n",
    "               .option(\"escape\", '\"')\\\n",
    "               .load(file)"
   ]
  },
  {
   "cell_type": "markdown",
   "metadata": {},
   "source": [
    "## Create use and item feature matrices"
   ]
  },
  {
   "cell_type": "code",
   "execution_count": 307,
   "metadata": {},
   "outputs": [],
   "source": [
    "user_features = df_user.select(df_user['customer_unique_id'], \n",
    "                               df_user['product_id'], \n",
    "                               df_user['product_category_count'], \n",
    "                               df_user['cluster_id'])"
   ]
  },
  {
   "cell_type": "code",
   "execution_count": 308,
   "metadata": {},
   "outputs": [
    {
     "name": "stdout",
     "output_type": "stream",
     "text": [
      "+--------------------+--------------------+----------------------+----------+\n",
      "|  customer_unique_id|          product_id|product_category_count|cluster_id|\n",
      "+--------------------+--------------------+----------------------+----------+\n",
      "|7c396fd4830fd0422...|87285b34884572647...|                     1|        12|\n",
      "|7c396fd4830fd0422...|9abb00920aae319ef...|                     1|        12|\n",
      "|e781fdcc107d13d86...|87285b34884572647...|                     1|         3|\n",
      "|3a51803cc0d012c3b...|87285b34884572647...|                     1|         3|\n",
      "+--------------------+--------------------+----------------------+----------+\n",
      "only showing top 4 rows\n",
      "\n"
     ]
    }
   ],
   "source": [
    "user_features.show(4)"
   ]
  },
  {
   "cell_type": "code",
   "execution_count": 309,
   "metadata": {},
   "outputs": [],
   "source": [
    "user_features = user_features.sort(\"customer_unique_id\")"
   ]
  },
  {
   "cell_type": "code",
   "execution_count": 310,
   "metadata": {},
   "outputs": [],
   "source": [
    "item_features = df_item.select(df_item['product_id'], \n",
    "                               df_item['product_category_name'], \n",
    "                               df_item['avg_price_binned'])"
   ]
  },
  {
   "cell_type": "code",
   "execution_count": 311,
   "metadata": {
    "scrolled": false
   },
   "outputs": [
    {
     "name": "stdout",
     "output_type": "stream",
     "text": [
      "+--------------------+---------------------+----------------+\n",
      "|          product_id|product_category_name|avg_price_binned|\n",
      "+--------------------+---------------------+----------------+\n",
      "|372645c7439f9661f...|       bed_bath_table|   (74.9, 135.0]|\n",
      "|5099f7000472b634f...|        health_beauty|   (0.849, 39.9]|\n",
      "|64b488de448a5324c...|           stationery|    (39.9, 74.9]|\n",
      "|2345a354a6f203360...|            telephony|   (0.849, 39.9]|\n",
      "+--------------------+---------------------+----------------+\n",
      "only showing top 4 rows\n",
      "\n"
     ]
    }
   ],
   "source": [
    "item_features.show(4)"
   ]
  },
  {
   "cell_type": "markdown",
   "metadata": {},
   "source": [
    "## Index user and product ids"
   ]
  },
  {
   "cell_type": "code",
   "execution_count": 312,
   "metadata": {
    "scrolled": false
   },
   "outputs": [
    {
     "name": "stdout",
     "output_type": "stream",
     "text": [
      "+--------------------+--------------+--------------------+-------------+\n",
      "|  customer_unique_id|customer_index|          product_id|product_index|\n",
      "+--------------------+--------------+--------------------+-------------+\n",
      "|0000366f3b9a7992b...|       11614.0|372645c7439f9661f...|        380.0|\n",
      "|0000b849f77a49e4a...|       11615.0|5099f7000472b634f...|       2737.0|\n",
      "|0000f46a3911fa3c0...|       11616.0|64b488de448a5324c...|       4156.0|\n",
      "|0000f6ccb0745a6a4...|       11617.0|2345a354a6f203360...|       6611.0|\n",
      "|0004aac84e0df4da2...|       11618.0|c72e18b3fe2739b8d...|      28356.0|\n",
      "|0004bd2a26a76fe21...|       11619.0|25cf184645f3fae66...|       6625.0|\n",
      "|00050ab1314c0e55a...|       11620.0|8cefe1c6f2304e7e6...|       2384.0|\n",
      "|00053a61a98854899...|        2805.0|62984ea1bba7fcea1...|       5331.0|\n",
      "|00053a61a98854899...|        2805.0|58727e154e8e85d84...|       1357.0|\n",
      "|0005e1862207bf6cc...|       11621.0|e24f73b7631ee3fbb...|        801.0|\n",
      "+--------------------+--------------+--------------------+-------------+\n",
      "only showing top 10 rows\n",
      "\n",
      "+--------------------+-------------+\n",
      "|          product_id|product_index|\n",
      "+--------------------+-------------+\n",
      "|372645c7439f9661f...|        376.0|\n",
      "|5099f7000472b634f...|       2692.0|\n",
      "|64b488de448a5324c...|       4076.0|\n",
      "|2345a354a6f203360...|       6466.0|\n",
      "|c72e18b3fe2739b8d...|      27745.0|\n",
      "|25cf184645f3fae66...|       6480.0|\n",
      "|8cefe1c6f2304e7e6...|       2337.0|\n",
      "|62984ea1bba7fcea1...|       5229.0|\n",
      "|58727e154e8e85d84...|       1329.0|\n",
      "|e24f73b7631ee3fbb...|        937.0|\n",
      "+--------------------+-------------+\n",
      "only showing top 10 rows\n",
      "\n"
     ]
    }
   ],
   "source": [
    "from pyspark.ml.feature import StringIndexer\n",
    "\n",
    "# create object of StringIndexer class and specify input and output column\n",
    "SI_customer = StringIndexer(inputCol='customer_unique_id',outputCol='customer_index')\n",
    "SI_product = StringIndexer(inputCol='product_id',outputCol='product_index')\n",
    "\n",
    "# transform the data\n",
    "user_features = SI_customer.fit(user_features).transform(user_features)\n",
    "user_features = SI_product.fit(user_features).transform(user_features)\n",
    "item_features = SI_product.fit(item_features).transform(item_features)\n",
    "\n",
    "# view the transformed data\n",
    "user_features.select('customer_unique_id', 'customer_index', 'product_id', 'product_index').show(10)\n",
    "item_features.select('product_id', 'product_index').show(10)"
   ]
  },
  {
   "cell_type": "code",
   "execution_count": 313,
   "metadata": {},
   "outputs": [],
   "source": [
    "from pyspark.sql.types import IntegerType\n",
    "# convert columns to integer types\n",
    "user_features = user_features.withColumn(\"product_category_count\",\n",
    "                                        user_features[\"product_category_count\"].cast(IntegerType()))"
   ]
  },
  {
   "cell_type": "markdown",
   "metadata": {},
   "source": [
    "## Model Training"
   ]
  },
  {
   "cell_type": "code",
   "execution_count": 314,
   "metadata": {},
   "outputs": [],
   "source": [
    "# split 80-20\n",
    "(training, test) = user_features.randomSplit([0.8, 0.2])"
   ]
  },
  {
   "cell_type": "code",
   "execution_count": 324,
   "metadata": {},
   "outputs": [
    {
     "name": "stdout",
     "output_type": "stream",
     "text": [
      "Root-mean-squared-error = 0.26\n"
     ]
    }
   ],
   "source": [
    "# train the recommender with als\n",
    "als_alg = ALS(maxIter=5, \n",
    "              regParam=0.01, \n",
    "              userCol='customer_index', \n",
    "              itemCol=\"product_index\", \n",
    "              ratingCol='product_category_count',\n",
    "              coldStartStrategy='drop', \n",
    "              seed = 3)\n",
    "\n",
    "model=als_alg.fit(training)\n",
    "\n",
    "# evaluate with the holdout set\n",
    "predictions = model.transform(test)\n",
    "evaluator = RegressionEvaluator(metricName='rmse',\n",
    "                                labelCol='product_category_count',\n",
    "                                predictionCol='prediction')\n",
    "rmse = evaluator.evaluate(predictions)\n",
    "\n",
    "print(\"Root-mean-squared-error = \" + str(round(rmse, 3)))"
   ]
  },
  {
   "cell_type": "markdown",
   "metadata": {},
   "source": [
    "## Generate user and product recommendations\n",
    "\n",
    "These can be sampled from to output predictions for specific users."
   ]
  },
  {
   "cell_type": "code",
   "execution_count": 325,
   "metadata": {},
   "outputs": [
    {
     "name": "stdout",
     "output_type": "stream",
     "text": [
      "+--------------+--------------------+\n",
      "|customer_index|     recommendations|\n",
      "+--------------+--------------------+\n",
      "|           148|[[508, 7.674963],...|\n",
      "|           463|[[586, 4.9995255]...|\n",
      "|           471|[[1687, 9.257822]...|\n",
      "|           496|[[352, 9.7099085]...|\n",
      "+--------------+--------------------+\n",
      "only showing top 4 rows\n",
      "\n"
     ]
    }
   ],
   "source": [
    "# generate top 5 product recommendations for user\n",
    "user_recs = model.recommendForAllUsers(5)\n",
    "user_recs.show(4)"
   ]
  },
  {
   "cell_type": "code",
   "execution_count": 326,
   "metadata": {},
   "outputs": [
    {
     "name": "stdout",
     "output_type": "stream",
     "text": [
      "+-------------+--------------------+\n",
      "|product_index|     recommendations|\n",
      "+-------------+--------------------+\n",
      "|          148|[[560, 3.2099476]...|\n",
      "|          463|[[301, 10.625377]...|\n",
      "|          471|[[245, 8.60173], ...|\n",
      "|          496|[[560, 9.778228],...|\n",
      "|          833|[[594, 32.10067],...|\n",
      "|         1088|[[447, 9.255263],...|\n",
      "|         1238|[[368, 8.5092745]...|\n",
      "|         1342|[[1007, 14.607211...|\n",
      "|         1580|[[2087, 7.3240857...|\n",
      "|         1591|[[823, 8.992891],...|\n",
      "|         1645|[[665, 6.242186],...|\n",
      "|         1829|[[512, 6.9178505]...|\n",
      "|         1959|[[378, 16.812271]...|\n",
      "|         2122|[[2025, 9.799909]...|\n",
      "|         2142|[[348, 15.56076],...|\n",
      "|         2366|[[378, 10.060214]...|\n",
      "|         2659|[[348, 10.471405]...|\n",
      "|         2866|[[55, 7.7986393],...|\n",
      "|         3175|[[55, 8.606258], ...|\n",
      "|         3749|[[93, 9.776457], ...|\n",
      "+-------------+--------------------+\n",
      "only showing top 20 rows\n",
      "\n"
     ]
    }
   ],
   "source": [
    "product_recs = model.recommendForAllItems(10)\n",
    "product_recs.show()"
   ]
  },
  {
   "cell_type": "code",
   "execution_count": 327,
   "metadata": {},
   "outputs": [
    {
     "name": "stdout",
     "output_type": "stream",
     "text": [
      "+--------------+--------------------+\n",
      "|customer_index|     recommendations|\n",
      "+--------------+--------------------+\n",
      "|         11757|[[1651, 2.7976084...|\n",
      "|           558|[[7183, 18.795618...|\n",
      "|          2815|[[352, 3.1491728]...|\n",
      "+--------------+--------------------+\n",
      "\n"
     ]
    }
   ],
   "source": [
    "users = user_features.select(als_alg.getUserCol()).distinct().limit(3)\n",
    "user_subset_recs = model.recommendForUserSubset(users, 10)\n",
    "user_subset_recs.show(n=4)"
   ]
  },
  {
   "cell_type": "code",
   "execution_count": 333,
   "metadata": {},
   "outputs": [
    {
     "data": {
      "text/html": [
       "<div>\n",
       "<style scoped>\n",
       "    .dataframe tbody tr th:only-of-type {\n",
       "        vertical-align: middle;\n",
       "    }\n",
       "\n",
       "    .dataframe tbody tr th {\n",
       "        vertical-align: top;\n",
       "    }\n",
       "\n",
       "    .dataframe thead th {\n",
       "        text-align: right;\n",
       "    }\n",
       "</style>\n",
       "<table border=\"1\" class=\"dataframe\">\n",
       "  <thead>\n",
       "    <tr style=\"text-align: right;\">\n",
       "      <th></th>\n",
       "      <th>customer_index</th>\n",
       "      <th>recommendations</th>\n",
       "    </tr>\n",
       "  </thead>\n",
       "  <tbody>\n",
       "    <tr>\n",
       "      <td>0</td>\n",
       "      <td>148</td>\n",
       "      <td>[(1651, 12.715227127075195), (23114, 12.715227...</td>\n",
       "    </tr>\n",
       "    <tr>\n",
       "      <td>1</td>\n",
       "      <td>463</td>\n",
       "      <td>[(586, 5.005967140197754), (956, 4.98965263366...</td>\n",
       "    </tr>\n",
       "    <tr>\n",
       "      <td>2</td>\n",
       "      <td>471</td>\n",
       "      <td>[(692, 11.821859359741211), (901, 11.619313240...</td>\n",
       "    </tr>\n",
       "    <tr>\n",
       "      <td>3</td>\n",
       "      <td>496</td>\n",
       "      <td>[(596, 7.7499518394470215), (508, 6.2985320091...</td>\n",
       "    </tr>\n",
       "    <tr>\n",
       "      <td>4</td>\n",
       "      <td>833</td>\n",
       "      <td>[(676, 13.120061874389648), (3776, 12.81623840...</td>\n",
       "    </tr>\n",
       "  </tbody>\n",
       "</table>\n",
       "</div>"
      ],
      "text/plain": [
       "   customer_index                                    recommendations\n",
       "0             148  [(1651, 12.715227127075195), (23114, 12.715227...\n",
       "1             463  [(586, 5.005967140197754), (956, 4.98965263366...\n",
       "2             471  [(692, 11.821859359741211), (901, 11.619313240...\n",
       "3             496  [(596, 7.7499518394470215), (508, 6.2985320091...\n",
       "4             833  [(676, 13.120061874389648), (3776, 12.81623840..."
      ]
     },
     "execution_count": 333,
     "metadata": {},
     "output_type": "execute_result"
    }
   ],
   "source": [
    "recs.head()"
   ]
  },
  {
   "cell_type": "markdown",
   "metadata": {},
   "source": [
    "### Parameter Tuning"
   ]
  },
  {
   "cell_type": "code",
   "execution_count": 334,
   "metadata": {},
   "outputs": [],
   "source": [
    "# Import the required functions\n",
    "from pyspark.ml.evaluation import RegressionEvaluator\n",
    "from pyspark.ml.recommendation import ALS\n",
    "from pyspark.ml.tuning import ParamGridBuilder, CrossValidator"
   ]
  },
  {
   "cell_type": "code",
   "execution_count": 336,
   "metadata": {},
   "outputs": [],
   "source": [
    "# train the recommender with als\n",
    "als = ALS(maxIter=5, \n",
    "              regParam=0.01, \n",
    "              userCol='customer_index', \n",
    "              itemCol=\"product_index\", \n",
    "              ratingCol='product_category_count',\n",
    "              coldStartStrategy='drop')"
   ]
  },
  {
   "cell_type": "code",
   "execution_count": 338,
   "metadata": {},
   "outputs": [],
   "source": [
    "# Import the requisite packages\n",
    "from pyspark.ml.tuning import ParamGridBuilder, CrossValidator\n",
    "from pyspark.ml.evaluation import RegressionEvaluator\n",
    "\n",
    "# Add hyperparameters and their respective values to param_grid\n",
    "param_grid = ParamGridBuilder() \\\n",
    "            .addGrid(als.rank, [10, 50, 100, 150]) \\\n",
    "            .addGrid(als.regParam, [.01, .05, .1, .15]) \\\n",
    "            .build()"
   ]
  },
  {
   "cell_type": "code",
   "execution_count": 339,
   "metadata": {},
   "outputs": [
    {
     "name": "stdout",
     "output_type": "stream",
     "text": [
      "Num models to be tested:  16\n"
     ]
    }
   ],
   "source": [
    "evaluator = RegressionEvaluator(\n",
    "           metricName=\"rmse\", \n",
    "           labelCol=\"product_category_count\", \n",
    "           predictionCol=\"prediction\") \n",
    "print (\"Num models to be tested: \", len(param_grid))"
   ]
  },
  {
   "cell_type": "code",
   "execution_count": 340,
   "metadata": {},
   "outputs": [],
   "source": [
    "# Build cross validation using CrossValidator\n",
    "cv = CrossValidator(estimator=als, estimatorParamMaps=param_grid, evaluator=evaluator, numFolds=5)"
   ]
  },
  {
   "cell_type": "code",
   "execution_count": null,
   "metadata": {},
   "outputs": [],
   "source": [
    "#Fit cross validator to the 'train' dataset\n",
    "model = cv.fit(training)\n",
    "#Extract best model from the cv model above\n",
    "best_model = model.bestModel\n",
    "# View the predictions\n",
    "test_predictions = best_model.transform(test)\n",
    "RMSE = evaluator.evaluate(test_predictions)\n",
    "print(RMSE)"
   ]
  },
  {
   "cell_type": "code",
   "execution_count": null,
   "metadata": {},
   "outputs": [],
   "source": [
    "print(\"**Best Model**\")\n",
    "# Print \"Rank\"\n",
    "print(\"  Rank:\", best_model._java_obj.parent().getRank())\n",
    "# Print \"MaxIter\"\n",
    "print(\"  MaxIter:\", best_model._java_obj.parent().getMaxIter())\n",
    "# Print \"RegParam\"\n",
    "print(\"  RegParam:\", best_model._java_obj.parent().getRegParam())"
   ]
  },
  {
   "cell_type": "code",
   "execution_count": null,
   "metadata": {},
   "outputs": [],
   "source": [
    "# Generate n Recommendations for all users\n",
    "recommendations = best_model.recommendForAllUsers(5)\n",
    "recommendations.show()"
   ]
  },
  {
   "cell_type": "markdown",
   "metadata": {},
   "source": [
    "### Re-run model for all users"
   ]
  },
  {
   "cell_type": "code",
   "execution_count": null,
   "metadata": {},
   "outputs": [],
   "source": [
    "# train the recommender with als\n",
    "als_alg = ALS(rank=best_model._java_obj.parent().getRank(),\n",
    "              maxIter=best_model._java_obj.parent().getMaxIter(), \n",
    "              regParam=best_model._java_obj.parent().getRegParam(), \n",
    "              userCol='customer_index', \n",
    "              itemCol=\"product_index\", \n",
    "              ratingCol='product_category_count',\n",
    "              coldStartStrategy='drop')\n",
    "\n",
    "final_model=als_alg.fit(user_features)"
   ]
  },
  {
   "cell_type": "code",
   "execution_count": null,
   "metadata": {},
   "outputs": [],
   "source": [
    "# generate top_n product recommendations for user\n",
    "nrecommend = 5\n",
    "user_recs = final_model.recommendForAllUsers(nrecommend)\n",
    "user_recs.show(4)"
   ]
  },
  {
   "cell_type": "code",
   "execution_count": null,
   "metadata": {},
   "outputs": [],
   "source": [
    "recs = user_recs.toPandas()"
   ]
  },
  {
   "cell_type": "markdown",
   "metadata": {},
   "source": [
    "## Recommender Function"
   ]
  },
  {
   "cell_type": "code",
   "execution_count": null,
   "metadata": {},
   "outputs": [],
   "source": [
    "# Generate pandas df for accessing products in recommender function\n",
    "products = item_features.toPandas()"
   ]
  },
  {
   "cell_type": "code",
   "execution_count": 329,
   "metadata": {},
   "outputs": [],
   "source": [
    "def user_recommendations(user_id, top_n = 3):\n",
    "    \n",
    "    if top_n > nrecommend:\n",
    "        print(\"Please select up to {} items to recommend\".format(nrecommend))\n",
    "        return; \n",
    "    \n",
    "    \n",
    "    print(\"User: {}\\n\".format(user_id))\n",
    "    print(\"Known positives: \")\n",
    "    known_like_product = user_features_df[user_features_df['customer_unique_id'] == user_id]\\\n",
    "                                                            ['product_id'].unique()[0]\n",
    "    known_like_category = products[products['product_id'] == known_like_product]\\\n",
    "                                                            ['product_category_name'].unique()[0]\n",
    "    \n",
    "    print(\"\\t\", known_like_product)\n",
    "    print(\"\\t\", known_like_category, \"\\n\")\n",
    "    \n",
    "    customer_index = user_features_df[user_features_df['customer_unique_id'] == user_id]\\\n",
    "                                                            ['customer_index'].unique()[0]\n",
    "    \n",
    "    print(\"Top {} Recommendations: \\n\".format(top_n))\n",
    "    rec_products = []\n",
    "    \n",
    "    for n in range(top_n):\n",
    "        \n",
    "        rec_products.append(list(recs[recs['customer_index'] == customer_index]['recommendations'])[0][n][0])\n",
    "        \n",
    "        print(\"{}.\\n\".format(n+1), products[products['product_index'] == rec_products[n]]\\\n",
    "                                                  [['product_id', 'product_category_name']].iloc[0][0])\n",
    "        \n",
    "        print(products[products['product_index'] == rec_products[n]]\\\n",
    "                                                  [['product_id', 'product_category_name']].iloc[0][1])"
   ]
  },
  {
   "cell_type": "markdown",
   "metadata": {},
   "source": [
    "__Test for customer_id = 'c8ed31310fc440a3f8031b177f9842c3'__"
   ]
  },
  {
   "cell_type": "code",
   "execution_count": 295,
   "metadata": {},
   "outputs": [
    {
     "name": "stdout",
     "output_type": "stream",
     "text": [
      "User: c8ed31310fc440a3f8031b177f9842c3\n",
      "\n",
      "Known positives: \n",
      "\t 1065e0ebef073787a7bf691924c60eeb\n",
      "\t construction_tools_construction \n",
      "\n",
      "Top 5 Recommendations: \n",
      "\n",
      "1.\n",
      " 89b190a046022486c635022524a974a8\n",
      "furniture_decor\n",
      "2.\n",
      " ff26009ac6b838dc6cffa2d589cdbefb\n",
      "furniture_decor\n",
      "3.\n",
      " 79d62ec5dd0de230da5f185b478a5ade\n",
      "auto\n",
      "4.\n",
      " 05b515fdc76e888aada3c6d66c201dff\n",
      "health_beauty\n",
      "5.\n",
      " 270516a3f41dc035aa87d220228f844c\n",
      "health_beauty\n"
     ]
    }
   ],
   "source": [
    "user_recommendations('c8ed31310fc440a3f8031b177f9842c3', top_n=5)"
   ]
  },
  {
   "cell_type": "markdown",
   "metadata": {},
   "source": [
    "__Test for customer_id = '698e1cf81d01a3d389d96145f7fa6df8'__"
   ]
  },
  {
   "cell_type": "code",
   "execution_count": 294,
   "metadata": {},
   "outputs": [
    {
     "name": "stdout",
     "output_type": "stream",
     "text": [
      "User: 698e1cf81d01a3d389d96145f7fa6df8\n",
      "\n",
      "Known positives: \n",
      "\t 9571759451b1d780ee7c15012ea109d4\n",
      "\t auto \n",
      "\n",
      "Top 5 Recommendations: \n",
      "\n",
      "1.\n",
      " 9571759451b1d780ee7c15012ea109d4\n",
      "auto\n",
      "2.\n",
      " 837b5c6df9ceb8a9c604e78fde0e60a2\n",
      "computers_accessories\n",
      "3.\n",
      " f3720bc68555b1bff49b9ffd41b017ac\n",
      "computers_accessories\n",
      "4.\n",
      " 42189544021ccb7369862e7ee218d828\n",
      "health_beauty\n",
      "5.\n",
      " 70c1bce00b24bfd21332f7f8ebe2217f\n",
      "housewares\n"
     ]
    }
   ],
   "source": [
    "user_recommendations('698e1cf81d01a3d389d96145f7fa6df8', top_n=5)"
   ]
  },
  {
   "cell_type": "markdown",
   "metadata": {},
   "source": [
    "__Test for customer_id = '89be58cbdd6ef318e3ed93fdb22be178'__"
   ]
  },
  {
   "cell_type": "code",
   "execution_count": 296,
   "metadata": {},
   "outputs": [
    {
     "name": "stdout",
     "output_type": "stream",
     "text": [
      "User: 89be58cbdd6ef318e3ed93fdb22be178\n",
      "\n",
      "Known positives: \n",
      "\t 3fdb534dccf5bc9ab0406944b913787d\n",
      "\t diapers_and_hygiene \n",
      "\n",
      "Top 5 Recommendations: \n",
      "\n",
      "1.\n",
      " 3fdb534dccf5bc9ab0406944b913787d\n",
      "diapers_and_hygiene\n",
      "2.\n",
      " 9571759451b1d780ee7c15012ea109d4\n",
      "auto\n",
      "3.\n",
      " 270516a3f41dc035aa87d220228f844c\n",
      "health_beauty\n",
      "4.\n",
      " 05b515fdc76e888aada3c6d66c201dff\n",
      "health_beauty\n",
      "5.\n",
      " 79d62ec5dd0de230da5f185b478a5ade\n",
      "auto\n"
     ]
    }
   ],
   "source": [
    "user_recommendations('89be58cbdd6ef318e3ed93fdb22be178', top_n=5)"
   ]
  },
  {
   "cell_type": "code",
   "execution_count": null,
   "metadata": {},
   "outputs": [],
   "source": []
  }
 ],
 "metadata": {
  "kernelspec": {
   "display_name": "Python 3",
   "language": "python",
   "name": "python3"
  }
 },
 "nbformat": 4,
 "nbformat_minor": 2
}
